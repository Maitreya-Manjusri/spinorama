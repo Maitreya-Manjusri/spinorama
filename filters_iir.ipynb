{
 "cells": [
  {
   "cell_type": "code",
   "execution_count": null,
   "metadata": {},
   "outputs": [],
   "source": [
    "import math\n",
    "import logging\n",
    "import numpy as np\n",
    "import pandas as pd\n",
    "import scipy.signal as sig\n",
    "import altair as alt\n",
    "\n",
    "from src.spinorama.load import graph_melt\n",
    "from src.spinorama.load.parse import parse_graphs_speaker, normalize\n",
    "from src.spinorama.load.rewseq import parse_eq_iir_rews\n",
    "from src.spinorama.graph import graph_spinorama, graph_freq\n",
    "from src.spinorama.normalize import normalize_mean, normalize_cea2034\n",
    "from src.spinorama.scores import speaker_pref_rating\n",
    "from src.spinorama.cea2034 import compute_cea2034, estimated_inroom_HV, spl2pressure, pressure2spl\n",
    "from src.spinorama.iir import Biquad"
   ]
  },
  {
   "cell_type": "code",
   "execution_count": null,
   "metadata": {},
   "outputs": [],
   "source": [
    "# df_speaker = parse_graphs_speaker('Genelec', 'Genelec 8341A')\n",
    "# df_speaker = parse_graphs_speaker('Focal', 'Focal Aria 906')\n",
    "# df_speaker = parse_graphs_speaker('Elac', 'Elac Debut 2.0 B6.2')\n",
    "df_speaker = parse_graphs_speaker('Adam', 'Adam S2V')\n",
    "\n",
    "g_params = {'xmin': 20, 'xmax': 20000, 'ymin': -50, 'ymax': 10, 'width': 400, 'height': 250}\n",
    "# graph_freq(df_speaker['SPL Horizontal'], g_params) | graph_freq(df_speaker['SPL Vertical'], g_params)\n",
    "spin  = df_speaker['CEA2034_unmelted']\n",
    "pir   = estimated_inroom_HV(df_speaker['SPL Horizontal_unmelted'], df_speaker['SPL Vertical_unmelted'])\n",
    "score = speaker_pref_rating(graph_melt(spin), graph_melt(pir))\n",
    "\n",
    "# graph_spinorama(df_speaker['CEA2034'], g_params)\n",
    "\n",
    "#on = iir_graph(spin, 'On Axis', my_peq)\n",
    "#lw = iir_graph(spin, 'Listening Window', my_peq)\n",
    "#sp = iir_graph(spin, 'Sound Power', my_peq)\n",
    "#er = iir_graph(spin, 'Early Reflections', my_peq)\n",
    "\n",
    "#((on | lw) & (sp | er))\n",
    "\n",
    "#splH = df_speaker['SPL Horizontal_unmelted']\n",
    "#on = iir_graph(splH, 'On Axis', my_peq)\n",
    "#h10 = iir_graph(splH, '10°', my_peq)\n",
    "#h40 = iir_graph(splH, '40°', my_peq)\n",
    "#h70 = iir_graph(splH, '70°', my_peq)\n",
    "#h120 = iir_graph(splH, '120°', my_peq)\n",
    "#h170 = iir_graph(splH, '170°', my_peq)\n",
    "\n",
    "#(on | h10) & (h40 | h70) & (h120|h170)"
   ]
  },
  {
   "cell_type": "code",
   "execution_count": null,
   "metadata": {},
   "outputs": [],
   "source": [
    "def parametric_eq_build(freq, peq):\n",
    "    filter = 0\n",
    "    for w, iir in peq:\n",
    "        filter += w*np.array([iir.log_result(f) for f in freq])\n",
    "    return filter\n",
    "\n",
    "\n",
    "def parametric_eq_apply(spl, peq):\n",
    "    filter = 0\n",
    "    for w, iir in peq:\n",
    "        filter += w*np.array([iir(v) for v in spl])\n",
    "    return filter\n",
    "\n",
    "\n",
    "def iir_graph(spin, measurement, peq):\n",
    "    spin_freq   = spin['Freq'].to_numpy()\n",
    "    mean = np.mean(spin.loc[(spin.Freq>500) & (spin.Freq<10000)]['On Axis'])\n",
    "    curve = spin[measurement]-mean\n",
    "    filter = parametric_eq_build(spin_freq, peq)\n",
    "    curve_filtered = parametric_eq_apply(curve, peq)\n",
    "    dff = pd.DataFrame({'Freq': spin_freq, measurement: curve, '{0} Filtered'.format(measurement): curve_filtered, 'Filter': filter})\n",
    "    return alt.Chart(graph_melt(dff)).mark_line(clip=True).encode(\n",
    "        x=alt.X('Freq:Q', scale=alt.Scale(type='log', nice=False, domain=[20, 20000])),\n",
    "        y=alt.Y('dB:Q', scale=alt.Scale(domain=[-25, 5])),\n",
    "        color=alt.Color('Measurements')\n",
    "    )\n",
    "\n",
    "def iir_apply(spl, peq):\n",
    "    freq   = spl['Freq'].to_numpy()\n",
    "    mean = np.mean(spl.loc[(spin.Freq>500) & (spl.Freq<10000)]['On Axis'])\n",
    "    ddf = []\n",
    "    ddf.append(pd.DataFrame({'Freq': freq}))\n",
    "    for angle in spl.keys():\n",
    "        if angle == 'Freq':\n",
    "            continue\n",
    "        curve = spl[angle]-mean\n",
    "        # curve_filtered = curve+parametric_eq_apply(curve, peq)\n",
    "        curve_filtered = curve+parametric_eq_build(freq, peq)\n",
    "        # print('{0:7s} range [{1:.1f}, {2:.1f}] filtered [{3:.1f}, {4:.1f}]'.format(angle, np.min(curve), np.max(curve), np.min(curve_filtered), np.max(curve_filtered)))\n",
    "        # print(curve, curve_filtered)\n",
    "        ddf.append(pd.DataFrame({angle: curve_filtered}))\n",
    "    return pd.concat(ddf, axis=1)\n",
    "\n"
   ]
  },
  {
   "cell_type": "code",
   "execution_count": null,
   "metadata": {},
   "outputs": [],
   "source": [
    "my_fs = 48000\n",
    "my_peq = [\n",
    "    (0, Biquad(Biquad.HIGHPASS, 50, my_fs, 0.2, 1)),\n",
    "    (1, Biquad(Biquad.PEAK, 715, my_fs, 8, -2.8)),\n",
    "    (0, Biquad(Biquad.NOTCH, 1400, my_fs, 0.1, 0.1)),\n",
    "]\n",
    "\n",
    "my_peq = parse_eq_iir_rews('./datas/eq/Adam S2V/iir.txt', my_fs)\n",
    "ddf_horizontal = iir_apply(df_speaker['SPL Horizontal_unmelted'], my_peq)\n",
    "ddf_vertical   = iir_apply(df_speaker['SPL Vertical_unmelted'], my_peq)\n",
    "\n",
    "spin_filtered = normalize(graph_melt(compute_cea2034(ddf_horizontal, ddf_vertical)))\n",
    "pir_filtered  = normalize(graph_melt(estimated_inroom_HV(ddf_horizontal, ddf_vertical)))\n",
    "score_filtered = speaker_pref_rating(spin_filtered, pir_filtered)"
   ]
  },
  {
   "cell_type": "code",
   "execution_count": null,
   "metadata": {},
   "outputs": [],
   "source": [
    "for i in range(0, len(my_peq)):\n",
    "    if my_peq[i][0] != 0:\n",
    "        print(my_peq[i][1])\n",
    "print('         SPK FLT')\n",
    "print('-----------------')\n",
    "print('NBD  ON {0:0.2f} {1:0.2f}'.format(score['nbd_on_axis'], score_filtered['nbd_on_axis']))\n",
    "print('NBD  LW {0:0.2f} {1:0.2f}'.format(score['nbd_listening_window'], score_filtered['nbd_listening_window']))\n",
    "print('NBD PIR {0:0.2f} {1:0.2f}'.format(score['nbd_pred_in_room'], score_filtered['nbd_pred_in_room']))\n",
    "print('SM  PIR {0:0.2f} {1:0.2f}'.format(score['sm_pred_in_room'], score_filtered['sm_pred_in_room']))\n",
    "print('SM   SP {0:0.2f} {1:0.2f}'.format(score['sm_sound_power'], score_filtered['sm_sound_power']))\n",
    "print('LFX       {0}   {1}'.format(score['lfx_hz'], score_filtered['lfx_hz']))\n",
    "print('LFQ     {0} {1}'.format(score['lfq'], score_filtered['lfq']))\n",
    "print('-----------------')\n",
    "print('Score    {0}  {1}'.format(score['pref_score'], score_filtered['pref_score']))\n",
    "print('-----------------')"
   ]
  },
  {
   "cell_type": "code",
   "execution_count": null,
   "metadata": {},
   "outputs": [],
   "source": [
    "graph_spinorama(df_speaker['CEA2034'], g_params) | graph_spinorama(spin_filtered, g_params)"
   ]
  },
  {
   "cell_type": "code",
   "execution_count": null,
   "metadata": {},
   "outputs": [],
   "source": []
  }
 ],
 "metadata": {
  "kernelspec": {
   "display_name": "Python 3",
   "language": "python",
   "name": "python3"
  },
  "language_info": {
   "codemirror_mode": {
    "name": "ipython",
    "version": 3
   },
   "file_extension": ".py",
   "mimetype": "text/x-python",
   "name": "python",
   "nbconvert_exporter": "python",
   "pygments_lexer": "ipython3",
   "version": "3.7.7"
  }
 },
 "nbformat": 4,
 "nbformat_minor": 4
}
