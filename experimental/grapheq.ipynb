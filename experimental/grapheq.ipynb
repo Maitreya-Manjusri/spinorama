{
 "cells": [
  {
   "cell_type": "code",
   "execution_count": null,
   "id": "d3ed11aa-2571-4b45-8f05-60f91b97f397",
   "metadata": {},
   "outputs": [],
   "source": [
    "import math\n",
    "import numpy as np\n",
    "import pandas as pd\n",
    "import scipy.optimize as opt\n",
    "import plotly as plt\n",
    "import plotly.express as pe\n",
    "\n",
    "from spinorama.filter_iir import Biquad\n",
    "from spinorama.filter_peq import peq_build"
   ]
  },
  {
   "cell_type": "code",
   "execution_count": null,
   "id": "f88a9be1-83ad-4e1f-9d01-af6500c624d2",
   "metadata": {},
   "outputs": [],
   "source": [
    "freq = []\n",
    "target = []\n",
    "with open('debug_target_01.txt') as fd:\n",
    "    lines = fd.readlines()\n",
    "    for line in lines:\n",
    "        tok = line.split()\n",
    "        freq.append(float(tok[0]))\n",
    "        target.append(float(tok[1]))"
   ]
  },
  {
   "cell_type": "code",
   "execution_count": null,
   "id": "b0de0e9b-9bfd-4410-a1e2-09492a21f416",
   "metadata": {},
   "outputs": [],
   "source": [
    "plt_target = pe.line(x=freq, y=target, log_x=True)\n",
    "# plt_target"
   ]
  },
  {
   "cell_type": "code",
   "execution_count": null,
   "id": "3532a544-4ce0-4eb1-b3ca-9a464d3d0c36",
   "metadata": {},
   "outputs": [],
   "source": [
    "auto_type = 3\n",
    "auto_freq = np.array([20,25,31.5,40,50,63,80,100,125,160,200,250,315,400,\n",
    "            500,630,800,1000,1250,1600,2000,2500,3150,4000,5000,\n",
    "            6300,8000,10000,12000,16000,20000])\n",
    "auto_q    = math.sqrt(math.pow(2, 1/3)) / (math.pow(2, 1/3)-1)\n",
    "auto_db   = np.zeros(len(auto_freq))\n",
    "auto_peq  = [ (1.0, Biquad(auto_type, float(f), 48000, auto_q, float(db))) for f, db in zip(auto_freq, auto_db) ]"
   ]
  },
  {
   "cell_type": "code",
   "execution_count": null,
   "id": "01de5f41-c0c3-4c97-a5af-8ec8564ca31a",
   "metadata": {},
   "outputs": [],
   "source": [
    "def guess(param=1.0, shift=None):\n",
    "    guess_db = []\n",
    "    for i, f in enumerate(auto_freq):\n",
    "        if f < freq[0] or f > freq[-1]:\n",
    "            db = 0.0\n",
    "        else:\n",
    "            db = np.interp(f, freq, target)*param\n",
    "            if shift is not None:\n",
    "                db += shift[i][1]\n",
    "            # 0.25\n",
    "            db = round(db*4)/4\n",
    "        guess_db.append(db)\n",
    "    auto_peq  = [ (1.0, Biquad(auto_type, float(f), 48000, auto_q, float(db))) \n",
    "                 for f, db in zip(auto_freq, guess_db)]\n",
    "    return auto_peq\n",
    "    "
   ]
  },
  {
   "cell_type": "code",
   "execution_count": null,
   "id": "0c20c828-6f7e-458f-b786-db6aea6d2d86",
   "metadata": {},
   "outputs": [],
   "source": [
    "def compute_delta(param, shift):\n",
    "    current_peq = guess(param, shift)\n",
    "    peq_values = peq_build(auto_freq, current_peq)\n",
    "    peq_expend = [np.interp(f, auto_freq, peq_values) for f in freq]\n",
    "    delta = np.array(peq_expend)-np.array(target)\n",
    "    return delta\n",
    "\n",
    "def compute_error(param, shift=None):\n",
    "    delta = compute_delta(param, shift)\n",
    "    error = np.linalg.norm(delta)\n",
    "    return error\n",
    "\n",
    "params = np.linspace(0.1, 1.4, 100)\n",
    "errors = [compute_error(p, None) for p in params]\n",
    "pe.line(x=params, y=errors)"
   ]
  },
  {
   "cell_type": "code",
   "execution_count": null,
   "id": "1ffa8a2f-0d73-4e8a-8c23-091e7c92c51a",
   "metadata": {},
   "outputs": [],
   "source": [
    "res = opt.minimize(\n",
    "    fun=lambda x: compute_error(x[0]), \n",
    "    x0=0.2, \n",
    "    bounds=[(0.1, 1.4)],\n",
    "    method='Powell',\n",
    ")\n",
    "\n",
    "opt_param = res.x[0]\n",
    "\n",
    "auto_eq = guess(opt_param)\n",
    "delta = compute_delta(opt_param, None)\n",
    "plt = pe.line(x=freq, y=delta, log_x=True)\n",
    "plt.add_scatter(x=freq,y=peq_build(np.array(freq), auto_eq))\n",
    "plt.add_scatter(x=freq, y=target)\n",
    "plt"
   ]
  },
  {
   "cell_type": "code",
   "execution_count": null,
   "id": "f3a5f378-f218-413c-a85c-3846c2261f6f",
   "metadata": {},
   "outputs": [],
   "source": [
    "plt = pe.line(x=freq, y=target, log_x=True)\n",
    "\n",
    "for _, peq in auto_eq:\n",
    "    plt.add_scatter(x=freq, y=peq_build(np.array(freq), [(1.0,peq)]))\n",
    "    \n",
    "plt    "
   ]
  },
  {
   "cell_type": "code",
   "execution_count": null,
   "id": "b5e5485c-8e4b-47e8-bf31-ff7654387e09",
   "metadata": {},
   "outputs": [],
   "source": [
    "min_error = 1000\n",
    "min_f = 0\n",
    "min_p = 0\n",
    "errors = []\n",
    "params = np.linspace(-6, 6, 12*4+1)\n",
    "shift = [(0,0) for i in range(len(auto_freq))]\n",
    "best_shift = []\n",
    "for i, f in enumerate(auto_freq):\n",
    "    add = False\n",
    "    for p in params:\n",
    "        shift[i] = (f, p)\n",
    "        error = compute_error(p, shift)\n",
    "        if error < min_error:\n",
    "            min_error = error\n",
    "            min_f     = f\n",
    "            min_p     = p\n",
    "            add = True\n",
    "    if add:\n",
    "        best_shift.append((min_f, min_p))\n",
    "        print('best {} at f={}hz spl={}dB'.format(min_error, min_f, min_p))\n",
    "    else:\n",
    "        best_shift.append((f, 0))\n",
    "\n",
    "best_shift"
   ]
  },
  {
   "cell_type": "code",
   "execution_count": null,
   "id": "e731e41d-3e9a-401b-9321-d11fdf095d0c",
   "metadata": {},
   "outputs": [],
   "source": [
    "opt_param = 0.65\n",
    "auto_eq_prev = guess(opt_param, None)\n",
    "auto_eq_optim= guess(opt_param, best_shift)\n",
    "delta = compute_delta(opt_param, best_shift)\n",
    "print(np.linalg.norm(delta))\n",
    "plt = pe.line(x=freq, y=delta, log_x=True)\n",
    "plt.add_scatter(x=freq,y=peq_build(np.array(freq), auto_eq_prev))\n",
    "plt.add_scatter(x=freq,y=peq_build(np.array(freq), auto_eq_optim))\n",
    "plt.add_scatter(x=freq, y=target)\n",
    "plt"
   ]
  },
  {
   "cell_type": "code",
   "execution_count": null,
   "id": "999ee743-e83f-4c93-8b47-5667667c61d8",
   "metadata": {
    "tags": []
   },
   "outputs": [],
   "source": [
    "res = opt.minimize(\n",
    "    fun=lambda x: compute_error(x[0]), \n",
    "    x0=0.2, \n",
    "    bounds=[(0.1, 1.4)],\n",
    "    method='Powell',\n",
    ")\n",
    "res.x[0]"
   ]
  },
  {
   "cell_type": "raw",
   "id": "519bc79c-b5cd-4241-b496-f0a8b0785eef",
   "metadata": {},
   "source": [
    "compute_error(0.5)"
   ]
  },
  {
   "cell_type": "code",
   "execution_count": null,
   "id": "e93a207a-b71a-48b4-a7ed-b40cb7d53727",
   "metadata": {},
   "outputs": [],
   "source": [
    "compute_error(0.65)"
   ]
  },
  {
   "cell_type": "code",
   "execution_count": null,
   "id": "7a7be8d2-425e-4e9e-a0b4-2977e3077f6b",
   "metadata": {},
   "outputs": [],
   "source": []
  }
 ],
 "metadata": {
  "kernelspec": {
   "display_name": "Python 3 (ipykernel)",
   "language": "python",
   "name": "python3"
  },
  "language_info": {
   "codemirror_mode": {
    "name": "ipython",
    "version": 3
   },
   "file_extension": ".py",
   "mimetype": "text/x-python",
   "name": "python",
   "nbconvert_exporter": "python",
   "pygments_lexer": "ipython3",
   "version": "3.10.6"
  }
 },
 "nbformat": 4,
 "nbformat_minor": 5
}
