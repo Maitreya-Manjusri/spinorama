{
 "cells": [
  {
   "cell_type": "markdown",
   "metadata": {},
   "source": [
    "# perf improvement for IIR filter"
   ]
  },
  {
   "cell_type": "code",
   "execution_count": 3,
   "metadata": {},
   "outputs": [],
   "source": [
    "import math\n",
    "import numpy as np"
   ]
  },
  {
   "cell_type": "code",
   "execution_count": 72,
   "metadata": {},
   "outputs": [],
   "source": [
    "freq = np.logspace(1+math.log10(2), 4+math.log10(2), 200)"
   ]
  },
  {
   "cell_type": "code",
   "execution_count": 73,
   "metadata": {},
   "outputs": [],
   "source": [
    "import sys,os,os.path\n",
    "sys.path.append(os.path.expanduser('../src'))\n",
    "\n",
    "from spinorama.filter_iir import Biquad"
   ]
  },
  {
   "cell_type": "code",
   "execution_count": 80,
   "metadata": {},
   "outputs": [
    {
     "name": "stdout",
     "output_type": "stream",
     "text": [
      "Error: 1.9984014443252818e-15 1.9984014443252818e-15\n"
     ]
    }
   ],
   "source": [
    "peak = Biquad(3, 1000, 48000, 1, 3)\n",
    "\n",
    "peq_slow = np.array([20.0*math.log10(peak.resultSlow(f)) for f in freq])\n",
    "peq_fast = np.array([20.0*math.log10(peak.result(f)) for f in freq])\n",
    "\n",
    "def vresult(biquad, f):\n",
    "    phi = np.sin(math.pi * f * 2 / (2 * biquad.srate))**2\n",
    "    phi2 = phi**2\n",
    "    r = (biquad.r_up0 + biquad.r_up1 * phi + biquad.r_up2 * phi2) / (biquad.r_dw0 + biquad.r_dw1 * phi + biquad.r_dw2 * phi2)\n",
    "    return np.where(r<=0.0, -200, 20*np.log10(np.sqrt(r)))\n",
    "\n",
    "peq_vec1 = vresult(peak, freq)\n",
    "print('Error: {} {}'.format(\n",
    "    np.max(peq_slow-peq_fast),\n",
    "    np.max(peq_slow-peq_vec1)))"
   ]
  },
  {
   "cell_type": "code",
   "execution_count": 81,
   "metadata": {},
   "outputs": [
    {
     "name": "stdout",
     "output_type": "stream",
     "text": [
      "181 µs ± 547 ns per loop (mean ± std. dev. of 7 runs, 10000 loops each)\n"
     ]
    }
   ],
   "source": [
    "%timeit [20.0*math.log10(peak.result(f)) for f in freq]"
   ]
  },
  {
   "cell_type": "code",
   "execution_count": 76,
   "metadata": {},
   "outputs": [
    {
     "name": "stdout",
     "output_type": "stream",
     "text": [
      "271 µs ± 810 ns per loop (mean ± std. dev. of 7 runs, 1000 loops each)\n"
     ]
    }
   ],
   "source": [
    "%timeit [20.0*math.log10(peak.resultSlow(f)) for f in freq]"
   ]
  },
  {
   "cell_type": "code",
   "execution_count": 78,
   "metadata": {},
   "outputs": [],
   "source": [
    "def vresult(biquad, f):\n",
    "    phi = np.sin(math.pi * f * 2 / (2 * biquad.srate))**2\n",
    "    phi2 = phi**2\n",
    "    r = (biquad.r_up0 + biquad.r_up1 * phi + biquad.r_up2 * phi2) / (biquad.r_dw0 + biquad.r_dw1 * phi + biquad.r_dw2 * phi2)\n",
    "    return np.where(r<=0.0, -200, 20*np.log10(np.sqrt(r)))"
   ]
  },
  {
   "cell_type": "code",
   "execution_count": 79,
   "metadata": {},
   "outputs": [
    {
     "name": "stdout",
     "output_type": "stream",
     "text": [
      "13.9 µs ± 28.1 ns per loop (mean ± std. dev. of 7 runs, 100000 loops each)\n"
     ]
    }
   ],
   "source": [
    "%timeit vresult(peak, freq)"
   ]
  },
  {
   "cell_type": "code",
   "execution_count": null,
   "metadata": {},
   "outputs": [],
   "source": []
  }
 ],
 "metadata": {
  "kernelspec": {
   "display_name": "Python 3",
   "language": "python",
   "name": "python3"
  },
  "language_info": {
   "codemirror_mode": {
    "name": "ipython",
    "version": 3
   },
   "file_extension": ".py",
   "mimetype": "text/x-python",
   "name": "python",
   "nbconvert_exporter": "python",
   "pygments_lexer": "ipython3",
   "version": "3.8.5"
  }
 },
 "nbformat": 4,
 "nbformat_minor": 4
}
