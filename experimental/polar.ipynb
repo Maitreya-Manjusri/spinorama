{
 "cells": [
  {
   "cell_type": "code",
   "execution_count": null,
   "metadata": {},
   "outputs": [],
   "source": [
    "import math\n",
    "import numpy as np\n",
    "import pandas as pd\n",
    "import altair as alt"
   ]
  },
  {
   "cell_type": "code",
   "execution_count": null,
   "metadata": {},
   "outputs": [],
   "source": [
    "import sys,os,os.path\n",
    "sys.path.append(os.path.expanduser('../src'))\n",
    "                \n",
    "def transform_id_x(x, y):\n",
    "    return x\n",
    "def transform_id_y(x, y):\n",
    "    return y"
   ]
  },
  {
   "cell_type": "code",
   "execution_count": null,
   "metadata": {},
   "outputs": [],
   "source": [
    "from spinorama.load import graph_melt\n",
    "import flammkuchen as fl\n",
    "from spinorama.graph_contour import compute_contour\n",
    "from spinorama.graph import contour_params_default, graph_contour_common\n",
    "\n",
    "df_all = fl.load('../cache.parse_all_speakers.h5')"
   ]
  },
  {
   "cell_type": "code",
   "execution_count": null,
   "metadata": {},
   "outputs": [],
   "source": [
    "df = df_all['Genelec 8341A']['ASR']['asr']\n",
    "print(df.keys())"
   ]
  },
  {
   "cell_type": "code",
   "execution_count": null,
   "metadata": {},
   "outputs": [],
   "source": [
    "dfu = df['SPL Vertical_unmelted']\n",
    "af, am, az = compute_contour(dfu.loc[dfu.Freq>100])\n",
    "print(len(af[0]), len(am[:,0]), az.shape )\n",
    "print(af[0][0:3])\n",
    "print(am[:,0])"
   ]
  },
  {
   "cell_type": "code",
   "execution_count": null,
   "metadata": {},
   "outputs": [],
   "source": [
    "graph_width = 1024\n",
    "from spinorama.graph_isobands import find_isobands\n",
    "graph_height = 720\n",
    "\n",
    "def transform_log(x, y):\n",
    "    return 6*np.log10(x)*graph_width/776\n",
    "\n",
    "def transform_radian(x, y):\n",
    "    return 1.325*y/180*math.pi*graph_height/360\n",
    "\n",
    "bands = [-72, -18, -15, -12, -9, -6, -3, +3]\n",
    "df_iso = find_isobands(af, am, az.T, bands, transform_log, transform_radian)\n",
    "\n",
    "color_legend = ['[{0}, {1}]'.format(bands[i], bands[i+1]) for i in range(0, len(bands)-1)] + ['>{0}'.format(bands[-1])]\n",
    "color_range = ['black', 'blue', 'steelblue', 'green', 'yellow', 'orange', 'red', 'white']\n",
    "\n",
    "print(color_legend)\n",
    "\n",
    "isobands = alt.Chart(alt.Data(values=df_iso['features'])\n",
    ").mark_geoshape(\n",
    "    stroke='red',\n",
    "    strokeWidth=0\n",
    ").encode(\n",
    "    # alt.Color('properties.z_low:Q', scale=alt.Scale(scheme='inferno'), title = \"IsoBands\")\n",
    "    alt.Color('properties.z_low:O', \n",
    "              scale=alt.Scale(zero=False, domain=bands, range=color_range), \n",
    "              legend=alt.Legend(orient='bottom', title='Relative dB SPL'))\n",
    ").project('identity'\n",
    ").properties(\n",
    "    width=graph_width,\n",
    "    height=graph_height\n",
    ")"
   ]
  },
  {
   "cell_type": "code",
   "execution_count": null,
   "metadata": {},
   "outputs": [],
   "source": [
    "empty = pd.DataFrame({'Freq', 'Angle'})\n",
    "yTicks = [-180+30*i for i in range(0,13)]\n",
    "print(yTicks)\n",
    "legends = alt.Chart(empty).mark_point(clip=True).encode(\n",
    "    x=alt.X('x:Q', scale=alt.Scale(type='log', nice=False, domain=[20, 20000]), title='Frequency (Hz)'),\n",
    "    y=alt.Y('y:Q', scale=alt.Scale(nice=False, domain=[-180, 180]), axis=alt.Axis(format='.0d', values=yTicks, title='Angle')), \n",
    ").properties(\n",
    "    width=graph_width,\n",
    "    height=graph_height\n",
    ")"
   ]
  },
  {
   "cell_type": "code",
   "execution_count": null,
   "metadata": {},
   "outputs": [],
   "source": [
    "isobands + legends"
   ]
  },
  {
   "cell_type": "code",
   "execution_count": null,
   "metadata": {},
   "outputs": [],
   "source": [
    "def transform_polar_r(x, y):\n",
    "    a = y*math.pi/180\n",
    "    return np.log10(x/20)*np.cos(a)\n",
    "\n",
    "def transform_polar_theta(x, y):\n",
    "    a = y*math.pi/180\n",
    "    return np.log10(x/20)*np.sin(a)\n",
    "\n",
    "\n",
    "df_polar = find_isobands(af, am, az.T, bands, transform_polar_r, transform_polar_theta, False, False)\n",
    "polar = alt.Chart(alt.Data(values=df_polar['features'])\n",
    ").mark_geoshape(\n",
    "    strokeWidth=0\n",
    ").encode(\n",
    "    alt.Color('properties.z_low:O', \n",
    "              scale=alt.Scale(zero=False, domain=bands, range=color_range), \n",
    "              legend=alt.Legend(orient='bottom', title='Relative dB SPL'))\n",
    ").project('identity'\n",
    ").properties(\n",
    "    width=graph_width-40,\n",
    "    height=graph_height-40\n",
    ")"
   ]
  },
  {
   "cell_type": "code",
   "execution_count": null,
   "metadata": {},
   "outputs": [],
   "source": [
    "# polar"
   ]
  },
  {
   "cell_type": "code",
   "execution_count": null,
   "metadata": {},
   "outputs": [],
   "source": [
    "from spinorama.graph_radar import grid_grid, grid_circle, grid_text"
   ]
  },
  {
   "cell_type": "code",
   "execution_count": null,
   "metadata": {},
   "outputs": [],
   "source": [
    "anglelist = [a for a in range(180, -180, -30)]"
   ]
  },
  {
   "cell_type": "code",
   "execution_count": null,
   "metadata": {},
   "outputs": [],
   "source": [
    "grid_df = grid_grid(anglelist)\n",
    "circle_df, circle_text = grid_circle(anglelist, 100)\n",
    "text_df = grid_text(anglelist)"
   ]
  },
  {
   "cell_type": "code",
   "execution_count": null,
   "metadata": {},
   "outputs": [],
   "source": [
    "grid = alt.Chart(grid_df).mark_line(\n",
    "    color='#FFFFFF'\n",
    ").encode(\n",
    "    alt.Latitude('x:Q'), \n",
    "    alt.Longitude('y:Q'), \n",
    "    size=alt.value(1),\n",
    "    opacity=alt.value(0.5)\n",
    ").project(type='azimuthalEquidistant', rotate=[0, 0, 270])\n",
    "\n",
    "circle = alt.Chart(circle_df).mark_line(\n",
    "    color='#FFFFFF'\n",
    ").encode(\n",
    "    alt.Latitude('x:Q'),\n",
    "    alt.Longitude('y:Q'),\n",
    "    alt.Color('value:Q', legend=None),\n",
    "    size=alt.value(0.5),\n",
    "    opacity=alt.value(0.5)\n",
    ").project(\n",
    "    type='azimuthalEquidistant',\n",
    "    rotate=[0, 0, 270]\n",
    ")\n",
    "    \n",
    "legend = alt.Chart(circle_text).mark_text(\n",
    "        dx=15,\n",
    "        dy=-10\n",
    "    ).encode(\n",
    "        alt.Latitude('x:Q'), \n",
    "        alt.Longitude('y:Q'), \n",
    "        text='text:O'\n",
    "    ).project(type='azimuthalEquidistant', rotate=[0, 0, 270])\n",
    "        \n",
    "text = alt.Chart(text_df).mark_text(\n",
    ").encode(\n",
    "    alt.Latitude('x:Q'), \n",
    "    alt.Longitude('y:Q'), \n",
    "    text='text:O'\n",
    ").project(type='azimuthalEquidistant', rotate=[0, 0, 270])\n"
   ]
  },
  {
   "cell_type": "code",
   "execution_count": null,
   "metadata": {},
   "outputs": [],
   "source": [
    "polar+grid+circle+legend+text"
   ]
  },
  {
   "cell_type": "code",
   "execution_count": null,
   "metadata": {},
   "outputs": [],
   "source": []
  },
  {
   "cell_type": "code",
   "execution_count": null,
   "metadata": {},
   "outputs": [],
   "source": []
  }
 ],
 "metadata": {
  "kernelspec": {
   "display_name": "Python 3",
   "language": "python",
   "name": "python3"
  },
  "language_info": {
   "codemirror_mode": {
    "name": "ipython",
    "version": 3
   },
   "file_extension": ".py",
   "mimetype": "text/x-python",
   "name": "python",
   "nbconvert_exporter": "python",
   "pygments_lexer": "ipython3",
   "version": "3.8.5"
  }
 },
 "nbformat": 4,
 "nbformat_minor": 4
}
