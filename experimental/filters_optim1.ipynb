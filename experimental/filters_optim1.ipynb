{
 "cells": [
  {
   "cell_type": "code",
   "execution_count": null,
   "metadata": {},
   "outputs": [],
   "source": [
    "import math\n",
    "import logging\n",
    "import numpy as np\n",
    "import pandas as pd\n",
    "import scipy.signal as sig\n",
    "from scipy.stats import linregress\n",
    "from scipy.interpolate import InterpolatedUnivariateSpline\n",
    "import altair as alt\n",
    "import flammkuchen as fl\n",
    "from ray import tune\n",
    "from ray.tune import ProgressReporter, JupyterNotebookReporter\n",
    "\n",
    "import sys,os,os.path\n",
    "sys.path.append(os.path.expanduser('../src'))\n",
    "\n",
    "from spinorama.filter_iir import Biquad\n",
    "from spinorama.filter_peq import peq_build, peq_print\n",
    "from spinorama.load import graph_melt\n",
    "from spinorama.load_rewseq import parse_eq_iir_rews\n",
    "from spinorama.graph import graph_spinorama, graph_freq\n",
    "from spinorama.compute_scores import scores\n",
    "from spinorama.filter_scores import scores_apply_filter, scores_print, scores_loss"
   ]
  },
  {
   "cell_type": "code",
   "execution_count": null,
   "metadata": {},
   "outputs": [],
   "source": [
    "df_all_speakers = fl.load('../cache.parse_all_speakers.h5')"
   ]
  },
  {
   "cell_type": "code",
   "execution_count": null,
   "metadata": {},
   "outputs": [],
   "source": [
    "df_speaker = df_all_speakers['KEF LS50']['ASR']['asr']\n",
    "df_speaker.keys()\n",
    "original_mean = df_speaker['CEA2034_original_mean']"
   ]
  },
  {
   "cell_type": "code",
   "execution_count": null,
   "metadata": {},
   "outputs": [],
   "source": [
    "g_params = {'xmin': 20, 'xmax': 20000, 'ymin': -50, 'ymax': 10, 'width': 400, 'height': 250}\n",
    "score = scores(df_speaker)\n",
    "# print(score)\n",
    "# print(score['pref_score'])"
   ]
  },
  {
   "cell_type": "code",
   "execution_count": null,
   "metadata": {},
   "outputs": [],
   "source": [
    "df = df_speaker['CEA2034_unmelted'].loc[:,{'Freq', 'Listening Window'}]\n",
    "freq = df.loc[df['Freq']>300,'Freq'].values\n",
    "lw = df.loc[df['Freq']>300,'Listening Window'].values\n",
    "slope, intercept, r_value, p_value, std_err = linregress(freq,lw)\n",
    "\n",
    "global_target = lw-[(slope*freq[i]+intercept) for i in range(0, len(freq))]\n",
    "global_peq = []\n",
    "\n",
    "for i in range(0, 10):\n",
    "\n",
    "    # currently a line between 300Hz and 20kHz\n",
    "    target = global_target+peq_build(freq, global_peq)\n",
    "    \n",
    "    # greedy strategy: look for highest peak\n",
    "    n = 1\n",
    "    indice_max = np.argpartition(target, n-1)[:n]\n",
    "    init_freq = freq[indice_max[0]]\n",
    "# OOPS    if init_freq in getout\n",
    "    init_freq_min = max(init_freq*0.9, 20)\n",
    "    init_freq_max = min(init_freq*1.1, 20000)\n",
    "    init_freq_range = np.linspace(init_freq_min,  init_freq_max, 5).tolist()\n",
    "    print('Debug: freq min {}Hz peak {}Hz max {}Hz'.format(init_freq_min, init_freq, init_freq_max))\n",
    "    \n",
    "    # estimate area\n",
    "    spline = InterpolatedUnivariateSpline(np.log10(freq), target, k=1)\n",
    "    init_dbGain = spline(np.log10(indice_max))[0]\n",
    "    init_dbGain_min = -12 # max(init_dbGain/5, 0.5)\n",
    "    init_dbGain_max = 12  # min(init_dbGain+2, 12)\n",
    "    init_dbGain_range = np.linspace(init_dbGain_min, init_dbGain_max, 50).tolist()\n",
    "    print('Debug: gain min {}dB peak {}dB max {}dB'.format(init_dbGain_min, init_dbGain, init_dbGain_max))\n",
    "    \n",
    "    # range for Q\n",
    "    init_Q_range = np.linspace(1, 5, 10).tolist()\n",
    "\n",
    "    \n",
    "    def lw_loss(delta, peq):\n",
    "        return np.linalg.norm(delta+peq_build(freq, peq))\n",
    "\n",
    "    def lw_optimizer(config, checkpoint_dir = '/var/vm/checkpoints'):\n",
    "        current_peq = [\n",
    "            (1.0, Biquad(Biquad.PEAK, config['1_freq'], 48000, config['1_Q'], config['1_dbGain'])),\n",
    "        ]\n",
    "        intermediate_score = lw_loss(target, current_peq)\n",
    "        tune.report(mean_loss=intermediate_score)\n",
    "\n",
    "    lw_analysis = tune.run(\n",
    "        lw_optimizer,\n",
    "        config={\n",
    "            \"1_freq\": tune.grid_search(init_freq_range),\n",
    "            \"1_Q\": tune.grid_search(init_Q_range),\n",
    "            \"1_dbGain\": tune.grid_search(init_dbGain_range),\n",
    "        },\n",
    "        progress_reporter=JupyterNotebookReporter(overwrite=True, max_progress_rows=5, max_report_frequency=30, print_intermediate_tables=False),\n",
    "        resources_per_trial={\"cpu\": 1},\n",
    "        metric='mean_loss',\n",
    "        mode='min')\n",
    "    \n",
    "    best = lw_analysis.get_best_trial(metric='mean_loss',mode='min').last_result\n",
    "    print(best)\n",
    "    global_peq.append((1.0, \n",
    "                       Biquad(Biquad.PEAK, \n",
    "                              best['config']['1_freq'],\n",
    "                              48000,\n",
    "                              best['config']['1_Q'],\n",
    "                              best['config']['1_dbGain'])))\n",
    "\n",
    "\n",
    "print(global_peq)"
   ]
  },
  {
   "cell_type": "code",
   "execution_count": null,
   "metadata": {},
   "outputs": [],
   "source": [
    "peq_print(global_peq)"
   ]
  },
  {
   "cell_type": "code",
   "execution_count": null,
   "metadata": {},
   "outputs": [],
   "source": [
    "peq_print(my_peq)"
   ]
  },
  {
   "cell_type": "code",
   "execution_count": null,
   "metadata": {},
   "outputs": [],
   "source": [
    "my_fs = 48000\n",
    "my_peq = parse_eq_iir_rews('../datas/eq/KEF LS50/iir.txt', my_fs)\n",
    "spin_filtered, pir_filtered, score_filtered = scores_apply_filter(df_speaker, my_peq)\n",
    "spin_auto, pir_auto, score_auto = scores_apply_filter(df_speaker, global_peq)\n",
    "scores_print(score, score_filtered)\n",
    "scores_print(score, score_auto)"
   ]
  },
  {
   "cell_type": "code",
   "execution_count": null,
   "metadata": {},
   "outputs": [],
   "source": [
    "graph_spinorama(df_speaker['CEA2034'], g_params) & graph_spinorama(spin_filtered, g_params) & graph_spinorama(spin_auto, g_params)"
   ]
  },
  {
   "cell_type": "code",
   "execution_count": null,
   "metadata": {},
   "outputs": [],
   "source": []
  }
 ],
 "metadata": {
  "kernelspec": {
   "display_name": "Python 3",
   "language": "python",
   "name": "python3"
  },
  "language_info": {
   "codemirror_mode": {
    "name": "ipython",
    "version": 3
   },
   "file_extension": ".py",
   "mimetype": "text/x-python",
   "name": "python",
   "nbconvert_exporter": "python",
   "pygments_lexer": "ipython3",
   "version": "3.8.5"
  }
 },
 "nbformat": 4,
 "nbformat_minor": 4
}
