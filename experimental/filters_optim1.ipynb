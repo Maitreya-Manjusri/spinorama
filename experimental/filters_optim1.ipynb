{
 "cells": [
  {
   "cell_type": "code",
   "execution_count": null,
   "metadata": {},
   "outputs": [],
   "source": [
    "import math\n",
    "import logging\n",
    "import numpy as np\n",
    "import pandas as pd\n",
    "import scipy.signal as sig\n",
    "import altair as alt\n",
    "import flammkuchen as fl\n",
    "\n",
    "import sys,os,os.path\n",
    "sys.path.append(os.path.expanduser('../src'))\n",
    "\n",
    "from spinorama.load import graph_melt\n",
    "from spinorama.load_rewseq import parse_eq_iir_rews\n",
    "from spinorama.graph import graph_spinorama, graph_freq\n",
    "from spinorama.compute_scores import scores\n",
    "from spinorama.filter_scores import scores_apply_filter, scores_print, scores_loss"
   ]
  },
  {
   "cell_type": "code",
   "execution_count": null,
   "metadata": {},
   "outputs": [],
   "source": [
    "df = fl.load('../cache.parse_all_speakers.h5')"
   ]
  },
  {
   "cell_type": "code",
   "execution_count": null,
   "metadata": {},
   "outputs": [],
   "source": [
    "df_speaker = df['Adam S2V']['ASR']['asr']\n",
    "df_speaker.keys()\n",
    "original_mean = df_speaker['CEA2034_original_mean']"
   ]
  },
  {
   "cell_type": "code",
   "execution_count": null,
   "metadata": {},
   "outputs": [],
   "source": [
    "g_params = {'xmin': 20, 'xmax': 20000, 'ymin': -50, 'ymax': 10, 'width': 400, 'height': 250}\n",
    "score = scores(df_speaker)\n",
    "# print(score)\n",
    "# print(score['pref_score'])"
   ]
  },
  {
   "cell_type": "code",
   "execution_count": null,
   "metadata": {},
   "outputs": [],
   "source": [
    "from spinorama.filter_iir import Biquad\n",
    "\n",
    "my_fs = 48000\n",
    "my_peq = parse_eq_iir_rews('../datas/eq/Adam S2V/iir.txt', my_fs)\n",
    "config  =  {'1_freq': 219.55929842190855, '2_freq': 517.5686338139874, '3_freq': 1758.0618073754263, '4_freq': 3543.3617805427602, '5_freq': 5846.110212465421, '6_freq': 8745.622216400916, '1_Q': 4.307275812375801, '2_Q': 9.017958637108, '3_Q': 1.4738724299352968, '4_Q': 1.8797524543356448, '5_Q': 1.7875346196376038, '6_Q': 5.376300685731374, '1_dbGain': 0.18579947496158056, '2_dbGain': 0.3758943841525575, '3_dbGain': -1.550634775091205, '4_dbGain': -2.170016932036555, '5_dbGain': -1.0002544282506474, '6_dbGain': -1.8471388268287416}\n",
    "auto_peq = [\n",
    "    (1.0, Biquad(Biquad.PEAK, config['1_freq'], 48000, config['1_Q'], config['1_dbGain'])),\n",
    "    (1.0, Biquad(Biquad.PEAK, config['2_freq'], 48000, config['2_Q'], config['2_dbGain'])),\n",
    "    (1.0, Biquad(Biquad.PEAK, config['3_freq'], 48000, config['3_Q'], config['3_dbGain'])),\n",
    "    (1.0, Biquad(Biquad.PEAK, config['4_freq'], 48000, config['4_Q'], config['4_dbGain'])),\n",
    "    (1.0, Biquad(Biquad.PEAK, config['5_freq'], 48000, config['5_Q'], config['5_dbGain'])),\n",
    "    (1.0, Biquad(Biquad.PEAK, config['6_freq'], 48000, config['6_Q'], config['6_dbGain'])),\n",
    "]\n",
    "spin_filtered, pir_filtered, score_filtered = scores_apply_filter(df_speaker, my_peq)\n",
    "spin_auto, pir_auto, score_auto = scores_apply_filter(df_speaker, auto_peq)\n",
    "# print(score_filtered)"
   ]
  },
  {
   "cell_type": "code",
   "execution_count": null,
   "metadata": {},
   "outputs": [],
   "source": [
    "scores_print(score, score_filtered)\n",
    "scores_print(score, score_auto)"
   ]
  },
  {
   "cell_type": "code",
   "execution_count": null,
   "metadata": {},
   "outputs": [],
   "source": [
    "graph_spinorama(df_speaker['CEA2034'], g_params) & graph_spinorama(spin_filtered, g_params) & graph_spinorama(spin_auto, g_params)"
   ]
  },
  {
   "cell_type": "code",
   "execution_count": null,
   "metadata": {},
   "outputs": [],
   "source": [
    "from ray import tune\n",
    "from spinorama.filter_iir import Biquad"
   ]
  },
  {
   "cell_type": "markdown",
   "metadata": {},
   "source": [
    "objective function is where df_speaker is fixed\n",
    "scores_apply_filter(df_speaker, my_peq)"
   ]
  },
  {
   "cell_type": "code",
   "execution_count": null,
   "metadata": {},
   "outputs": [],
   "source": [
    "def optimizer(config):\n",
    "    current_peq = [\n",
    "        (1.0, Biquad(Biquad.PEAK, config['1_freq'], 48000, config['1_Q'], config['1_dbGain'])),\n",
    "        (1.0, Biquad(Biquad.PEAK, config['2_freq'], 48000, config['2_Q'], config['2_dbGain'])),   \n",
    "    ]\n",
    "    intermediate_score = scores_loss(df_speaker, current_peq)\n",
    "    tune.report(mean_loss=intermediate_score)\n",
    "\n",
    "\n",
    "analysis = tune.run(\n",
    "    optimizer,\n",
    "    config={\n",
    "        \"1_freq\": tune.grid_search([200, 399, 10]),\n",
    "        \"2_freq\": tune.grid_search([400, 1000, 20]),\n",
    "        \"1_Q\": tune.grid_search([0.1, 10]),\n",
    "        \"2_Q\": tune.grid_search([0.1, 10]),\n",
    "        \"1_dbGain\": tune.grid_search([0.1, 10]),\n",
    "        \"2_dbGain\": tune.grid_search([0.1, 10]),\n",
    "        # \"n_peq\": tune.choice([2])\n",
    "    })\n",
    "\n",
    "print(\"Best config: \", analysis.get_best_config(metric=\"mean_loss\"))\n",
    "\n",
    "# Get a dataframe for analyzing trial results.\n",
    "df = analysis.dataframe()"
   ]
  },
  {
   "cell_type": "code",
   "execution_count": null,
   "metadata": {},
   "outputs": [],
   "source": []
  }
 ],
 "metadata": {
  "kernelspec": {
   "display_name": "Python 3",
   "language": "python",
   "name": "python3"
  },
  "language_info": {
   "codemirror_mode": {
    "name": "ipython",
    "version": 3
   },
   "file_extension": ".py",
   "mimetype": "text/x-python",
   "name": "python",
   "nbconvert_exporter": "python",
   "pygments_lexer": "ipython3",
   "version": "3.8.5"
  }
 },
 "nbformat": 4,
 "nbformat_minor": 4
}
