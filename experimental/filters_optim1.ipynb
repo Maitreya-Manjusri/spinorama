{
 "cells": [
  {
   "cell_type": "code",
   "execution_count": null,
   "metadata": {},
   "outputs": [],
   "source": [
    "import math\n",
    "import logging\n",
    "import numpy as np\n",
    "import pandas as pd\n",
    "import scipy.signal as sig\n",
    "import altair as alt\n",
    "import flammkuchen as fl\n",
    "\n",
    "import sys,os,os.path\n",
    "sys.path.append(os.path.expanduser('../src'))\n",
    "\n",
    "from spinorama.load import graph_melt\n",
    "from spinorama.load_rewseq import parse_eq_iir_rews\n",
    "from spinorama.graph import graph_spinorama, graph_freq\n",
    "from spinorama.compute_scores import scores\n",
    "from spinorama.filter_scores import scores_apply_filter, scores_print"
   ]
  },
  {
   "cell_type": "code",
   "execution_count": null,
   "metadata": {},
   "outputs": [],
   "source": [
    "df = fl.load('../cache.parse_all_speakers.h5')"
   ]
  },
  {
   "cell_type": "code",
   "execution_count": null,
   "metadata": {},
   "outputs": [],
   "source": [
    "df_speaker = df['Adam S2V']['ASR']['asr']\n",
    "df_speaker.keys()\n",
    "original_mean = df_speaker['CEA2034_original_mean']"
   ]
  },
  {
   "cell_type": "code",
   "execution_count": null,
   "metadata": {},
   "outputs": [],
   "source": [
    "g_params = {'xmin': 20, 'xmax': 20000, 'ymin': -50, 'ymax': 10, 'width': 400, 'height': 250}\n",
    "score = scores(df_speaker)\n",
    "# print(score)\n",
    "# print(score['pref_score'])"
   ]
  },
  {
   "cell_type": "code",
   "execution_count": null,
   "metadata": {},
   "outputs": [],
   "source": [
    "my_fs = 48000\n",
    "my_peq = parse_eq_iir_rews('../datas/eq/Adam S2V/iir.txt', my_fs)\n",
    "spin_filtered, pir_filtered, score_filtered = scores_apply_filter(df_speaker, my_peq)\n",
    "# print(score_filtered)"
   ]
  },
  {
   "cell_type": "code",
   "execution_count": null,
   "metadata": {},
   "outputs": [],
   "source": [
    "scores_print(score, score_filtered)"
   ]
  },
  {
   "cell_type": "code",
   "execution_count": null,
   "metadata": {},
   "outputs": [],
   "source": [
    "graph_spinorama(df_speaker['CEA2034'], g_params) | graph_spinorama(spin_filtered, g_params)"
   ]
  },
  {
   "cell_type": "code",
   "execution_count": null,
   "metadata": {},
   "outputs": [],
   "source": []
  }
 ],
 "metadata": {
  "kernelspec": {
   "display_name": "Python 3",
   "language": "python",
   "name": "python3"
  },
  "language_info": {
   "codemirror_mode": {
    "name": "ipython",
    "version": 3
   },
   "file_extension": ".py",
   "mimetype": "text/x-python",
   "name": "python",
   "nbconvert_exporter": "python",
   "pygments_lexer": "ipython3",
   "version": "3.8.5"
  }
 },
 "nbformat": 4,
 "nbformat_minor": 4
}
