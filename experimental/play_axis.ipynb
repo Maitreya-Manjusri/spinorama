{
 "cells": [
  {
   "cell_type": "code",
   "execution_count": null,
   "id": "hairy-spanish",
   "metadata": {},
   "outputs": [],
   "source": [
    "import numpy as np\n",
    "import pandas as pd\n",
    "import altair as alt"
   ]
  },
  {
   "cell_type": "code",
   "execution_count": null,
   "id": "joined-collective",
   "metadata": {},
   "outputs": [],
   "source": [
    "\n",
    "freq_min = 20\n",
    "freq_max = 20000\n",
    "angle_min = -180\n",
    "angle_max = 180 \n",
    "\n",
    "empty = pd.DataFrame({\"Freq\", \"Angle\"})\n",
    "isoTicks = [-180 + 30 * i for i in range(0, 13)]\n",
    "\n",
    "\n",
    "alt.Chart(empty).mark_point(clip=True\n",
    ").encode(\n",
    "    x=alt.X(\"x:Q\",\n",
    "                scale=alt.Scale(type=\"log\", nice=False, domain=[freq_min, freq_max]),\n",
    "                axis=alt.Axis(title=\"Frequency (Hz)\"),\n",
    "            ),\n",
    "            y=alt.Y(\n",
    "                \"y:Q\",\n",
    "                scale=alt.Scale(nice=False, domain=[angle_min, angle_max]),\n",
    "                axis=alt.Axis(format=f\".0d\", values=isoTicks, title=\"Angle\"),\n",
    "            ),\n",
    "        )\n",
    "\n"
   ]
  },
  {
   "cell_type": "code",
   "execution_count": null,
   "id": "everyday-administrator",
   "metadata": {},
   "outputs": [],
   "source": []
  }
 ],
 "metadata": {
  "kernelspec": {
   "display_name": "Python 3",
   "language": "python",
   "name": "python3"
  },
  "language_info": {
   "codemirror_mode": {
    "name": "ipython",
    "version": 3
   },
   "file_extension": ".py",
   "mimetype": "text/x-python",
   "name": "python",
   "nbconvert_exporter": "python",
   "pygments_lexer": "ipython3",
   "version": "3.8.5"
  }
 },
 "nbformat": 4,
 "nbformat_minor": 5
}
