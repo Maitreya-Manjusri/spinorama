{
 "cells": [
  {
   "cell_type": "markdown",
   "metadata": {},
   "source": [
    "How is the pref score changing with noisy data (or smoother data)"
   ]
  },
  {
   "cell_type": "code",
   "execution_count": null,
   "metadata": {},
   "outputs": [],
   "source": [
    "import math\n",
    "import pandas as pd\n",
    "import altair as alt\n",
    "import numpy as np\n",
    "import flammkuchen as fl\n",
    "\n",
    "import sys,os,os.path\n",
    "sys.path.append(os.path.expanduser('../src'))\n",
    "\n",
    "from spinorama.compute_cea2034 import estimated_inroom\n",
    "from spinorama.compute_scores import scores\n",
    "from spinorama.graph import graph_params_default, graph_freq, graph_spinorama\n",
    "from spinorama.load import filter_graphs, load_normalize\n",
    "\n",
    "df_all = fl.load('../cache.parse_all_speakers.h5')"
   ]
  },
  {
   "cell_type": "markdown",
   "metadata": {},
   "source": [
    "Compare Klippel graphs with computed ones."
   ]
  },
  {
   "cell_type": "code",
   "execution_count": null,
   "metadata": {},
   "outputs": [],
   "source": [
    "def noise(df, amp):\n",
    "    sdf = df.copy()\n",
    "    l = len(sdf.Freq.values)\n",
    "    for c in sdf.columns:\n",
    "        if c != 'Freq':\n",
    "            sdf[c] += amp*(np.random.rand(l)-0.5)\n",
    "    return sdf\n",
    "\n",
    "def smooth(df, amp):\n",
    "    sdf = df.copy()\n",
    "    l = len(sdf.Freq.values)\n",
    "    for c in sdf.columns:\n",
    "        if c != 'Freq':\n",
    "            sdf[c] = sdf[c].rolling(amp).mean()\n",
    "    sdf.fillna(df)\n",
    "    return sdf"
   ]
  },
  {
   "cell_type": "code",
   "execution_count": null,
   "metadata": {},
   "outputs": [],
   "source": [
    "def eval_score_noise(df_all, speaker, amplitude):\n",
    "    df_klippel = df_all[speaker]['ASR']['asr']\n",
    "    spl_H = noise(df_klippel['SPL Horizontal_unmelted'], amplitude)\n",
    "    spl_V = noise(df_klippel['SPL Vertical_unmelted'], amplitude)\n",
    "    df_smoothed = load_normalize(filter_graphs('Adam S2V', spl_H, spl_V))\n",
    "    return scores(df_smoothed)['pref_score']\n",
    "\n",
    "def eval_score_smooth(df_all, speaker, amplitude):\n",
    "    df_klippel = df_all[speaker]['ASR']['asr']\n",
    "    spl_H = smooth(df_klippel['SPL Horizontal_unmelted'], amplitude)\n",
    "    spl_V = smooth(df_klippel['SPL Vertical_unmelted'], amplitude)\n",
    "    df_smoothed = load_normalize(filter_graphs('Adam S2V', spl_H, spl_V))\n",
    "    return scores(df_smoothed)['pref_score']"
   ]
  },
  {
   "cell_type": "code",
   "execution_count": null,
   "metadata": {},
   "outputs": [],
   "source": [
    "eval_score_smooth(df_all, 'Adam S2V', 3)"
   ]
  },
  {
   "cell_type": "code",
   "execution_count": null,
   "metadata": {},
   "outputs": [],
   "source": [
    "range_noise = np.linspace(0, 3, 10)\n",
    "res_noise = [(a, eval_score_noise(df_all, 'Adam S2V', a)) for a in range_noise]\n"
   ]
  },
  {
   "cell_type": "code",
   "execution_count": null,
   "metadata": {},
   "outputs": [],
   "source": [
    "range_smooth = [2, 3, 4, 5, 6, 7, 8, 9, 10, 20]\n",
    "res_smooth = [(a, eval_score_smooth(df_all, 'Adam S2V', a)) for a in range_smooth]"
   ]
  },
  {
   "cell_type": "code",
   "execution_count": null,
   "metadata": {},
   "outputs": [],
   "source": [
    "for i, (a, n) in enumerate(res_noise):\n",
    "    print('Noise +/-{:.1f}dB score {:.1f}'.format(a, n))"
   ]
  },
  {
   "cell_type": "code",
   "execution_count": null,
   "metadata": {},
   "outputs": [],
   "source": [
    "for i, (a, n) in enumerate(res_smooth):\n",
    "    print('Size of rolling window #{:2d} score {:.1f}'.format(a, n))"
   ]
  },
  {
   "cell_type": "code",
   "execution_count": null,
   "metadata": {},
   "outputs": [],
   "source": []
  }
 ],
 "metadata": {
  "kernelspec": {
   "display_name": "Python 3",
   "language": "python",
   "name": "python3"
  },
  "language_info": {
   "codemirror_mode": {
    "name": "ipython",
    "version": 3
   },
   "file_extension": ".py",
   "mimetype": "text/x-python",
   "name": "python",
   "nbconvert_exporter": "python",
   "pygments_lexer": "ipython3",
   "version": "3.8.5"
  }
 },
 "nbformat": 4,
 "nbformat_minor": 4
}
