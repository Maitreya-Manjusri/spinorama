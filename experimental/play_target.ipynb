{
 "cells": [
  {
   "cell_type": "code",
   "execution_count": null,
   "id": "f296929b-4f57-4ce9-9fc4-e519b6eca7d5",
   "metadata": {},
   "outputs": [],
   "source": [
    "import numpy as np\n",
    "\n",
    "\n",
    "pir_data = [\n",
    "    (100.7, -0.0),\n",
    "    (115.8, -0.3),\n",
    "    (133.0, -0.6),\n",
    "    (152.9, -0.9),\n",
    "    (175.7, -1.2),\n",
    "    (201.9, -1.5),\n",
    "    (232.1, -1.7),\n",
    "    (266.7, -2.0),\n",
    "    (306.5, -2.2),\n",
    "    (352.3, -2.4),\n",
    "    (404.8, -2.6),\n",
    "    (465.3, -2.7),\n",
    "    (534.7, -2.9),\n",
    "    (614.5, -3.0),\n",
    "    (706.2, -3.2),\n",
    "    (811.6, -3.3),\n",
    "    (932.8, -3.4),\n",
    "    (1072.0, -3.6),\n",
    "    (1232.0, -3.7),\n",
    "    (1415.8, -3.8),\n",
    "    (1627.1, -3.9),\n",
    "    (1870.0, -4.0),\n",
    "    (2149.1, -4.0),\n",
    "    (2469.9, -4.1),\n",
    "    (2838.5, -4.2),\n",
    "    (3262.1, -4.3),\n",
    "    (3749.0, -4.4),\n",
    "    (4308.6, -4.4),\n",
    "    (4951.6, -4.5),\n",
    "    (5690.7, -4.6),\n",
    "    (6540.0, -4.6),\n",
    "    (7516.1, -4.7),\n",
    "    (8637.9, -4.7),\n",
    "    (9927.1, -4.8),\n",
    "    (11408.7, -4.8),\n",
    "    (13111.5, -4.9),\n",
    "    (15068.4, -5.0),\n",
    "    (17317.4, -5.0),\n",
    "    (18801.1, -5.0),\n",
    "]"
   ]
  },
  {
   "cell_type": "code",
   "execution_count": null,
   "id": "4558cfe3-bbd7-48dd-8962-003ffa0da2a4",
   "metadata": {},
   "outputs": [],
   "source": [
    "np.interp(\n",
    "    [f for f in range(100, 1000)], [p[0] for p in pir_data], [p[1] for p in pir_data]\n",
    ")"
   ]
  },
  {
   "cell_type": "code",
   "execution_count": null,
   "id": "dbb7d463-0e06-43af-a852-1618bd3a5d2b",
   "metadata": {},
   "outputs": [],
   "source": [
    "[p[0] for p in pir_data]"
   ]
  },
  {
   "cell_type": "code",
   "execution_count": null,
   "id": "fb25fcda-9dd5-4dcb-84e0-2c6320d4d6a5",
   "metadata": {},
   "outputs": [],
   "source": []
  }
 ],
 "metadata": {
  "kernelspec": {
   "display_name": "Python 3 (ipykernel)",
   "language": "python",
   "name": "python3"
  },
  "language_info": {
   "codemirror_mode": {
    "name": "ipython",
    "version": 3
   },
   "file_extension": ".py",
   "mimetype": "text/x-python",
   "name": "python",
   "nbconvert_exporter": "python",
   "pygments_lexer": "ipython3",
   "version": "3.9.7"
  }
 },
 "nbformat": 4,
 "nbformat_minor": 5
}
