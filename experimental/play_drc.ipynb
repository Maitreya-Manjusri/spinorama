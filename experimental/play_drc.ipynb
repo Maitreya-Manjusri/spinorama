{
 "cells": [
  {
   "cell_type": "code",
   "execution_count": null,
   "id": "charitable-agenda",
   "metadata": {},
   "outputs": [],
   "source": [
    "import math\n",
    "import numpy as np\n",
    "from scipy import signal\n",
    "import pandas as pd\n",
    "import altair as alt"
   ]
  },
  {
   "cell_type": "code",
   "execution_count": null,
   "id": "olympic-curtis",
   "metadata": {},
   "outputs": [],
   "source": [
    "df_L = pd.read_csv(\n",
    "    filepath_or_buffer='../datas/inroom/m001/L.txt', \n",
    "    sep=',', \n",
    "    header=14,\n",
    "    names=['Freq', 'dB', 'Phase'])\n",
    "df_R = pd.read_csv(\n",
    "    filepath_or_buffer='../datas/inroom/m001/R.txt', \n",
    "    sep=',', \n",
    "    header=14,\n",
    "    names=['Freq', 'dB', 'Phase'])"
   ]
  },
  {
   "cell_type": "code",
   "execution_count": null,
   "id": "vanilla-neighbor",
   "metadata": {},
   "outputs": [],
   "source": [
    "def graph_freq_axis(max_freq):\n",
    "    return alt.X(\n",
    "            \"Freq:Q\",\n",
    "            title=\"Freqency (Hz)\",\n",
    "            scale=alt.Scale(type=\"log\", base=10, nice=False, domain=[20, max_freq]),\n",
    "            axis=alt.Axis(format=\"s\"))\n",
    "\n",
    "def graph_base(df, max_freq, color):\n",
    "    chart_base = alt.Chart(df.loc[df.Freq<max_freq]).mark_line().encode(\n",
    "        graph_freq_axis(max_freq),\n",
    "        color=alt.value(color)\n",
    "    )\n",
    "    return chart_base.encode(y=alt.Y('dB:Q', scale=alt.Scale(domain=[30, 80]), axis=alt.Axis(grid=True)))\n",
    "\n",
    "def graph_loess(df, max_freq, color):\n",
    "    chart = graph_base(df, max_freq, color)\n",
    "    return chart, chart.transform_loess('Freq', 'dB', bandwidth=0.16).mark_line().encode(color=alt.value('red'))\n",
    "\n",
    "def graph_phase(df, max_freq, color):\n",
    "    return alt.Chart(df.loc[df.Freq<max_freq]).mark_line().encode(\n",
    "        graph_freq_axis(max_freq),\n",
    "        y=alt.Y('Phase:Q', \n",
    "                scale=alt.Scale(zero=False, domain=[-180, 180+360], nice=False),\n",
    "                axis=alt.Axis(\n",
    "                    tickCount=36, \n",
    "                    tickMinStep=30,\n",
    "                    labelExpr=\"datum.value % 60 | datum.value > 180 ? null : datum.label\", \n",
    "                        #format=f'format(datum.Phase, \"3d\")')),\n",
    "                    format=\">-3d\")),\n",
    "        color=alt.value(color)\n",
    "    )\n",
    "\n",
    "def graph_groupdelay(df, max_freq, color):\n",
    "    return alt.Chart(df.loc[df.Freq<max_freq]).mark_line().encode(\n",
    "        graph_freq_axis(max_freq),\n",
    "        y=alt.Y('GroupDelay:Q', \n",
    "                scale=alt.Scale(zero=False, nice=True)),\n",
    "        color=alt.value(color)\n",
    "    )\n",
    "\n",
    "def graph(df, df_target, max_freq, title):\n",
    "    chart_freq, chart_freq_loess = graph_loess(df, max_freq, 'blue')\n",
    "    chart_phase = graph_phase(df, max_freq, 'green')\n",
    "    chart_target = graph_base(df_target, max_freq, 'black')\n",
    "    return alt.layer(chart_freq + chart_freq_loess + chart_target, chart_phase).resolve_scale(y='independent').properties(title=title)\n",
    "\n",
    "    "
   ]
  },
  {
   "cell_type": "code",
   "execution_count": null,
   "id": "everyday-benefit",
   "metadata": {},
   "outputs": [],
   "source": [
    "target = [(20, 46), (35, 64), (50, 66), (200, 68), (300, 68), (1000, 67), (19999, 60)]\n",
    "target_x = np.concatenate([np.logspace(math.log10(target[i][0]), math.log10(target[i+1][0]), 10) for i in range(0, len(target)-1)])\n",
    "target_y = np.concatenate([np.linspace(target[i][1], target[i+1][1], 10) for i in range(0, len(target)-1)])"
   ]
  },
  {
   "cell_type": "code",
   "execution_count": null,
   "id": "homeless-swedish",
   "metadata": {},
   "outputs": [],
   "source": [
    "df_target = pd.DataFrame({'Freq': target_x, 'dB': target_y})"
   ]
  },
  {
   "cell_type": "code",
   "execution_count": null,
   "id": "brutal-galaxy",
   "metadata": {},
   "outputs": [],
   "source": [
    "max_freq = 3000\n",
    "chart_L = graph(df_L, df_target, max_freq, 'Left')\n",
    "chart_R = graph(df_R, df_target, max_freq, 'Right')"
   ]
  },
  {
   "cell_type": "code",
   "execution_count": null,
   "id": "biblical-encoding",
   "metadata": {},
   "outputs": [],
   "source": [
    "chart_L | chart_R"
   ]
  },
  {
   "cell_type": "code",
   "execution_count": null,
   "id": "canadian-louis",
   "metadata": {},
   "outputs": [],
   "source": [
    "unwrapped = np.unwrap(df_L.Phase.values)\n",
    "group_delay = np.gradient(unwrapped)"
   ]
  },
  {
   "cell_type": "code",
   "execution_count": null,
   "id": "intermediate-smart",
   "metadata": {},
   "outputs": [],
   "source": [
    "freq = df_L.dB.values\n",
    "phase = df_L.Phase.values"
   ]
  },
  {
   "cell_type": "code",
   "execution_count": null,
   "id": "different-mechanics",
   "metadata": {},
   "outputs": [],
   "source": [
    "unwrapped = []\n",
    "unwrapped.append(phase[0])\n",
    "group_delay = []\n",
    "group_delay.append((phase[1]-phase[0])/(freq[1]-freq[0]))\n",
    "n = 0\n",
    "for i in range(1, len(phase)):\n",
    "    if abs(phase[i]-phase[i-1])>300:\n",
    "        n = n+1\n",
    "    up = phase[i] - n*360\n",
    "    unwrapped.append(up)\n",
    "    der = (unwrapped[-1]-unwrapped[-2])/(freq[i]-freq[i-1])\n",
    "    if der>500:\n",
    "        der = 500\n",
    "    if der < -500:\n",
    "        der = 500\n",
    "    group_delay.append(der)"
   ]
  },
  {
   "cell_type": "code",
   "execution_count": null,
   "id": "static-following",
   "metadata": {},
   "outputs": [],
   "source": [
    "len(phase), len(freq), len(unwrapped), len(group_delay)"
   ]
  },
  {
   "cell_type": "code",
   "execution_count": null,
   "id": "transsexual-theta",
   "metadata": {},
   "outputs": [],
   "source": [
    "df_L['GroupDelay'] = group_delay"
   ]
  },
  {
   "cell_type": "code",
   "execution_count": null,
   "id": "norman-vacuum",
   "metadata": {},
   "outputs": [],
   "source": [
    "graph_groupdelay(df_L, 300, 'red')"
   ]
  },
  {
   "cell_type": "code",
   "execution_count": null,
   "id": "wicked-degree",
   "metadata": {},
   "outputs": [],
   "source": []
  },
  {
   "cell_type": "code",
   "execution_count": null,
   "id": "ethical-scope",
   "metadata": {},
   "outputs": [],
   "source": []
  },
  {
   "cell_type": "code",
   "execution_count": null,
   "id": "stable-particular",
   "metadata": {},
   "outputs": [],
   "source": []
  }
 ],
 "metadata": {
  "kernelspec": {
   "display_name": "Python 3",
   "language": "python",
   "name": "python3"
  },
  "language_info": {
   "codemirror_mode": {
    "name": "ipython",
    "version": 3
   },
   "file_extension": ".py",
   "mimetype": "text/x-python",
   "name": "python",
   "nbconvert_exporter": "python",
   "pygments_lexer": "ipython3",
   "version": "3.8.5"
  }
 },
 "nbformat": 4,
 "nbformat_minor": 5
}
