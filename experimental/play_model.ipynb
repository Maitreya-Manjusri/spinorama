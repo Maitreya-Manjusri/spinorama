{
 "cells": [
  {
   "cell_type": "markdown",
   "id": "impaired-multiple",
   "metadata": {},
   "source": [
    "# Model 3 classical loudspeakers\n",
    "\n",
    "Usefull for debugging \n",
    "\n",
    "References: \n",
    "- Mäkivirta, Aki & Liski, Juho & Välimäki, Vesa. (2018). Modeling and Delay-Equalizing Loudspeaker Responses. Journal of the Audio Engineering Society. 66. 922-934. 10.17743/jaes.2018.0053. \n",
    "- Linkwitz, Siegfried H. (February 1976). \"AES E-Library: Browse Entire Database\". JAES Volume 24 Issue 1. The Audio Engineering Society: 2–8. "
   ]
  },
  {
   "cell_type": "code",
   "execution_count": null,
   "id": "coastal-shell",
   "metadata": {},
   "outputs": [],
   "source": [
    "import math\n",
    "import numpy as np\n",
    "import pandas as pd\n",
    "import altair as alt"
   ]
  },
  {
   "cell_type": "code",
   "execution_count": null,
   "id": "worst-cloud",
   "metadata": {},
   "outputs": [],
   "source": [
    "freq = np.logspace(1+math.log10(2), 4+math.log10(2), 200)"
   ]
  },
  {
   "cell_type": "code",
   "execution_count": null,
   "id": "dressed-break",
   "metadata": {},
   "outputs": [],
   "source": [
    "import sys,os,os.path\n",
    "sys.path.append(os.path.expanduser('../src'))\n",
    "\n",
    "from spinorama.filter_iir import Biquad\n",
    "from spinorama.filter_peq import peq_build"
   ]
  },
  {
   "cell_type": "code",
   "execution_count": null,
   "id": "joined-soldier",
   "metadata": {},
   "outputs": [],
   "source": [
    "ls = Biquad(1, 20, 48000, 10, 10)\n",
    "hs = Biquad(0, 20000, 48000, 10, 5)\n",
    "filter_one_way = [(-1, ls), (-1, hs)]"
   ]
  },
  {
   "cell_type": "code",
   "execution_count": null,
   "id": "greatest-austin",
   "metadata": {},
   "outputs": [],
   "source": [
    "one_way = peq_build(freq, filter_one_way)"
   ]
  },
  {
   "cell_type": "code",
   "execution_count": null,
   "id": "broke-alfred",
   "metadata": {},
   "outputs": [],
   "source": [
    "alt.Chart(pd.DataFrame({'freq': freq, 'dB': one_way})).mark_line().encode(\n",
    "    x=alt.X('freq:Q', scale=alt.Scale(type=\"log\", domain=[20, 20000], nice=False)), \n",
    "    y=alt.Y('dB:Q', scale=alt.Scale(domain=[-140, 10]))\n",
    ")"
   ]
  },
  {
   "cell_type": "code",
   "execution_count": null,
   "id": "centered-value",
   "metadata": {},
   "outputs": [],
   "source": [
    "ls1 = Biquad(1,   80, 48000, 0.5, 10)\n",
    "hs1 = Biquad(0, 5000, 48000, 0.5, 10)\n",
    "ls2 = Biquad(1, 1000, 48000, 0.5, 10)\n",
    "filter_woofer = [(1, ls1), (1, hs1)]\n",
    "filter_tweeter = [(1, ls2)]"
   ]
  },
  {
   "cell_type": "code",
   "execution_count": null,
   "id": "elect-midnight",
   "metadata": {},
   "outputs": [],
   "source": [
    "woofer_two_way = peq_build(freq, filter_woofer)\n",
    "tweeter_two_way = peq_build(freq, filter_tweeter)"
   ]
  },
  {
   "cell_type": "code",
   "execution_count": null,
   "id": "characteristic-absolute",
   "metadata": {},
   "outputs": [],
   "source": [
    "chart_woofer = alt.Chart(pd.DataFrame({'freq': freq, 'dB': woofer_two_way})).mark_line().encode(\n",
    "    x=alt.X('freq:Q', scale=alt.Scale(type=\"log\", domain=[20, 20000], nice=False)), \n",
    "    y=alt.Y('dB:Q', scale=alt.Scale(domain=[-40, 10])),\n",
    "    color=alt.value('red')\n",
    ")\n",
    "chart_tweeter = alt.Chart(pd.DataFrame({'freq': freq, 'dB': tweeter_two_way})).mark_line().encode(\n",
    "    x=alt.X('freq:Q', scale=alt.Scale(type=\"log\", domain=[20, 20000], nice=False)), \n",
    "    y=alt.Y('dB:Q', scale=alt.Scale(domain=[-40, 10], zero=False, nice=False)),\n",
    "    color=alt.value('green')\n",
    ")\n",
    "chart_woofer+chart_tweeter"
   ]
  },
  {
   "cell_type": "code",
   "execution_count": null,
   "id": "institutional-making",
   "metadata": {},
   "outputs": [],
   "source": [
    "from spinorama.filter_peq import peq_butterworth_lowpass, peq_butterworth_highpass, peq_linkwitzriley_lowpass, peq_linkwitzriley_highpass"
   ]
  },
  {
   "cell_type": "code",
   "execution_count": null,
   "id": "dressed-aviation",
   "metadata": {},
   "outputs": [],
   "source": [
    "bw2_lp = peq_build(freq, peq_butterworth_lowpass(2, 2000, 48000))\n",
    "bw2_hp = peq_build(freq, peq_butterworth_highpass(2, 2000, 48000))\n",
    "lr4_lp = peq_build(freq, peq_linkwitzriley_lowpass(4, 2000, 48000))\n",
    "lr4_hp = peq_build(freq, peq_linkwitzriley_highpass(4, 2000, 48000))"
   ]
  },
  {
   "cell_type": "code",
   "execution_count": null,
   "id": "tender-austin",
   "metadata": {},
   "outputs": [],
   "source": [
    "alt.Chart(\n",
    "    pd.DataFrame({'freq': freq, 'LR4 lp': lr4_lp, 'LR4 hp': lr4_hp, 'BW2 lp': bw2_lp-10, 'BW2 hp': bw2_hp-10})\n",
    ").transform_fold(['LR4 lp', 'LR4 hp', 'BW2 lp', 'BW2 hp']\n",
    ").transform_filter('datum.value>-40'\n",
    ").mark_line().encode(\n",
    "    x=alt.X('freq:Q', scale=alt.Scale(type=\"log\", domain=[20, 20000], nice=False)), \n",
    "    y=alt.Y('value:Q', scale=alt.Scale(domain=[-40, 10], nice=False)),\n",
    "    color='key:N',\n",
    ")"
   ]
  },
  {
   "cell_type": "code",
   "execution_count": null,
   "id": "exciting-penguin",
   "metadata": {},
   "outputs": [],
   "source": []
  }
 ],
 "metadata": {
  "kernelspec": {
   "display_name": "Python 3",
   "language": "python",
   "name": "python3"
  },
  "language_info": {
   "codemirror_mode": {
    "name": "ipython",
    "version": 3
   },
   "file_extension": ".py",
   "mimetype": "text/x-python",
   "name": "python",
   "nbconvert_exporter": "python",
   "pygments_lexer": "ipython3",
   "version": "3.8.5"
  }
 },
 "nbformat": 4,
 "nbformat_minor": 5
}
