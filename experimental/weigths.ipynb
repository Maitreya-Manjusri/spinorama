{
 "cells": [
  {
   "cell_type": "markdown",
   "metadata": {},
   "source": [
    "Weigths computations from the standard\n"
   ]
  },
  {
   "cell_type": "code",
   "execution_count": 7,
   "metadata": {},
   "outputs": [],
   "source": [
    "import math\n",
    "import numpy as np"
   ]
  },
  {
   "cell_type": "code",
   "execution_count": 58,
   "metadata": {},
   "outputs": [],
   "source": [
    "def areaQ(alpha_d, beta_d):\n",
    "  alpha = alpha_d * 2 * math.pi / 360\n",
    "  beta  = beta_d * 2 * math.pi /360\n",
    "  gamma = math.acos(math.cos(alpha)*math.cos(beta))\n",
    "  A = math.atan(math.sin(beta)/math.tan(alpha))\n",
    "  B = math.atan(math.sin(alpha)/math.tan(beta))\n",
    "  C = math.acos(-math.cos(A)*math.cos(B)+math.sin(A)*math.sin(B)*math.cos(gamma))\n",
    "  S = (4*C-2*math.pi)\n",
    "  #print('gamma {} A {} B {} C {} S {}'.format(\n",
    "  #    gamma*360/2/math.pi, A*360/2/math.pi, B*360/2/math.pi, C*360/2/math.pi, S))\n",
    "  return S"
   ]
  },
  {
   "cell_type": "code",
   "execution_count": 105,
   "metadata": {},
   "outputs": [
    {
     "name": "stdout",
     "output_type": "stream",
     "text": [
      "[0.00060449 0.00473019 0.00895503 0.01238735 0.01498961 0.01686815\n",
      " 0.01816596 0.01900674 0.01947779 0.01962937]\n"
     ]
    }
   ],
   "source": [
    "a  = [i*10+5 for i in range(0,9)] + [90]\n",
    "wa = [areaQ(i, i) for i in a]\n",
    "w = [wa[0]] + [wa[i]-wa[i-1] for i in range (1,len(wa))]\n",
    "w[9] *= 2.0\n",
    "ws = np.linalg.norm(w)\n",
    "w  /= ws/0.047133397655733274\n",
    "#ws = np.linalg.norm(w,ord=math.inf)\n",
    "#w /= ws\n",
    "print('{}'.format(w))"
   ]
  },
  {
   "cell_type": "code",
   "execution_count": 106,
   "metadata": {},
   "outputs": [],
   "source": [
    "w_std = [0.000604486, 0.004730189, 0.008955027, 0.012387354, 0.014989611, 0.016868154, 0.018165962, 0.019006744, 0.019477787, 0.019629373]"
   ]
  },
  {
   "cell_type": "code",
   "execution_count": 107,
   "metadata": {},
   "outputs": [
    {
     "data": {
      "text/plain": [
       "array([ 1.16369339e-10, -4.94324845e-10,  0.00000000e+00, -3.67292138e-10,\n",
       "        5.37901553e-10, -3.95548361e-10,  2.37982335e-10, -2.05418595e-10,\n",
       "        2.66863597e-10,  3.62857758e-10])"
      ]
     },
     "execution_count": 107,
     "metadata": {},
     "output_type": "execute_result"
    }
   ],
   "source": [
    "np.array(w)-np.array(w_std)"
   ]
  },
  {
   "cell_type": "code",
   "execution_count": 108,
   "metadata": {},
   "outputs": [
    {
     "data": {
      "text/plain": [
       "6.283185307179586"
      ]
     },
     "execution_count": 108,
     "metadata": {},
     "output_type": "execute_result"
    }
   ],
   "source": [
    "areaQ(90,90)"
   ]
  },
  {
   "cell_type": "code",
   "execution_count": 120,
   "metadata": {},
   "outputs": [
    {
     "data": {
      "text/plain": [
       "0.14807393581397804"
      ]
     },
     "execution_count": 120,
     "metadata": {},
     "output_type": "execute_result"
    }
   ],
   "source": [
    "0.047133397655733274*math.pi"
   ]
  },
  {
   "cell_type": "code",
   "execution_count": null,
   "metadata": {},
   "outputs": [],
   "source": []
  }
 ],
 "metadata": {
  "kernelspec": {
   "display_name": "Python 3",
   "language": "python",
   "name": "python3"
  },
  "language_info": {
   "codemirror_mode": {
    "name": "ipython",
    "version": 3
   },
   "file_extension": ".py",
   "mimetype": "text/x-python",
   "name": "python",
   "nbconvert_exporter": "python",
   "pygments_lexer": "ipython3",
   "version": "3.8.5"
  }
 },
 "nbformat": 4,
 "nbformat_minor": 4
}
