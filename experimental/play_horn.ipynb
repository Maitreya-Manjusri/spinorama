{
 "cells": [
  {
   "cell_type": "code",
   "execution_count": 1,
   "id": "c39f3106-ec47-43e9-b292-f99b35bcf290",
   "metadata": {},
   "outputs": [],
   "source": [
    "Needs[\"NDSolve`FEM`\"]"
   ]
  },
  {
   "cell_type": "code",
   "execution_count": 2,
   "id": "c91ae803-b4ac-4b54-b10b-73444b0469ad",
   "metadata": {},
   "outputs": [],
   "source": [
    "Subscript[c, air] = QuantityMagnitude[ThermodynamicData[\"Air\", \"SoundSpeed\"]];\n",
    "Subscript[\\[Rho], air] = QuantityMagnitude[ThermodynamicData[\"Air\", \"Density\"]];"
   ]
  },
  {
   "cell_type": "code",
   "execution_count": 9,
   "id": "bb0b311b-bf29-4c5b-99b5-e0b993e3418a",
   "metadata": {},
   "outputs": [],
   "source": [
    "t = a/2;\n",
    "\\[Theta] = ArcTan[(b - a)/l];\n",
    "parametersRules = {r -> 1, a -> 1/15, b -> 3/10, l -> 1/2, d -> 1/2};"
   ]
  },
  {
   "cell_type": "code",
   "execution_count": 22,
   "id": "996085d5-3f6a-4c1a-a8e8-f5716b6aafaf",
   "metadata": {},
   "outputs": [],
   "source": [
    "rec1 = Rectangle[{-r, a}, {-r + d, a + t}];\n",
    "rec2 = Polygon @@ (RotationTransform[\\[Theta], {-r + d, a}][#] & /@ \n",
    "    (List @@ RegionBoundary[Rectangle[{-r + d, a}, {-r + d + l/Cos[\\[Theta]], a + t}]]));\n",
    "\\[CapitalOmega] = RegionDifference[Disk[{0, 0}, r, {0, \\[Pi]}], RegionUnion[rec1, rec2]] /. parametersRules;"
   ]
  },
  {
   "cell_type": "code",
   "execution_count": 25,
   "id": "d670d4a4-4d4a-42e6-b38f-e522242882c1",
   "metadata": {},
   "outputs": [],
   "source": [
    "\\[Lambda] = (c/Subscript[f, max]) /. {c -> Subscript[c, air], Subscript[f, max] -> 1000};\n",
    "h = \\[Lambda]/12;"
   ]
  },
  {
   "cell_type": "code",
   "execution_count": 27,
   "id": "de74aa5b-bbac-4258-8533-45a24683ac0d",
   "metadata": {},
   "outputs": [
    {
     "data": {
      "text/html": [
       "<div><img alt=\"Output\" src=\"data:image/png;base64,iVBORw0KGgoAAAANSUhEUgAAAeEAAAARCAIAAABlzYP0AAAAzHpUWHRSYXcgcHJvZmlsZSB0eXBlIGV4aWYAAHjadU9bDsMgDPvnFDtCHuDAcehKpd1gx19SmKZWmhGxY5KgpPF+HekREKaUi1U0gBy55SbdRaWJyUztjCcGL8VXP/ES3N0qvweM5W9X3zBZ6m0QyRQaP7jWvBrWIJXpc5/5tuql13oddEP+rsV/cjVBAVv2mIXM0FzX5NIJRagYDjwBL2TsQvnpPGDmbbCo0B6NARl2rR4J6sYeK2hc1u5sM3orqboufsKpsml4oWOdD1K2WrfNx2lXAAAACXBIWXMAAAsTAAALEwEAmpwYAAAAPHRFWHRTb2Z0d2FyZQBDcmVhdGVkIHdpdGggdGhlIFdvbGZyYW0gTGFuZ3VhZ2UgOiB3d3cud29sZnJhbS5jb21coqaFAAAAIXRFWHRDcmVhdGlvbiBUaW1lADIwMjE6MDc6MDcgMDM6NTU6MDiU1UvYAAAOr0lEQVR4nO2bezTb5x/Hn2+iOCQairilVHaqSjPaMHGZztHd3I3pnK5dZy7r5tJlZ6h1uqrpce0xVWpndNoVbcdQ0ynqMjVmdFXq0JCsyFwqiqKSfH9/fLf88kvyjSBT+y2vv5L383w/l5zn83yf7/N8A8EwDBQoUKBAwYYE86wDUKBAgQIFqCjmaAUKFCjYuKDO0Xfv3iUQCAQCAYKg2dnZ9Yzpb2JhYeH/JhcF/1zCwsL8/f3la1Ne1WpsbEwgEJSUlCorK+UYnoK1gAEAnDhxAoPBKP3F3r17AQC7du3icDgTExPrH1N2dvann34qrJw5c4ZIJPL5fADA6OgoBoO5efPm+ge2Fubm5k6dOmVlZeXu7r7xza4UPp8fFRWlra2tr6+fkZEhL7MbJDuJZGZmIvWCwWCwWCzyua6ubtkLzc3Nn3/+efkGs9JqbW5uhiBISYjFxUUAAJPJ5HA4dnZ28g1vWXp6ehwdHddoBG20FBcXm5uba2pqWllZ1dTUCDddvXoV+l/2798PAFhaWoqPjzc0NNTS0nrllVcYDAbSH03/W/lzHR0SEsL9i1u3bq2DYylMTU2JiyoqKi0tLQCA8vJyfX39VRuHIAit6caNGykpKVeuXBHReTze2bNnGxoaZNQlwufztbW1d+/evdKA5W62pKSkuLh4LU7FE09PT+/u7h4cHGxvb8/Jyamurl6LfQFyzE7uWUdERCD1cvDgwcTEROSzi4vLsnYiIyNFliDPBDKZzBVCRUXlGQYjseQR0KpSHImjZWFhoaqqqrS0dGpqKikpydfXV/g5w8/PD/6L+fl5KpWakJAAAOjv7x8bG7t79+74+DiVSj18+DDSH02XQm5u7meffXbv3j0RHW1ASugPw3B8fHxoaCgsiaWlJQDAzMyMsNjb2+vq6qqnp0ehUKqrqxFx69atERERRkZGWVlZLi4upqamLBYLhmEej3f69GlTU1MjI6OgoCDE1Pz8vIGBQXNzs6OjI4lEeuONNxYWFmAYLisrIxKJampq6urqRCKRSCR+9NFHMAxnZGQEBgbS6XQYhj08PLy9vWtqahC/lZWVFApFX1/f1dV1YGAAEUdHRz08PEgkEpFIDAwMHBwcRJwCADo7O/fs2aOuri5wKiAvL298fFz8RygtLe3q6pJdl0JhYaGbm9uKLvk7zF66dKmvr2/V7sQT37lzZ2trK/I5Ly8vICBg1cbFkVd2cs8a4dChQ0lJScLK5cuXw8PDa2pqbGxsSCRScHAwDMMVFRXq6urq6uoqKipeXl6CztPT0zExMaampng83tnZmcFgIPoLL7xQX1/v7e393HPPUanUBw8eIDqLxdq3b5+JiYlgtTE6Ooo0yV6tTU1NZDIZLVMHB4eKigphhcPhBAUFGRoaksnk5ORkRExJSTl8+DCVSt2zZ09mZqaxsfHx48elOI2Ojv7yyy8jIyMtLCy2bdtWVVUFw/DY2BiRSCQQCJs2bUJK3s7OTtg1WlWiIX20aGpq3rt3T2JTdHT0mTNnxPWuri4dHR3ZdXHq6+ubmprEdbQBKdJ/xWeGU1NT+/btCw4OHhkZKSkpCQ0NHRkZAQBMTk66uLgUFhYmJSWVlZW9+OKLpaWlAIDk5OQbN260trYODQ1paGgIVhBsNrugoKCmpmZgYIDFYpWUlAAAvLy82Gx2cHBwVFQUm81ms9lpaWlIf2QWmJmZ4fF4qqqqiNjS0hIWFlZYWDgyMnLkyBF/f38YhgEAJ0+eNDY2ZjKZw8PDfn5+SkpKgvgTEhKuXbvW19fX3d2NOF2WiYkJQ0ND2fWNj4GBwdjY2KovF0mcy+X29fVZW1tHRkaeO3du9+7d3d3d8ghzlaBlJ9+spXPr1q2UlJTy8nIWi5WVlQUAcHd3n52dnZ2dzcnJEe45Ojqqqqra1tY2MTFBoVCOHj0qaDp27FhWVlZ/f7+Dg0NiYiIifvDBB6+//vrg4CAyGc3MzBCJRLQw0Kp1pezfv19DQ4PBYHR0dFRWVpaVlSH6b7/91traisPhuFxuQ0MDkqkUp1988YW/v393d3d6evqHH34IANDR0WGz2fn5+ba2tkjJ3759W/bAKioqfvjhB1l6cjicEydO7Nq1a8eOHeKt4+Pjly9fDg0NFdGZTCayhJWuFxQU/Pzzz7KHjSDjgPxzjs7NzRXsyDx8+FDKBV9//TWNRnvzzTchCDIzM/Py8hI82Do4OOjp6VlZWeHxeCKRODU1hSyis7KydHR0sFjs8ePHv/vuO6Qzn89PT09XVVVVVlZ2cXHp6emRHigMw1ZWVhkZGcgaBBGTkpJiY2MpFAoAwMfHh8fjDQ4OAgB27Njx008/NTU1QRDk4+NjZGQksJOXl2dsbGxoaOjp6bmsUwWysLi4qKKioqyszGKxRkdHNTU1nzx58qyDesaw2eyioiI9PT0AgLKyspSeZmZm8fHxBAJhaGiIQqG0trYKmmJjY5G7wquvvioYq52dnZ6engAAb2/vpqYmHA4nZftOSrU+ePBAUPIFBQVSIuzo6Ojs7ExNTVVWVt68eXNUVJSgiu3s7LBYrJ6enpOTE1Ly0p2+9dZbDg4OSEYMBmNhYUHqryiNxsbGjz/+GI/Hv/baa8t2ptPpmpqaxcXFBQUFGIyEhWlOTs7bb78tWPwhUKlU5Hnl2LFj0vVDhw4NDQ3Fxsb29vauOiM0/lxghoaGitze0WAymY2NjVZWVsjXubk5U1NTiT1hGJ6enp6eng4MDBQWBZ8FY0tVVZXD4Szr2t/f38PDg8FgCE5mmExmenr6+fPnka8cDmdyctLU1DQiIsLExCQ1NfWdd97x8fGJi4vT0tJC+ggKRk1NTRanAIDFxUU8Hi+7vvHR1dVdy3GHSOLq6uoQBD19+hR5curo6NDV1ZVDlKsFLTv5Zi0dCoWiqakpS8+5ubno6OimpiYqlaqjoyO8WypcIMhOHQDA1ta2tLSUTqeXlZXZ2NhINy6lWslk8sDAgCwRMpnM2dlZwT7v0tKSpaXl6pwKZwQAWFhYEJkWZaGrq6ukpMTe3j41NVXGS9LS0hITEysrK1966aX6+vpt27aJdKioqEhOThYRf/nll0ePHp07d87Z2bmlpUXwOC6uQxAUEBDg5+dXWFhYVFQUFBS0devWZaOScUAqSW/GYDAQBAlPrCQSae/evUVFRcuaBgBs3rwZj8cXFRVJfL5AQ01NTeIN1snJ6dSpU9ra2sLBeHh4hIWFiXf29PT09PR8/PgxnU4/ePDgqt8lunr16uzsrPiJikT9ypUrfX19wgE7Ozsv64LP51+/fp1GowmnhjA/Pw9B0CrGsXSzO3fuzMjI0NbWFjnBl8WdxMTNzc3b29uRJVJbW5u5ufkGzE7uWcuF06dPT0xM/Prrr1gs9uHDh8h2gRRefvnlCxculJWVGRgY5OfnCzetsVoFYLFYESMaGhqdnZ1SFuzCrMIpWsmLA8NwbW0tDoezt7eX3T4AQFVV1c/Pr7S09Pvvv4+KihJuevLkyZ07d2xtbcWv0tLSiouLy87O7u7uFtx10HQsFuvs7Hz//v2WlhZZ5mi0ASnCMvvRGAyGRCLV1dXxeDw2mw0AePfdd5ubmy9cuMDlcpGlE5fLRbsci8V+8sknYWFhTCYTAMBgMGTZbLKysqqurp6cnOTz+cIbLxgMJiIiQrhnTExMYmLi7du3YRjmcDjXr19H9MjIyObmZi6Xq6GhsX37duQsZXX4+fmpq6uLDyCJur+//6dCyDJBAwDKy8s9PT2FNyIR+Hy+mZkZhULh8XiriBzNLACgp6fHzc1NZGTI6E5i4iEhIbGxsY8ePWIwGMnJySEhIcuGsc7ZoelryVou/PHHH5aWllgslsvlnj17dtn+mZmZly5dampqKi4uJpFIwk1rrFYBJiYm9fX1MAwPDw8DAGxsbCwtLSMjI2dmZvh8fktLC1LOaKzCqaWlZW9v7507dwAALBZLSk8Iguh0+pEjR86fP5+WljYzMyPdcn19fUBAADKNtLe319bWCk+1CCwWi0AgqKmpCZSEhISEhISZmRkul3vx4sW5uTkymSxFBwCMjo5+/vnn1dXVJ0+eRF7gWxa0gSqChP1o4d1bAEBaWlpYWJient5XX30FANiyZUtNTQ2y12ZmZnbz5k3pAzc2NtbNzc3V1VVbW/vAgQPL/qYAAF9fXxqNtn37dgMDA/EHEGGcnJxycnLCw8O3bNlib2/f39+P6H5+fidPntTV1TUyMqqvr5dxGwcNVVVVif8LQNMl4u/vj8Ph3nvvverqahwOZ2FhIWgyNTXV0tISHzoQBOnq6vb39//+++9yNAsAGBsbE19+yuIOQTzxoKAgKpVKJpNpNNrRo0dpNNpGyw5NX0vWciEmJqaqqopGo3l6etra2uJwOOn9fX19LS0tcTgcHo83MTGJi4sTbpW9WoX3oyEIun//vsBIdHR0TU0NgUAQnIkVFxcvLCyYmZkZGRklJyc/ffpUSoQrnSIAAAYGBikpKW5ublpaWoGBgdLtAwAIBEJMTExgYGBqauqPP/6IiBJHi7Ozs7W1tZOTEx6PP3DgQGJiIvL/D2HYbDaBQBBWwsPDmUwmmUzW0tLKzs6urKxEtrnQ9G+++ebixYt0Ov3999+XfvwgDNpAFUWWd0f+JaC95bNSXb6YmJiIvE21dtBeBpLRnRwTX8/sNk7Wq4bJZDo6Oi4uLsIwzOfz+/v7N23aNDU19Wyj+ltZ9mfncrnrFszqYljpgFzru3f/QnR0dCQustB0OVJQUEClUpddW62U4eFhiTdwGd3JK/F1zm6DZL0WxsbGHj9+jCxLIQhqa2uzsLAQWQP+28Bisc86hFXGgDYgRVDM0f+FRCLl5+eL/6PJ3d29sbGxtrZWRl1eNDQ0XLt2DXlolSPffvstj8cTP8WV3Z1cEl/n7DZI1muESqUGBgbSaDRra2tbW9vGxkZ5/aVzw4JWlf8UcnNz6+rqxF/yQRuQ4v3/5xRYwYYChmEZT9IV7v7pYShQgMZ/AFGcK5CwAhl1AAAAAElFTkSuQmCC\"></div>"
      ],
      "text/plain": [
       "ElementMesh[{{-1., 1.}, {0., 1.}}, {TriangleElement[<13733>]}]"
      ]
     },
     "execution_count": 27,
     "metadata": {
      "text/html": [],
      "text/plain": []
     },
     "output_type": "execute_result"
    }
   ],
   "source": [
    "mesh = ToElementMesh[\\[CapitalOmega], MaxCellMeasure -> {\"Length\" -> h}]"
   ]
  },
  {
   "cell_type": "code",
   "execution_count": 28,
   "id": "4cfce10a-0d8d-44d0-8053-3eb925cdce33",
   "metadata": {},
   "outputs": [],
   "source": [
    "inlet = Circle[{0, 0}, r, {\\[Pi] - ArcSin[a/r], \\[Pi]}] /. parametersRules;\n",
    "Subscript[\\[CapitalGamma], in] = \n",
    "  AcousticRadiationValue[{x, y} \\[Element] inlet, vars, \n",
    "   pars, <|\"SoundIncidentPressure\" -> 1|>];"
   ]
  },
  {
   "cell_type": "code",
   "execution_count": 30,
   "id": "ff0ebaa0-a471-4685-b6f3-985852158d27",
   "metadata": {},
   "outputs": [],
   "source": [
    "outlet = Circle[{0, 0}, r, {0, \\[Pi] - ArcSin[(a + t)/r]}] /. \n",
    "  parametersRules; Subscript[\\[CapitalGamma], out] = \n",
    " AcousticAbsorbingValue[{x, y} \\[Element] outlet, vars, \n",
    "   pars, <|\"AcousticSourceDistance\" -> 1/(2 r)|>] /. parametersRules;"
   ]
  },
  {
   "cell_type": "code",
   "execution_count": 32,
   "id": "f5d92bb6-796f-4d85-8b43-4dda7ece5d7f",
   "metadata": {},
   "outputs": [],
   "source": [
    "fRange = Table[f, {f, 50, 1000, 10}];\n",
    "pfun = ParametricNDSolveValue[pde, p, {x, y} \\[Element] mesh, {\\[Omega]}];\n",
    "Monitor[pfunTable = Table[pfun[\\[Omega]] /. {\\[Omega] -> 2 \\[Pi] f}, {f, fRange}], Row[{\"frequency being solved = \", CForm[f], \" Hz\"}]];"
   ]
  },
  {
   "cell_type": "code",
   "execution_count": 46,
   "id": "85ff9548-d4fa-4ab1-8441-decd30a2c714",
   "metadata": {},
   "outputs": [],
   "source": [
    "f = 900;\n",
    "{index} = Flatten[Position[fRange, f]];"
   ]
  },
  {
   "cell_type": "code",
   "execution_count": 48,
   "id": "f2f2ce0a-d402-46a5-9a7c-80965c00d54a",
   "metadata": {},
   "outputs": [],
   "source": [
    "pMax = Max[Abs[pfunTable[[index]][\"ValuesOnGrid\"]]];\n",
    "legendBar = BarLegend[{\"TemperatureMap\", {-pMax, pMax}}, Sequence[50, LegendLabel -> Style[\"[Pa]\", Opacity[0.6]]]];\n",
    "options = {PlotRange -> {-pMax, pMax}, Sequence[\n",
    "   ColorFunction -> ColorData[{\"TemperatureMap\", {-pMax, pMax}}], \n",
    "    ContourStyle -> None, ColorFunctionScaling -> False, \n",
    "    Contours -> 30, PlotPoints -> 41, FrameLabel -> {\"x\", \"y\"}, \n",
    "    PlotLabel -> Style[\"Transient sound pressure: p(x,y)\", 18], \n",
    "    AspectRatio -> Automatic, ImageSize -> Medium]};"
   ]
  },
  {
   "cell_type": "code",
   "execution_count": 59,
   "id": "67209c39-e83b-4a89-b92b-77fae6af374f",
   "metadata": {},
   "outputs": [],
   "source": [
    "R = 2;\n",
    "{x0, y0} = {x, y} /. \n",
    "   Last[NSolve[{x^2 + (y - b)^2 == R^2, (x + r)^2 + (y - a)^2 == \n",
    "       R^2}, {x, y}]];\n",
    "\\[Phi] = VectorAngle[{-r - x0, a - y0}, {-x0, b - y0}];\n",
    "\\[Gamma] = 3/2 \\[Pi] - VectorAngle[{0, -1}, {-r - x0, a - y0}];\n",
    "curve = Annulus[{x0, y0}, {R - t, R}, {\\[Gamma], \\[Gamma] + \\[Phi]}];\n",
    "\\[CapitalOmega]cur = \n",
    "  RegionDifference[Disk[{0, 0}, r, {0, \\[Pi]}], curve] /. \n",
    "   parametersRules;"
   ]
  },
  {
   "cell_type": "code",
   "execution_count": 66,
   "id": "dd41c490-175c-4d78-a2c3-7a87ce437112",
   "metadata": {},
   "outputs": [],
   "source": [
    "pfun2 = ParametricNDSolveValue[pde, \n",
    "   p, {x, y} \\[Element] meshCur, {\\[Omega]}];\n",
    "Monitor[pfunTable2 = \n",
    "   Table[pfun2[\\[Omega]] /. {\\[Omega] -> 2 \\[Pi] f}, {f, fRange}], \n",
    "  Row[{\"frequency being solved = \", CForm[f], \" Hz\"}]];"
   ]
  },
  {
   "cell_type": "code",
   "execution_count": 68,
   "id": "abb2903e-9d83-4096-bd06-b38d79f3cbdf",
   "metadata": {},
   "outputs": [],
   "source": [
    "boundaryHighlight2 = Graphics[{{Dashed, outlet}, inlet, \n",
    "Line[{{-r, 0}, {r, 0}}], \n",
    "Circle[{x0, y0}, R, {\\[Gamma], \\[Gamma] + \\[Phi]}], \n",
    "Circle[{x0, y0}, R - t, {\\[Gamma], \\[Gamma] + \\[Phi]}], \n",
    "Line[{{0, b}, {\n",
    "       x0 + (R - t) Cos[\\[Gamma] + \\[Phi]], \n",
    "        y0 + (R - t) Sin[\\[Gamma] + \\[Phi]]}}]}] /. parametersRules;"
   ]
  },
  {
   "cell_type": "code",
   "execution_count": 69,
   "id": "99cdeaf6-2082-45dd-a0f3-005b94debcb0",
   "metadata": {},
   "outputs": [],
   "source": [
    "nframes = 50;\n",
    "frames2 = Table[\n",
    "   Show[Legended[\n",
    "     ContourPlot[\n",
    "      Re[pfunTable2[[index]][x, y]*\n",
    "         Exp[I \\[Omega] t] /. {\\[Omega] -> 2 \\[Pi] f}], {x, \n",
    "        y} \\[Element] \\[CapitalOmega]cur, Evaluate[options]], \n",
    "     legendBar], boundaryHighlight2], {t, 0, 0.002, 0.002/nframes}];\n",
    "frames = Rasterize[#1, \"Image\", ImageResolution -> 80] & /@ frames;"
   ]
  },
  {
   "cell_type": "code",
   "execution_count": 73,
   "id": "53fc4de6-bafb-4732-a86b-cc812b20513c",
   "metadata": {},
   "outputs": [],
   "source": [
    "Subscript[L, in] = N@ArcLength[inlet];"
   ]
  },
  {
   "cell_type": "code",
   "execution_count": 74,
   "id": "5404c2bd-ee9e-4760-8e75-b7e5033ed62b",
   "metadata": {},
   "outputs": [],
   "source": [
    "Jrec = Table[(Abs[NIntegrate[pfunTable[[i]][x, y], {x, y} \\[Element] inlet]/ Subscript[L, in] - 1]), {i, fRange // Length}];\n",
    "Jcur = Table[(Abs[NIntegrate[pfunTable2[[i]][x, y], {x, y} \\[Element] inlet]/ Subscript[L, in] - 1]), {i, fRange // Length}];"
   ]
  },
  {
   "cell_type": "code",
   "execution_count": null,
   "id": "71822e73-72e3-4b1a-8348-de5fb6b4aea2",
   "metadata": {},
   "outputs": [],
   "source": []
  }
 ],
 "metadata": {
  "kernelspec": {
   "display_name": "Wolfram Language 12.2",
   "language": "Wolfram Language",
   "name": "wolframlanguage12.2"
  },
  "language_info": {
   "codemirror_mode": "mathematica",
   "file_extension": ".m",
   "mimetype": "application/vnd.wolfram.m",
   "name": "Wolfram Language",
   "pygments_lexer": "mathematica",
   "version": "12.0"
  }
 },
 "nbformat": 4,
 "nbformat_minor": 5
}
