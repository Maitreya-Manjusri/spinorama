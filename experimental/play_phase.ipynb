{
 "cells": [
  {
   "cell_type": "code",
   "execution_count": 213,
   "id": "retired-toronto",
   "metadata": {},
   "outputs": [],
   "source": [
    "import math\n",
    "import cmath\n",
    "import altair as alt\n",
    "import numpy as np\n",
    "import pandas as pd"
   ]
  },
  {
   "cell_type": "code",
   "execution_count": 224,
   "id": "invalid-wisdom",
   "metadata": {},
   "outputs": [],
   "source": [
    "names = ['Freq', 'dB', 'Phase']\n",
    "speaker = 'Genelec 8361 + W371 GLM (ON)'\n",
    "left = pd.read_csv(\"../datas/inroom/m002/L.txt\", skiprows=14, names=names)\n",
    "right = pd.read_csv(\"../datas/inroom/m002/R.txt\", skiprows=14, names=names)\n",
    "# left.Phase /= 180/math.pi\n",
    "# right.Phase /= 180/math.pi"
   ]
  },
  {
   "cell_type": "code",
   "execution_count": 225,
   "id": "lesser-defeat",
   "metadata": {},
   "outputs": [
    {
     "name": "stdout",
     "output_type": "stream",
     "text": [
      "Min Phase [55.45587114176065:91.72578564531298]\n",
      "Min Phase [56.05898140220235:95.02123829792649]\n"
     ]
    }
   ],
   "source": [
    "def minimum_phase(df):\n",
    "    x = df.dB.values\n",
    "    n = len(x)\n",
    "    spectrum = np.fft.fft(x, n=n)\n",
    "    ceps = np.fft.ifft(np.log(np.abs(spectrum))).real\n",
    "    odd = n % 2\n",
    "    window = np.concatenate(([1.0], 2.0 * np.ones(int((n + odd) / 2 - 1)), np.ones(1 - odd), np.zeros(int((n + odd) / 2 - 1))))\n",
    "    m = np.fft.ifft(np.exp(np.fft.fft(window * ceps))).real\n",
    "    print('Min Phase [{}:{}]'.format(np.min(m), np.max(m)))\n",
    "    return m\n",
    "\n",
    "left['MinPhase'] = minimum_phase(left)\n",
    "left['ExcessPhase'] = np.angle( np.array([cmath.rect(1, l) for l in left.Phase])-np.array([cmath.rect(1, m) for m in left.MinPhase]), deg=True)\n",
    "right['MinPhase'] = minimum_phase(right)\n",
    "right['ExcessPhase'] = np.angle( np.array([cmath.rect(1, l) for l in right.Phase])-np.array([cmath.rect(1, m) for m in right.MinPhase]), deg=True)"
   ]
  },
  {
   "cell_type": "code",
   "execution_count": 226,
   "id": "sought-syracuse",
   "metadata": {},
   "outputs": [],
   "source": [
    "def plot(df, f_max):\n",
    "    x_axis=alt.X('Freq:Q', title='Frequency (Hz)', axis=alt.Axis(format='s'), scale=alt.Scale(type=\"log\", nice=False, domain=[20, f_max]))\n",
    "    freq = alt.Chart(df.loc[df.Freq<=f_max]).mark_line(\n",
    "    ).encode(\n",
    "        x=x_axis,\n",
    "        y=alt.Y('dB:Q', title='Sound Pressure (dB SPL)', scale=alt.Scale(zero=False, domain=[30, 80]))\n",
    "    ).properties(width=500, height=300)\n",
    "    phase = alt.Chart(df.loc[df.Freq<=f_max]).mark_line(\n",
    "    ).encode(\n",
    "        x=x_axis,\n",
    "        y=alt.Y('Phase:Q', title='Phase (deg)', scale=alt.Scale(zero=False, nice=False, domain=[-180, 180])),\n",
    "        color=alt.value('green')\n",
    "    ).properties(width=500, height=200)\n",
    "    min_phase = alt.Chart(df.loc[df.Freq<=f_max]).mark_line(\n",
    "    ).encode(\n",
    "        x=x_axis,\n",
    "        y=alt.Y('MinPhase:Q', title='Phase (deg)', scale=alt.Scale(zero=False, nice=False, domain=[-180, 180])),\n",
    "        color=alt.value('red')\n",
    "    ).properties(width=500, height=200)\n",
    "    excess_phase = alt.Chart(df.loc[df.Freq<=f_max]\n",
    "    ).mark_line(\n",
    "    ).encode(\n",
    "        x=x_axis,\n",
    "        y=alt.Y('ExcessPhase:Q', title='Phase (deg)', scale=alt.Scale(zero=False, nice=False, domain=[-180, 180])),\n",
    "        color=alt.value('yellow')\n",
    "    ).properties(width=500, height=200)\n",
    "    chart = alt.vconcat(freq, phase+min_phase+excess_phase)\n",
    "    return chart"
   ]
  },
  {
   "cell_type": "code",
   "execution_count": 227,
   "id": "defined-spiritual",
   "metadata": {},
   "outputs": [
    {
     "data": {
      "text/html": [
       "\n",
       "<div id=\"altair-viz-62a7f37ff46a4f8ea74ffc7a90c5bf48\"></div>\n",
       "<script type=\"text/javascript\">\n",
       "  (function(spec, embedOpt){\n",
       "    let outputDiv = document.currentScript.previousElementSibling;\n",
       "    if (outputDiv.id !== \"altair-viz-62a7f37ff46a4f8ea74ffc7a90c5bf48\") {\n",
       "      outputDiv = document.getElementById(\"altair-viz-62a7f37ff46a4f8ea74ffc7a90c5bf48\");\n",
       "    }\n",
       "    const paths = {\n",
       "      \"vega\": \"https://cdn.jsdelivr.net/npm//vega@5?noext\",\n",
       "      \"vega-lib\": \"https://cdn.jsdelivr.net/npm//vega-lib?noext\",\n",
       "      \"vega-lite\": \"https://cdn.jsdelivr.net/npm//vega-lite@4.8.1?noext\",\n",
       "      \"vega-embed\": \"https://cdn.jsdelivr.net/npm//vega-embed@6?noext\",\n",
       "    };\n",
       "\n",
       "    function loadScript(lib) {\n",
       "      return new Promise(function(resolve, reject) {\n",
       "        var s = document.createElement('script');\n",
       "        s.src = paths[lib];\n",
       "        s.async = true;\n",
       "        s.onload = () => resolve(paths[lib]);\n",
       "        s.onerror = () => reject(`Error loading script: ${paths[lib]}`);\n",
       "        document.getElementsByTagName(\"head\")[0].appendChild(s);\n",
       "      });\n",
       "    }\n",
       "\n",
       "    function showError(err) {\n",
       "      outputDiv.innerHTML = `<div class=\"error\" style=\"color:red;\">${err}</div>`;\n",
       "      throw err;\n",
       "    }\n",
       "\n",
       "    function displayChart(vegaEmbed) {\n",
       "      vegaEmbed(outputDiv, spec, embedOpt)\n",
       "        .catch(err => showError(`Javascript Error: ${err.message}<br>This usually means there's a typo in your chart specification. See the javascript console for the full traceback.`));\n",
       "    }\n",
       "\n",
       "    if(typeof define === \"function\" && define.amd) {\n",
       "      requirejs.config({paths});\n",
       "      require([\"vega-embed\"], displayChart, err => showError(`Error loading script: ${err.message}`));\n",
       "    } else if (typeof vegaEmbed === \"function\") {\n",
       "      displayChart(vegaEmbed);\n",
       "    } else {\n",
       "      loadScript(\"vega\")\n",
       "        .then(() => loadScript(\"vega-lite\"))\n",
       "        .then(() => loadScript(\"vega-embed\"))\n",
       "        .catch(showError)\n",
       "        .then(() => displayChart(vegaEmbed));\n",
       "    }\n",
       "  })({\"config\": {\"view\": {\"continuousWidth\": 400, \"continuousHeight\": 300}}, \"hconcat\": [{\"vconcat\": [{\"data\": {\"name\": \"data-256ac8c1871b64274aa6b27b38652cad\"}, \"mark\": \"line\", \"encoding\": {\"x\": {\"type\": \"quantitative\", \"axis\": {\"format\": \"s\"}, \"field\": \"Freq\", \"scale\": {\"domain\": [20, 200], \"nice\": false, \"type\": \"log\"}, \"title\": \"Frequency (Hz)\"}, \"y\": {\"type\": \"quantitative\", \"field\": \"dB\", \"scale\": {\"domain\": [30, 80], \"zero\": false}, \"title\": \"Sound Pressure (dB SPL)\"}}, \"height\": 300, \"width\": 500}, {\"layer\": [{\"data\": {\"name\": \"data-256ac8c1871b64274aa6b27b38652cad\"}, \"mark\": \"line\", \"encoding\": {\"color\": {\"value\": \"green\"}, \"x\": {\"type\": \"quantitative\", \"axis\": {\"format\": \"s\"}, \"field\": \"Freq\", \"scale\": {\"domain\": [20, 200], \"nice\": false, \"type\": \"log\"}, \"title\": \"Frequency (Hz)\"}, \"y\": {\"type\": \"quantitative\", \"field\": \"Phase\", \"scale\": {\"domain\": [-180, 180], \"nice\": false, \"zero\": false}, \"title\": \"Phase (deg)\"}}, \"height\": 200, \"width\": 500}, {\"data\": {\"name\": \"data-256ac8c1871b64274aa6b27b38652cad\"}, \"mark\": \"line\", \"encoding\": {\"color\": {\"value\": \"red\"}, \"x\": {\"type\": \"quantitative\", \"axis\": {\"format\": \"s\"}, \"field\": \"Freq\", \"scale\": {\"domain\": [20, 200], \"nice\": false, \"type\": \"log\"}, \"title\": \"Frequency (Hz)\"}, \"y\": {\"type\": \"quantitative\", \"field\": \"MinPhase\", \"scale\": {\"domain\": [-180, 180], \"nice\": false, \"zero\": false}, \"title\": \"Phase (deg)\"}}, \"height\": 200, \"width\": 500}, {\"data\": {\"name\": \"data-256ac8c1871b64274aa6b27b38652cad\"}, \"mark\": \"line\", \"encoding\": {\"color\": {\"value\": \"yellow\"}, \"x\": {\"type\": \"quantitative\", \"axis\": {\"format\": \"s\"}, \"field\": \"Freq\", \"scale\": {\"domain\": [20, 200], \"nice\": false, \"type\": \"log\"}, \"title\": \"Frequency (Hz)\"}, \"y\": {\"type\": \"quantitative\", \"field\": \"ExcessPhase\", \"scale\": {\"domain\": [-180, 180], \"nice\": false, \"zero\": false}, \"title\": \"Phase (deg)\"}}, \"height\": 200, \"width\": 500}]}], \"title\": \"Genelec 8361 + W371 GLM (ON) Left\"}, {\"vconcat\": [{\"data\": {\"name\": \"data-55b4a0d2b4fb78d49ff589a60591a951\"}, \"mark\": \"line\", \"encoding\": {\"x\": {\"type\": \"quantitative\", \"axis\": {\"format\": \"s\"}, \"field\": \"Freq\", \"scale\": {\"domain\": [20, 200], \"nice\": false, \"type\": \"log\"}, \"title\": \"Frequency (Hz)\"}, \"y\": {\"type\": \"quantitative\", \"field\": \"dB\", \"scale\": {\"domain\": [30, 80], \"zero\": false}, \"title\": \"Sound Pressure (dB SPL)\"}}, \"height\": 300, \"width\": 500}, {\"layer\": [{\"data\": {\"name\": \"data-55b4a0d2b4fb78d49ff589a60591a951\"}, \"mark\": \"line\", \"encoding\": {\"color\": {\"value\": \"green\"}, \"x\": {\"type\": \"quantitative\", \"axis\": {\"format\": \"s\"}, \"field\": \"Freq\", \"scale\": {\"domain\": [20, 200], \"nice\": false, \"type\": \"log\"}, \"title\": \"Frequency (Hz)\"}, \"y\": {\"type\": \"quantitative\", \"field\": \"Phase\", \"scale\": {\"domain\": [-180, 180], \"nice\": false, \"zero\": false}, \"title\": \"Phase (deg)\"}}, \"height\": 200, \"width\": 500}, {\"data\": {\"name\": \"data-55b4a0d2b4fb78d49ff589a60591a951\"}, \"mark\": \"line\", \"encoding\": {\"color\": {\"value\": \"red\"}, \"x\": {\"type\": \"quantitative\", \"axis\": {\"format\": \"s\"}, \"field\": \"Freq\", \"scale\": {\"domain\": [20, 200], \"nice\": false, \"type\": \"log\"}, \"title\": \"Frequency (Hz)\"}, \"y\": {\"type\": \"quantitative\", \"field\": \"MinPhase\", \"scale\": {\"domain\": [-180, 180], \"nice\": false, \"zero\": false}, \"title\": \"Phase (deg)\"}}, \"height\": 200, \"width\": 500}, {\"data\": {\"name\": \"data-55b4a0d2b4fb78d49ff589a60591a951\"}, \"mark\": \"line\", \"encoding\": {\"color\": {\"value\": \"yellow\"}, \"x\": {\"type\": \"quantitative\", \"axis\": {\"format\": \"s\"}, \"field\": \"Freq\", \"scale\": {\"domain\": [20, 200], \"nice\": false, \"type\": \"log\"}, \"title\": \"Frequency (Hz)\"}, \"y\": {\"type\": \"quantitative\", \"field\": \"ExcessPhase\", \"scale\": {\"domain\": [-180, 180], \"nice\": false, \"zero\": false}, \"title\": \"Phase (deg)\"}}, \"height\": 200, \"width\": 500}]}], \"title\": \"Genelec 8361 + W371 GLM (ON) Right\"}], \"$schema\": \"https://vega.github.io/schema/vega-lite/v4.8.1.json\", \"datasets\": {\"data-256ac8c1871b64274aa6b27b38652cad\": [{\"Freq\": 20.586, \"dB\": 68.485, \"Phase\": 6.803, \"MinPhase\": 91.72578564531298, \"ExcessPhase\": 32.6417890128015}, {\"Freq\": 21.189, \"dB\": 68.599, \"Phase\": -16.383, \"MinPhase\": 87.44134836193899, \"ExcessPhase\": 145.67173015472542}, {\"Freq\": 21.81, \"dB\": 68.491, \"Phase\": -33.143, \"MinPhase\": 78.4162513355016, \"ExcessPhase\": -53.01688682037035}, {\"Freq\": 22.449, \"dB\": 68.6, \"Phase\": -46.46, \"MinPhase\": 71.81787446716511, \"ExcessPhase\": -83.55040780444398}, {\"Freq\": 23.107, \"dB\": 69.263, \"Phase\": -58.174, \"MinPhase\": 74.08992874890437, \"ExcessPhase\": -174.0422278284235}, {\"Freq\": 23.784, \"dB\": 70.433, \"Phase\": -71.922, \"MinPhase\": 70.18724804871805, \"ExcessPhase\": -139.69698265526998}, {\"Freq\": 24.481, \"dB\": 71.59, \"Phase\": -89.882, \"MinPhase\": 68.24959337363251, \"ExcessPhase\": -169.72280020084656}, {\"Freq\": 25.198, \"dB\": 72.181, \"Phase\": -111.019, \"MinPhase\": 63.92436286678259, \"ExcessPhase\": -179.16197271672223}, {\"Freq\": 25.937, \"dB\": 71.914, \"Phase\": -131.694, \"MinPhase\": 66.54995442228419, \"ExcessPhase\": 23.76056399450503}, {\"Freq\": 26.697, \"dB\": 71.059, \"Phase\": -146.365, \"MinPhase\": 66.10646215443475, \"ExcessPhase\": -49.23774422093999}, {\"Freq\": 27.479, \"dB\": 70.952, \"Phase\": -154.368, \"MinPhase\": 65.09583748835654, \"ExcessPhase\": -127.45906996158841}, {\"Freq\": 28.284, \"dB\": 71.966, \"Phase\": -166.107, \"MinPhase\": 69.47914197451318, \"ExcessPhase\": -158.1842241248573}, {\"Freq\": 29.113, \"dB\": 72.588, \"Phase\": 175.423, \"MinPhase\": 68.71053503895847, \"ExcessPhase\": -116.08940232923915}, {\"Freq\": 29.966, \"dB\": 72.342, \"Phase\": 157.283, \"MinPhase\": 66.18970235560381, \"ExcessPhase\": 12.021340679673775}, {\"Freq\": 30.844, \"dB\": 71.816, \"Phase\": 142.217, \"MinPhase\": 64.28988697538384, \"ExcessPhase\": -114.01346796269783}, {\"Freq\": 31.748, \"dB\": 71.0, \"Phase\": 128.283, \"MinPhase\": 66.62316229820921, \"ExcessPhase\": 93.65025038961615}, {\"Freq\": 32.678, \"dB\": 69.824, \"Phase\": 121.013, \"MinPhase\": 66.71731595591363, \"ExcessPhase\": 68.07739546565391}, {\"Freq\": 33.636, \"dB\": 70.154, \"Phase\": 119.053, \"MinPhase\": 65.93016443224158, \"ExcessPhase\": -10.62269852901732}, {\"Freq\": 34.621, \"dB\": 71.346, \"Phase\": 107.852, \"MinPhase\": 72.43846407993733, \"ExcessPhase\": 34.94133911768886}, {\"Freq\": 35.636, \"dB\": 71.799, \"Phase\": 92.452, \"MinPhase\": 72.0616018233331, \"ExcessPhase\": -57.03247151364439}, {\"Freq\": 36.68, \"dB\": 71.928, \"Phase\": 78.477, \"MinPhase\": 73.16112356140249, \"ExcessPhase\": 114.11224667582532}, {\"Freq\": 37.755, \"dB\": 71.902, \"Phase\": 65.641, \"MinPhase\": 70.04518062578308, \"ExcessPhase\": -162.8772559464352}, {\"Freq\": 38.861, \"dB\": 71.872, \"Phase\": 55.477, \"MinPhase\": 65.29154474200853, \"ExcessPhase\": -50.23604417303123}, {\"Freq\": 40.0, \"dB\": 72.337, \"Phase\": 46.289, \"MinPhase\": 69.26539368277237, \"ExcessPhase\": 160.38953110801918}, {\"Freq\": 41.172, \"dB\": 73.102, \"Phase\": 33.727, \"MinPhase\": 70.19451472833346, \"ExcessPhase\": -172.86790272993466}, {\"Freq\": 42.379, \"dB\": 73.577, \"Phase\": 18.6, \"MinPhase\": 69.3267415924614, \"ExcessPhase\": -91.08440020728332}, {\"Freq\": 43.62, \"dB\": 73.91, \"Phase\": 3.945, \"MinPhase\": 72.63825494781251, \"ExcessPhase\": -56.05135505798179}, {\"Freq\": 44.898, \"dB\": 74.355, \"Phase\": -11.329, \"MinPhase\": 71.29144998119861, \"ExcessPhase\": 7.797656593491354}, {\"Freq\": 46.214, \"dB\": 74.67, \"Phase\": -28.074, \"MinPhase\": 71.72553346906159, \"ExcessPhase\": -99.47568147435695}, {\"Freq\": 47.568, \"dB\": 74.813, \"Phase\": -43.882, \"MinPhase\": 71.3627751341268, \"ExcessPhase\": -22.733783533237563}, {\"Freq\": 48.962, \"dB\": 75.536, \"Phase\": -60.679, \"MinPhase\": 67.8905928468833, \"ExcessPhase\": 116.59691684657338}, {\"Freq\": 50.397, \"dB\": 76.14, \"Phase\": -85.538, \"MinPhase\": 69.06252491699865, \"ExcessPhase\": 158.01240613553674}, {\"Freq\": 51.874, \"dB\": 75.647, \"Phase\": -114.911, \"MinPhase\": 64.06795066072908, \"ExcessPhase\": -106.5460723578162}, {\"Freq\": 53.394, \"dB\": 73.459, \"Phase\": -144.526, \"MinPhase\": 66.69274478682574, \"ExcessPhase\": 20.241485260250993}, {\"Freq\": 54.958, \"dB\": 69.79, \"Phase\": -159.995, \"MinPhase\": 66.93660706826651, \"ExcessPhase\": 124.07341837080972}, {\"Freq\": 56.569, \"dB\": 66.615, \"Phase\": -163.469, \"MinPhase\": 63.81172084513803, \"ExcessPhase\": -64.97074666533307}, {\"Freq\": 58.226, \"dB\": 65.541, \"Phase\": -152.041, \"MinPhase\": 66.20215451842412, \"ExcessPhase\": -29.10178218495694}, {\"Freq\": 59.932, \"dB\": 68.773, \"Phase\": -148.669, \"MinPhase\": 66.8893677923448, \"ExcessPhase\": 87.18611218461069}, {\"Freq\": 61.688, \"dB\": 72.189, \"Phase\": -176.021, \"MinPhase\": 71.34422888796213, \"ExcessPhase\": -28.768598888352923}, {\"Freq\": 63.496, \"dB\": 72.868, \"Phase\": 147.309, \"MinPhase\": 70.42027586865181, \"ExcessPhase\": -152.51570814332533}, {\"Freq\": 65.357, \"dB\": 72.651, \"Phase\": 111.781, \"MinPhase\": 66.62614287898622, \"ExcessPhase\": -19.0118390233154}, {\"Freq\": 67.272, \"dB\": 72.527, \"Phase\": 73.126, \"MinPhase\": 67.16986404527032, \"ExcessPhase\": 149.1804464675909}, {\"Freq\": 69.243, \"dB\": 72.109, \"Phase\": 24.74, \"MinPhase\": 65.25109374621196, \"ExcessPhase\": -31.94506728795903}, {\"Freq\": 71.272, \"dB\": 71.695, \"Phase\": -30.081, \"MinPhase\": 63.9324952621275, \"ExcessPhase\": 159.77390436350416}, {\"Freq\": 73.36, \"dB\": 71.991, \"Phase\": -87.986, \"MinPhase\": 62.692882589120494, \"ExcessPhase\": 85.40556081387201}, {\"Freq\": 75.51, \"dB\": 74.385, \"Phase\": -150.919, \"MinPhase\": 61.10158905203281, \"ExcessPhase\": 36.92071294468246}, {\"Freq\": 77.723, \"dB\": 75.744, \"Phase\": 136.234, \"MinPhase\": 60.38106391434094, \"ExcessPhase\": -37.393324506666325}, {\"Freq\": 80.0, \"dB\": 74.002, \"Phase\": 73.605, \"MinPhase\": 62.53918731723908, \"ExcessPhase\": -149.75633074184537}, {\"Freq\": 82.344, \"dB\": 73.803, \"Phase\": 31.407, \"MinPhase\": 64.27844081472006, \"ExcessPhase\": -48.81404023385582}, {\"Freq\": 84.757, \"dB\": 74.154, \"Phase\": -37.664, \"MinPhase\": 62.036769378582996, \"ExcessPhase\": 68.22841021924782}, {\"Freq\": 87.241, \"dB\": 69.303, \"Phase\": -112.765, \"MinPhase\": 59.0297867480676, \"ExcessPhase\": -9.400465285589027}, {\"Freq\": 89.797, \"dB\": 60.714, \"Phase\": -175.865, \"MinPhase\": 57.0526318331832, \"ExcessPhase\": -73.72362495654838}, {\"Freq\": 92.428, \"dB\": 47.134, \"Phase\": -156.946, \"MinPhase\": 55.45587114176065, \"ExcessPhase\": 62.52197709200266}, {\"Freq\": 95.137, \"dB\": 55.082, \"Phase\": -170.398, \"MinPhase\": 62.032693755807585, \"ExcessPhase\": 45.562653282554415}, {\"Freq\": 97.924, \"dB\": 60.733, \"Phase\": 116.705, \"MinPhase\": 64.02689659947423, \"ExcessPhase\": -132.41255072766614}, {\"Freq\": 100.794, \"dB\": 63.995, \"Phase\": 57.746, \"MinPhase\": 68.75647267367262, \"ExcessPhase\": 114.02889108523394}, {\"Freq\": 103.747, \"dB\": 65.313, \"Phase\": 18.123, \"MinPhase\": 69.49012377310592, \"ExcessPhase\": -100.06888892186603}, {\"Freq\": 106.787, \"dB\": 68.956, \"Phase\": -8.483, \"MinPhase\": 69.70519717474835, \"ExcessPhase\": -136.1132446845836}, {\"Freq\": 109.916, \"dB\": 70.828, \"Phase\": -61.287, \"MinPhase\": 67.83119655638207, \"ExcessPhase\": 97.47742149236981}, {\"Freq\": 113.137, \"dB\": 68.364, \"Phase\": -111.528, \"MinPhase\": 66.9154144452203, \"ExcessPhase\": 71.94356727241052}, {\"Freq\": 116.452, \"dB\": 60.671, \"Phase\": -116.235, \"MinPhase\": 62.359402301805, \"ExcessPhase\": 166.5778165743469}, {\"Freq\": 119.865, \"dB\": 62.635, \"Phase\": -93.692, \"MinPhase\": 67.12901761986394, \"ExcessPhase\": 49.026609168917155}, {\"Freq\": 123.377, \"dB\": 64.237, \"Phase\": -102.832, \"MinPhase\": 64.63601450791771, \"ExcessPhase\": -104.2343815196189}, {\"Freq\": 126.992, \"dB\": 66.168, \"Phase\": -112.74, \"MinPhase\": 67.90836428448492, \"ExcessPhase\": 65.6682424165108}, {\"Freq\": 130.713, \"dB\": 66.616, \"Phase\": -127.169, \"MinPhase\": 64.03736725348891, \"ExcessPhase\": -98.58805507249347}, {\"Freq\": 134.543, \"dB\": 69.983, \"Phase\": -134.568, \"MinPhase\": 66.40927536882897, \"ExcessPhase\": -62.60362918023451}, {\"Freq\": 138.486, \"dB\": 70.626, \"Phase\": -170.17, \"MinPhase\": 68.42860110266179, \"ExcessPhase\": 55.323620712776844}, {\"Freq\": 142.544, \"dB\": 68.511, \"Phase\": 168.638, \"MinPhase\": 67.35928969083133, \"ExcessPhase\": 10.82433790544387}, {\"Freq\": 146.721, \"dB\": 67.755, \"Phase\": 165.615, \"MinPhase\": 63.30544788473527, \"ExcessPhase\": 168.08775401992244}, {\"Freq\": 151.02, \"dB\": 68.413, \"Phase\": 150.229, \"MinPhase\": 63.51580377022878, \"ExcessPhase\": -86.66242555696219}, {\"Freq\": 155.445, \"dB\": 66.993, \"Phase\": 135.972, \"MinPhase\": 64.183232117037, \"ExcessPhase\": -115.97497611621739}, {\"Freq\": 160.0, \"dB\": 65.524, \"Phase\": 133.203, \"MinPhase\": 68.09770680962527, \"ExcessPhase\": 96.84045659595914}, {\"Freq\": 164.688, \"dB\": 66.327, \"Phase\": 135.659, \"MinPhase\": 68.44439385029753, \"ExcessPhase\": 177.13152595922446}, {\"Freq\": 169.514, \"dB\": 67.684, \"Phase\": 126.134, \"MinPhase\": 66.01764802104115, \"ExcessPhase\": 14.73922904448743}, {\"Freq\": 174.481, \"dB\": 68.08, \"Phase\": 112.852, \"MinPhase\": 66.38314820072223, \"ExcessPhase\": 4.708766151607344}, {\"Freq\": 179.594, \"dB\": 68.726, \"Phase\": 104.131, \"MinPhase\": 69.30842714549027, \"ExcessPhase\": -161.3264116983424}, {\"Freq\": 184.856, \"dB\": 69.741, \"Phase\": 88.13, \"MinPhase\": 67.03680498342058, \"ExcessPhase\": 35.20152303975421}, {\"Freq\": 190.273, \"dB\": 70.035, \"Phase\": 65.244, \"MinPhase\": 66.4305292462095, \"ExcessPhase\": 82.19739758986464}, {\"Freq\": 195.849, \"dB\": 68.461, \"Phase\": 44.922, \"MinPhase\": 65.40974409675904, \"ExcessPhase\": 10.77164153086391}], \"data-55b4a0d2b4fb78d49ff589a60591a951\": [{\"Freq\": 20.586, \"dB\": 69.46, \"Phase\": 19.471, \"MinPhase\": 95.02123829792649, \"ExcessPhase\": -50.03897926136226}, {\"Freq\": 21.189, \"dB\": 70.432, \"Phase\": -7.944, \"MinPhase\": 86.0513405289545, \"ExcessPhase\": -12.389519349892227}, {\"Freq\": 21.81, \"dB\": 71.065, \"Phase\": -31.94, \"MinPhase\": 76.13728431699647, \"ExcessPhase\": -83.84107134817955}, {\"Freq\": 22.449, \"dB\": 71.502, \"Phase\": -56.173, \"MinPhase\": 68.0003501209885, \"ExcessPhase\": 68.82862237809226}, {\"Freq\": 23.107, \"dB\": 71.659, \"Phase\": -80.554, \"MinPhase\": 70.85038059310918, \"ExcessPhase\": -7.988219008041622}, {\"Freq\": 23.784, \"dB\": 71.421, \"Phase\": -104.865, \"MinPhase\": 65.24959662397242, \"ExcessPhase\": 35.10229142265362}, {\"Freq\": 24.481, \"dB\": 70.586, \"Phase\": -128.526, \"MinPhase\": 67.64918402674665, \"ExcessPhase\": 146.00768726899386}, {\"Freq\": 25.198, \"dB\": 68.841, \"Phase\": -149.249, \"MinPhase\": 66.46340913363366, \"ExcessPhase\": 58.36751943021644}, {\"Freq\": 25.937, \"dB\": 66.054, \"Phase\": -159.583, \"MinPhase\": 65.34296476460297, \"ExcessPhase\": -89.77814007620862}, {\"Freq\": 26.697, \"dB\": 64.246, \"Phase\": -149.792, \"MinPhase\": 67.54180839796133, \"ExcessPhase\": 73.70557853040864}, {\"Freq\": 27.479, \"dB\": 66.48, \"Phase\": -140.089, \"MinPhase\": 73.44563206324527, \"ExcessPhase\": -19.191857656759424}, {\"Freq\": 28.284, \"dB\": 69.769, \"Phase\": -147.547, \"MinPhase\": 73.06160613649857, \"ExcessPhase\": 116.1506481258636}, {\"Freq\": 29.113, \"dB\": 72.555, \"Phase\": -165.865, \"MinPhase\": 71.79192754934463, \"ExcessPhase\": -84.99500862548453}, {\"Freq\": 29.966, \"dB\": 74.474, \"Phase\": 169.75, \"MinPhase\": 70.9403468431436, \"ExcessPhase\": -34.7294781739674}, {\"Freq\": 30.844, \"dB\": 75.574, \"Phase\": 143.563, \"MinPhase\": 64.20118243102344, \"ExcessPhase\": -77.99460635813499}, {\"Freq\": 31.748, \"dB\": 76.236, \"Phase\": 116.179, \"MinPhase\": 68.24725249646104, \"ExcessPhase\": 153.42294973064003}, {\"Freq\": 32.678, \"dB\": 76.235, \"Phase\": 84.716, \"MinPhase\": 67.7346828934539, \"ExcessPhase\": 137.39035684108237}, {\"Freq\": 33.636, \"dB\": 74.638, \"Phase\": 51.091, \"MinPhase\": 61.896846811980346, \"ExcessPhase\": 86.86337929857359}, {\"Freq\": 34.621, \"dB\": 70.954, \"Phase\": 26.585, \"MinPhase\": 61.923134550881244, \"ExcessPhase\": 105.57128117075759}, {\"Freq\": 35.636, \"dB\": 67.155, \"Phase\": 22.861, \"MinPhase\": 66.02747793355736, \"ExcessPhase\": -63.532683532707}, {\"Freq\": 36.68, \"dB\": 65.676, \"Phase\": 24.515, \"MinPhase\": 61.87472111324589, \"ExcessPhase\": 44.88320655060458}, {\"Freq\": 37.755, \"dB\": 65.276, \"Phase\": 25.525, \"MinPhase\": 63.03113464163681, \"ExcessPhase\": 106.94638247902698}, {\"Freq\": 38.861, \"dB\": 65.809, \"Phase\": 22.762, \"MinPhase\": 65.1315897274501, \"ExcessPhase\": -92.03413118135074}, {\"Freq\": 40.0, \"dB\": 66.721, \"Phase\": 17.926, \"MinPhase\": 65.76530844595388, \"ExcessPhase\": -32.42062205963125}, {\"Freq\": 41.172, \"dB\": 68.425, \"Phase\": 7.581, \"MinPhase\": 64.65617860732083, \"ExcessPhase\": -0.5572709338994678}, {\"Freq\": 42.379, \"dB\": 69.737, \"Phase\": -12.602, \"MinPhase\": 68.76763526151818, \"ExcessPhase\": 79.02692707807367}, {\"Freq\": 43.62, \"dB\": 69.701, \"Phase\": -36.3, \"MinPhase\": 65.182910639283, \"ExcessPhase\": 17.434439842209073}, {\"Freq\": 44.898, \"dB\": 68.796, \"Phase\": -55.659, \"MinPhase\": 64.85124552711609, \"ExcessPhase\": -6.661563524119588}, {\"Freq\": 46.214, \"dB\": 68.025, \"Phase\": -72.035, \"MinPhase\": 64.406685618648, \"ExcessPhase\": -128.53510942520955}, {\"Freq\": 47.568, \"dB\": 67.411, \"Phase\": -87.186, \"MinPhase\": 60.08198314487958, \"ExcessPhase\": 33.52711317507656}, {\"Freq\": 48.962, \"dB\": 67.763, \"Phase\": -105.849, \"MinPhase\": 58.440917132100246, \"ExcessPhase\": -8.141531568559952}, {\"Freq\": 50.397, \"dB\": 67.617, \"Phase\": -137.691, \"MinPhase\": 56.05898140220235, \"ExcessPhase\": 91.41493060637511}, {\"Freq\": 51.874, \"dB\": 65.762, \"Phase\": 178.305, \"MinPhase\": 57.51610113045957, \"ExcessPhase\": -174.2230925484501}, {\"Freq\": 53.394, \"dB\": 61.082, \"Phase\": 110.618, \"MinPhase\": 57.14721825490956, \"ExcessPhase\": -143.88052245128446}, {\"Freq\": 54.958, \"dB\": 57.85, \"Phase\": 15.126, \"MinPhase\": 65.49129106200138, \"ExcessPhase\": 59.515266815206566}, {\"Freq\": 56.569, \"dB\": 60.399, \"Phase\": -51.167, \"MinPhase\": 65.45937174514545, \"ExcessPhase\": -40.553709885569496}, {\"Freq\": 58.226, \"dB\": 61.246, \"Phase\": -78.399, \"MinPhase\": 64.09891221340072, \"ExcessPhase\": -139.6673384193568}, {\"Freq\": 59.932, \"dB\": 64.32, \"Phase\": -93.53, \"MinPhase\": 67.24929270086947, \"ExcessPhase\": 57.1131945705821}, {\"Freq\": 61.688, \"dB\": 67.662, \"Phase\": -121.958, \"MinPhase\": 66.55927905166592, \"ExcessPhase\": 122.94354961873803}, {\"Freq\": 63.496, \"dB\": 68.594, \"Phase\": -163.066, \"MinPhase\": 66.18500267045358, \"ExcessPhase\": 14.563868999395666}, {\"Freq\": 65.357, \"dB\": 67.03, \"Phase\": 166.697, \"MinPhase\": 69.2512156056925, \"ExcessPhase\": -170.58153107551678}, {\"Freq\": 67.272, \"dB\": 66.274, \"Phase\": 149.059, \"MinPhase\": 67.15760042044386, \"ExcessPhase\": -15.850667621013363}, {\"Freq\": 69.243, \"dB\": 66.847, \"Phase\": 129.411, \"MinPhase\": 66.98514312770935, \"ExcessPhase\": 136.33505693249634}, {\"Freq\": 71.272, \"dB\": 68.04, \"Phase\": 102.15, \"MinPhase\": 67.55682031957157, \"ExcessPhase\": 91.74227944822583}, {\"Freq\": 73.36, \"dB\": 68.989, \"Phase\": 68.656, \"MinPhase\": 64.47981563595137, \"ExcessPhase\": -55.93983101407617}, {\"Freq\": 75.51, \"dB\": 69.667, \"Phase\": 28.74, \"MinPhase\": 63.66042505219489, \"ExcessPhase\": -142.92280964717688}, {\"Freq\": 77.723, \"dB\": 69.147, \"Phase\": -15.301, \"MinPhase\": 61.779128111719956, \"ExcessPhase\": 161.50029023494986}, {\"Freq\": 80.0, \"dB\": 67.445, \"Phase\": -51.422, \"MinPhase\": 57.51054450642644, \"ExcessPhase\": -95.5760482021009}, {\"Freq\": 82.344, \"dB\": 67.269, \"Phase\": -81.569, \"MinPhase\": 59.94558026934709, \"ExcessPhase\": 10.534655396838408}, {\"Freq\": 84.757, \"dB\": 67.657, \"Phase\": -121.764, \"MinPhase\": 61.48306895156621, \"ExcessPhase\": 163.07853290280977}, {\"Freq\": 87.241, \"dB\": 65.96, \"Phase\": -160.378, \"MinPhase\": 60.074363093202116, \"ExcessPhase\": 96.51246771392144}, {\"Freq\": 89.797, \"dB\": 65.024, \"Phase\": 170.311, \"MinPhase\": 63.23494296659639, \"ExcessPhase\": 120.59842719450307}, {\"Freq\": 92.428, \"dB\": 64.096, \"Phase\": 140.188, \"MinPhase\": 61.75139605228678, \"ExcessPhase\": 115.13755560841453}, {\"Freq\": 95.137, \"dB\": 63.105, \"Phase\": 114.344, \"MinPhase\": 61.94415604661369, \"ExcessPhase\": 100.28365980731385}, {\"Freq\": 97.924, \"dB\": 62.464, \"Phase\": 95.918, \"MinPhase\": 61.27475385125372, \"ExcessPhase\": 93.2406828578277}, {\"Freq\": 100.794, \"dB\": 63.567, \"Phase\": 78.682, \"MinPhase\": 59.05222275302648, \"ExcessPhase\": -104.2051708684143}, {\"Freq\": 103.747, \"dB\": 65.721, \"Phase\": 50.506, \"MinPhase\": 64.25992247152021, \"ExcessPhase\": -42.19850522813911}, {\"Freq\": 106.787, \"dB\": 65.995, \"Phase\": 15.726, \"MinPhase\": 68.80037574698359, \"ExcessPhase\": 171.50229391956043}, {\"Freq\": 109.916, \"dB\": 65.842, \"Phase\": -8.751, \"MinPhase\": 68.65648647278974, \"ExcessPhase\": -173.83422771555183}, {\"Freq\": 113.137, \"dB\": 65.854, \"Phase\": -33.983, \"MinPhase\": 69.6210808343577, \"ExcessPhase\": -149.04418912261815}, {\"Freq\": 116.452, \"dB\": 64.892, \"Phase\": -55.593, \"MinPhase\": 62.1383701664113, \"ExcessPhase\": 97.51104294310427}, {\"Freq\": 119.865, \"dB\": 64.678, \"Phase\": -65.667, \"MinPhase\": 59.67560789697001, \"ExcessPhase\": -81.6407404558146}, {\"Freq\": 123.377, \"dB\": 65.453, \"Phase\": -76.489, \"MinPhase\": 61.96593417381436, \"ExcessPhase\": -146.05518871555668}, {\"Freq\": 126.992, \"dB\": 67.552, \"Phase\": -87.654, \"MinPhase\": 58.66513159430463, \"ExcessPhase\": -20.469906253239888}, {\"Freq\": 130.713, \"dB\": 69.826, \"Phase\": -114.684, \"MinPhase\": 66.56073655997821, \"ExcessPhase\": -28.6299457547319}, {\"Freq\": 134.543, \"dB\": 69.273, \"Phase\": -145.087, \"MinPhase\": 68.88662248353667, \"ExcessPhase\": -112.98001449845889}, {\"Freq\": 138.486, \"dB\": 67.896, \"Phase\": -155.101, \"MinPhase\": 68.83800997611331, \"ExcessPhase\": 138.74737172608428}, {\"Freq\": 142.544, \"dB\": 68.988, \"Phase\": -162.312, \"MinPhase\": 69.32564649832231, \"ExcessPhase\": 126.13719602117222}, {\"Freq\": 146.721, \"dB\": 71.088, \"Phase\": 178.566, \"MinPhase\": 68.43734452199489, \"ExcessPhase\": 146.12458336306457}, {\"Freq\": 151.02, \"dB\": 71.936, \"Phase\": 151.601, \"MinPhase\": 65.13121015934978, \"ExcessPhase\": -1.0795366634375145}, {\"Freq\": 155.445, \"dB\": 71.688, \"Phase\": 124.36, \"MinPhase\": 60.10474442631233, \"ExcessPhase\": -25.47433770646391}, {\"Freq\": 160.0, \"dB\": 70.43, \"Phase\": 103.075, \"MinPhase\": 61.64402648829671, \"ExcessPhase\": 128.85251164150748}, {\"Freq\": 164.688, \"dB\": 70.596, \"Phase\": 83.072, \"MinPhase\": 67.14796691125188, \"ExcessPhase\": 73.48505130480501}, {\"Freq\": 169.514, \"dB\": 69.16, \"Phase\": 42.095, \"MinPhase\": 65.45878598566586, \"ExcessPhase\": -68.81099618402297}, {\"Freq\": 174.481, \"dB\": 63.461, \"Phase\": 23.211, \"MinPhase\": 61.7812633636439, \"ExcessPhase\": -175.15100899941737}, {\"Freq\": 179.594, \"dB\": 58.543, \"Phase\": -26.147, \"MinPhase\": 63.17324881737243, \"ExcessPhase\": -109.27610578165202}, {\"Freq\": 184.856, \"dB\": 60.956, \"Phase\": 163.935, \"MinPhase\": 65.54776500223907, \"ExcessPhase\": 4.196952810387168}, {\"Freq\": 190.273, \"dB\": 65.831, \"Phase\": 104.62, \"MinPhase\": 68.21152452393672, \"ExcessPhase\": -178.74153898332085}, {\"Freq\": 195.849, \"dB\": 68.205, \"Phase\": 72.57, \"MinPhase\": 69.1225047901971, \"ExcessPhase\": -170.80874344225344}]}}, {\"mode\": \"vega-lite\"});\n",
       "</script>"
      ],
      "text/plain": [
       "alt.HConcatChart(...)"
      ]
     },
     "execution_count": 227,
     "metadata": {},
     "output_type": "execute_result"
    }
   ],
   "source": [
    "f_max = 200\n",
    "alt.hconcat(\n",
    "    plot(left, f_max).properties(title='{} Left'.format(speaker)), \n",
    "    plot(right, f_max).properties(title='{} Right'.format(speaker)))"
   ]
  },
  {
   "cell_type": "code",
   "execution_count": null,
   "id": "occupational-oxide",
   "metadata": {},
   "outputs": [],
   "source": []
  },
  {
   "cell_type": "code",
   "execution_count": null,
   "id": "incorporated-dealing",
   "metadata": {},
   "outputs": [],
   "source": []
  },
  {
   "cell_type": "code",
   "execution_count": null,
   "id": "light-visibility",
   "metadata": {},
   "outputs": [],
   "source": []
  }
 ],
 "metadata": {
  "kernelspec": {
   "display_name": "Python 3",
   "language": "python",
   "name": "python3"
  },
  "language_info": {
   "codemirror_mode": {
    "name": "ipython",
    "version": 3
   },
   "file_extension": ".py",
   "mimetype": "text/x-python",
   "name": "python",
   "nbconvert_exporter": "python",
   "pygments_lexer": "ipython3",
   "version": "3.8.5"
  }
 },
 "nbformat": 4,
 "nbformat_minor": 5
}
