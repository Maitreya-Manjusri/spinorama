{
 "cells": [
  {
   "cell_type": "code",
   "execution_count": 36,
   "metadata": {},
   "outputs": [],
   "source": [
    "import numpy as np\n",
    "import pandas as pd\n",
    "import altair as alt"
   ]
  },
  {
   "cell_type": "code",
   "execution_count": 50,
   "metadata": {},
   "outputs": [],
   "source": [
    "def graph_summary(speaker_name, speaker_summary):\n",
    "    #  Title                                                                                                                                        \n",
    "    #                Score\n",
    "    #  mean 300-10kHz \n",
    "    #  -3dB          lfx                                                                                                                            \n",
    "    #  -6dB          lfq                                                                                                                            \n",
    "    # +/- nDB        nbd_on                                                                                                                         \n",
    "    #                nbd_pir                                                                                                                        \n",
    "    #                sm_pir                                                                                                                         \n",
    "    # --------------------------                                                                                                                    \n",
    "    pointsX = np.array([0.0, 0.00, 0.05, 0.0, 0.0, 0.0, 0.5, 0.5, 0.5, 0.5, 0.5, 0.5])+0.05\n",
    "    pointsY = np.array([1.9, 1.60, 1.4, 1.2, 1.0, 0.8, 1.9, 1.6, 1.4, 1.2, 1.0, 0.8])-0.2\n",
    "    source = pd.DataFrame({'x': pointsX, 'y': pointsY, 'summary': speaker_summary})\n",
    "    return alt.Chart(source).mark_text(\n",
    "        align='left',\n",
    "        dx=0\n",
    "    ).encode(\n",
    "        x=alt.X('x', title='', scale=alt.Scale(domain=[0,1]), axis=alt.Axis(ticks=False, labels=False, grid=False)),\n",
    "        y=alt.Y('y', title='', axis=alt.Axis(ticks=False, labels=False, grid=False)), text='summary:N'\n",
    "    ).configure_text(\n",
    "        fontSize=16\n",
    "    ).configure_view(\n",
    "        strokeWidth=0, opacity=0\n",
    "    ).configure_title(\n",
    "        fontSize=30,\n",
    "        fontWeight='bold'\n",
    "    ).properties(\n",
    "        width=600,\n",
    "        height=400,\n",
    "        title=speaker_name)"
   ]
  },
  {
   "cell_type": "code",
   "execution_count": 52,
   "metadata": {},
   "outputs": [
    {
     "data": {
      "text/html": [
       "\n",
       "<div id=\"altair-viz-588a12a5150745d48282967e279866d5\"></div>\n",
       "<script type=\"text/javascript\">\n",
       "  (function(spec, embedOpt){\n",
       "    let outputDiv = document.currentScript.previousElementSibling;\n",
       "    if (outputDiv.id !== \"altair-viz-588a12a5150745d48282967e279866d5\") {\n",
       "      outputDiv = document.getElementById(\"altair-viz-588a12a5150745d48282967e279866d5\");\n",
       "    }\n",
       "    const paths = {\n",
       "      \"vega\": \"https://cdn.jsdelivr.net/npm//vega@5?noext\",\n",
       "      \"vega-lib\": \"https://cdn.jsdelivr.net/npm//vega-lib?noext\",\n",
       "      \"vega-lite\": \"https://cdn.jsdelivr.net/npm//vega-lite@4.8.1?noext\",\n",
       "      \"vega-embed\": \"https://cdn.jsdelivr.net/npm//vega-embed@6?noext\",\n",
       "    };\n",
       "\n",
       "    function loadScript(lib) {\n",
       "      return new Promise(function(resolve, reject) {\n",
       "        var s = document.createElement('script');\n",
       "        s.src = paths[lib];\n",
       "        s.async = true;\n",
       "        s.onload = () => resolve(paths[lib]);\n",
       "        s.onerror = () => reject(`Error loading script: ${paths[lib]}`);\n",
       "        document.getElementsByTagName(\"head\")[0].appendChild(s);\n",
       "      });\n",
       "    }\n",
       "\n",
       "    function showError(err) {\n",
       "      outputDiv.innerHTML = `<div class=\"error\" style=\"color:red;\">${err}</div>`;\n",
       "      throw err;\n",
       "    }\n",
       "\n",
       "    function displayChart(vegaEmbed) {\n",
       "      vegaEmbed(outputDiv, spec, embedOpt)\n",
       "        .catch(err => showError(`Javascript Error: ${err.message}<br>This usually means there's a typo in your chart specification. See the javascript console for the full traceback.`));\n",
       "    }\n",
       "\n",
       "    if(typeof define === \"function\" && define.amd) {\n",
       "      requirejs.config({paths});\n",
       "      require([\"vega-embed\"], displayChart, err => showError(`Error loading script: ${err.message}`));\n",
       "    } else if (typeof vegaEmbed === \"function\") {\n",
       "      displayChart(vegaEmbed);\n",
       "    } else {\n",
       "      loadScript(\"vega\")\n",
       "        .then(() => loadScript(\"vega-lite\"))\n",
       "        .then(() => loadScript(\"vega-embed\"))\n",
       "        .catch(showError)\n",
       "        .then(() => displayChart(vegaEmbed));\n",
       "    }\n",
       "  })({\"config\": {\"view\": {\"continuousWidth\": 400, \"continuousHeight\": 300, \"opacity\": 0, \"strokeWidth\": 0}, \"text\": {\"fontSize\": 16}, \"title\": {\"fontSize\": 30, \"fontWeight\": \"bold\"}}, \"data\": {\"name\": \"data-cbd115408d3d0827267d64c82a655841\"}, \"mark\": {\"type\": \"text\", \"align\": \"left\", \"dx\": 0}, \"encoding\": {\"text\": {\"type\": \"nominal\", \"field\": \"summary\"}, \"x\": {\"type\": \"quantitative\", \"axis\": {\"grid\": false, \"labels\": false, \"ticks\": false}, \"field\": \"x\", \"scale\": {\"domain\": [0, 1]}, \"title\": \"\"}, \"y\": {\"type\": \"quantitative\", \"axis\": {\"grid\": false, \"labels\": false, \"ticks\": false}, \"field\": \"y\", \"title\": \"\"}}, \"height\": 400, \"title\": \"Focal Aria 906\", \"width\": 600, \"$schema\": \"https://vega.github.io/schema/vega-lite/v4.8.1.json\", \"datasets\": {\"data-cbd115408d3d0827267d64c82a655841\": [{\"x\": 0.05, \"y\": 1.7, \"summary\": \"Bookshelves\"}, {\"x\": 0.05, \"y\": 1.4000000000000001, \"summary\": \"Reference level 95 dB\"}, {\"x\": 0.1, \"y\": 1.2, \"summary\": \"(mean over 300-10k Hz)\"}, {\"x\": 0.05, \"y\": 1.0, \"summary\": \"-3dB at 30Hz wrt Ref.\"}, {\"x\": 0.05, \"y\": 0.8, \"summary\": \"-6dB at 27Hz wrt Ref.\"}, {\"x\": 0.05, \"y\": 0.6000000000000001, \"summary\": \"+/-3dB wrt Ref.\"}, {\"x\": 0.55, \"y\": 1.7, \"summary\": \"Preference score: 3.5\"}, {\"x\": 0.55, \"y\": 1.4000000000000001, \"summary\": \"Low Frequency Extension: 43 Hz\"}, {\"x\": 0.55, \"y\": 1.2, \"summary\": \"Low Frequence Quality : 0.63\"}, {\"x\": 0.55, \"y\": 1.0, \"summary\": \"Narrow Bandwidth Deviation On Axis: 0.54\"}, {\"x\": 0.55, \"y\": 0.8, \"summary\": \"Narrow Bandwidth Deviation Predicted In-Room: 0.36\"}, {\"x\": 0.55, \"y\": 0.6000000000000001, \"summary\": \"SM Deviation Predicted In-Room: 0.14\"}]}}, {\"mode\": \"vega-lite\"});\n",
       "</script>"
      ],
      "text/plain": [
       "alt.Chart(...)"
      ]
     },
     "execution_count": 52,
     "metadata": {},
     "output_type": "execute_result"
    }
   ],
   "source": [
    "speaker_name = 'Focal Aria 906'\n",
    "speaker_type = 'Bookshelves'\n",
    "estimates = [95, 30, 27, 3]\n",
    "pref_score = {\n",
    "    \"nbd_pred_in_room\" : 0.36,\n",
    "    \"lfq\" : 0.63,\n",
    "    \"lfx_hz\" : 43,\n",
    "    \"nbd_on_axis\" : 0.54,\n",
    "    \"sm_sound_power\" : 0.72,\n",
    "    \"nbd_listening_window\" : 0.44,\n",
    "    \"nbd_sound_power\" : 0.36,\n",
    "    \"pref_score\" : 3.5,\n",
    "    \"sm_pred_in_room\" : 0.14,\n",
    "}\n",
    "speaker_summary = [speaker_type, \n",
    "               'Reference level {0} dB'.format(estimates[0]),\n",
    "               '(mean over 300-10k Hz)',\n",
    "               '-3dB at {0}Hz wrt Ref.'.format(estimates[1]),\n",
    "               '-6dB at {0}Hz wrt Ref.'.format(estimates[2]),\n",
    "               '+/-{0}dB wrt Ref.'.format(estimates[3]),\n",
    "               'Preference score: {0}'.format(pref_score['pref_score']),\n",
    "               'Low Frequency Extension: {0} Hz'.format(pref_score['lfx_hz']),\n",
    "               'Low Frequence Quality : {0}'.format(pref_score['lfq']),\n",
    "               'Narrow Bandwidth Deviation On Axis: {0}'.format(pref_score['nbd_on_axis']),\n",
    "               'Narrow Bandwidth Deviation Predicted In-Room: {0}'.format(pref_score['nbd_pred_in_room']),\n",
    "               'SM Deviation Predicted In-Room: {0}'.format(pref_score['sm_pred_in_room'])\n",
    "              ]\n",
    "graph_summary(speaker_name, speaker_summary)"
   ]
  },
  {
   "cell_type": "code",
   "execution_count": null,
   "metadata": {},
   "outputs": [],
   "source": []
  },
  {
   "cell_type": "code",
   "execution_count": null,
   "metadata": {},
   "outputs": [],
   "source": []
  }
 ],
 "metadata": {
  "kernelspec": {
   "display_name": "Python 3",
   "language": "python",
   "name": "python3"
  },
  "language_info": {
   "codemirror_mode": {
    "name": "ipython",
    "version": 3
   },
   "file_extension": ".py",
   "mimetype": "text/x-python",
   "name": "python",
   "nbconvert_exporter": "python",
   "pygments_lexer": "ipython3",
   "version": "3.7.7"
  }
 },
 "nbformat": 4,
 "nbformat_minor": 4
}
