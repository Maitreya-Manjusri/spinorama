{
 "cells": [
  {
   "cell_type": "code",
   "execution_count": null,
   "metadata": {},
   "outputs": [],
   "source": [
    "import math\n",
    "import logging\n",
    "import numpy as np\n",
    "import pandas as pd\n",
    "import scipy.signal as sig\n",
    "import altair as alt\n",
    "\n",
    "import sys,os,os.path\n",
    "sys.path.append(os.path.expanduser('../src'))\n",
    "\n",
    "from spinorama.load import graph_melt\n",
    "from spinorama.load_parse import parse_graphs_speaker\n",
    "from spinorama.load_rewseq import parse_eq_iir_rews\n",
    "from spinorama.compute_cea2034 import estimated_inroom_HV\n",
    "from spinorama.compute_scores import scores\n",
    "from spinorama.filter_peq import peq_build, peq_apply_measurements, peq_print\n",
    "from spinorama.filter_scores import scores_print, scores_graph, scores_apply_filter"
   ]
  },
  {
   "cell_type": "code",
   "execution_count": null,
   "metadata": {},
   "outputs": [],
   "source": [
    "# df_speaker = parse_graphs_speaker('../datas','Genelec', 'Genelec 8341A')\n",
    "# df_speaker = parse_graphs_speaker('../datas','Focal', 'Focal Aria 906')\n",
    "# df_speaker = parse_graphs_speaker('../datas','Elac', 'Elac Debut 2.0 B6.2')\n",
    "df_speaker = parse_graphs_speaker('../datas','Adam', 'Adam S2V')\n",
    "spin = df_speaker['CEA2034']\n",
    "score = scores(df_speaker)"
   ]
  },
  {
   "cell_type": "code",
   "execution_count": null,
   "metadata": {},
   "outputs": [],
   "source": [
    "my_fs = 480000\n",
    "my_peq = parse_eq_iir_rews('../datas/eq/Adam S2V/iir.txt', my_fs)\n",
    "\n",
    "spin_filtered, pir_filtered, score_filtered = scores_apply_filter(\n",
    "    df_speaker['SPL Horizontal_unmelted'], \n",
    "    df_speaker['SPL Vertical_unmelted'],\n",
    "    my_peq)\n",
    "\n",
    "peq_print(my_peq)\n",
    "scores_print(score, score_filtered)\n",
    "\n",
    "g_params = {'xmin': 20, 'xmax': 20000, 'ymin': -50, 'ymax': 10, 'width': 400, 'height': 250}\n",
    "scores_graph(spin, spin_filtered, g_params)"
   ]
  },
  {
   "cell_type": "code",
   "execution_count": null,
   "metadata": {},
   "outputs": [],
   "source": []
  }
 ],
 "metadata": {
  "kernelspec": {
   "display_name": "Python 3",
   "language": "python",
   "name": "python3"
  },
  "language_info": {
   "codemirror_mode": {
    "name": "ipython",
    "version": 3
   },
   "file_extension": ".py",
   "mimetype": "text/x-python",
   "name": "python",
   "nbconvert_exporter": "python",
   "pygments_lexer": "ipython3",
   "version": "3.9.0"
  }
 },
 "nbformat": 4,
 "nbformat_minor": 4
}
