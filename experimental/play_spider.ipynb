{
 "cells": [
  {
   "cell_type": "code",
   "execution_count": null,
   "id": "0b5c31e1-2540-42cd-bcbc-6f3d458fd0e6",
   "metadata": {},
   "outputs": [],
   "source": [
    "data = {\n",
    "    \"NBD ON\": [0.51, 0.36],\n",
    "    \"NBD LW\": [0.46, 0.28],\n",
    "    \"NDB PIR\": [0.42, 0.29],\n",
    "    \"SM PIR\": [0.83, 0.86],\n",
    "    \"SM SP\": [0.91, 0.92],\n",
    "    \"LFX\": [0.41, 0.42],\n",
    "}"
   ]
  },
  {
   "cell_type": "code",
   "execution_count": null,
   "id": "c6a1a901-b6eb-4573-8719-36ac0f07861d",
   "metadata": {},
   "outputs": [],
   "source": [
    "import plotly.graph_objects as go"
   ]
  },
  {
   "cell_type": "code",
   "execution_count": null,
   "id": "1f5734e2-a8af-4560-9afd-910dc0f54c69",
   "metadata": {},
   "outputs": [],
   "source": [
    "r0 = [v[0] for v in data.values()]\n",
    "r1 = [v[1] for v in data.values()]\n",
    "theta = list(data.keys())"
   ]
  },
  {
   "cell_type": "code",
   "execution_count": null,
   "id": "2f8fbb67-19e0-4b7e-9bf9-d8edc6d97183",
   "metadata": {},
   "outputs": [],
   "source": [
    "fig = go.Figure()\n",
    "fig.add_trace(\n",
    "    go.Scatterpolar(\n",
    "        r=r0,\n",
    "        theta=theta,\n",
    "        fill=\"toself\",\n",
    "        name=\"AS IS\",\n",
    "        textfont={\"size\": 18},\n",
    "    )\n",
    ")\n",
    "fig.add_trace(\n",
    "    go.Scatterpolar(\n",
    "        r=r1,\n",
    "        theta=theta,\n",
    "        fill=\"toself\",\n",
    "        name=\"w/EQ\",\n",
    "        textfont={\"size\": 18},\n",
    "    )\n",
    ")\n",
    "layout = {\n",
    "    \"width\": 300,\n",
    "    \"height\": 300,\n",
    "    \"polar\": {\n",
    "        \"radialaxis\": {\n",
    "            \"visible\": True,\n",
    "            \"range\": [0, 1],\n",
    "            \"title\": {\"font\": {\"size\": 18}},\n",
    "        },\n",
    "        \"angularaxis\": {\n",
    "            \"visible\": True,\n",
    "        },\n",
    "    },\n",
    "    \"showlegend\": True,\n",
    "    \"legend\": {\n",
    "        \"orientation\": \"h\",\n",
    "        \"x\": 0.5,\n",
    "        \"xanchor\": \"center\",\n",
    "    },\n",
    "    \"margin\": {\n",
    "        \"t\": 0,\n",
    "        \"l\": 0,\n",
    "        \"r\": 0,\n",
    "        \"b\": 0,\n",
    "    },\n",
    "}\n",
    "fig.update_layout(layout)\n",
    "fig.show()"
   ]
  },
  {
   "cell_type": "code",
   "execution_count": null,
   "id": "c0d9510a-34ce-440e-99cd-e5f160d51a6a",
   "metadata": {},
   "outputs": [],
   "source": []
  },
  {
   "cell_type": "code",
   "execution_count": null,
   "id": "5612cabc-1a4d-467e-8f19-2401c926bb13",
   "metadata": {},
   "outputs": [],
   "source": []
  },
  {
   "cell_type": "code",
   "execution_count": null,
   "id": "0d9645ac-5dcf-4dd4-a333-334673cbf071",
   "metadata": {},
   "outputs": [],
   "source": []
  }
 ],
 "metadata": {
  "kernelspec": {
   "display_name": "Python 3 (ipykernel)",
   "language": "python",
   "name": "python3"
  },
  "language_info": {
   "codemirror_mode": {
    "name": "ipython",
    "version": 3
   },
   "file_extension": ".py",
   "mimetype": "text/x-python",
   "name": "python",
   "nbconvert_exporter": "python",
   "pygments_lexer": "ipython3",
   "version": "3.9.7"
  }
 },
 "nbformat": 4,
 "nbformat_minor": 5
}
