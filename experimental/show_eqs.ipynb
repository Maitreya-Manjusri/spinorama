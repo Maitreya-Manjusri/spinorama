{
 "cells": [
  {
   "cell_type": "code",
   "execution_count": null,
   "metadata": {},
   "outputs": [],
   "source": [
    "import math\n",
    "import logging\n",
    "import os\n",
    "import glob\n",
    "import numpy as np\n",
    "import pandas as pd\n",
    "import scipy.signal as sig\n",
    "import altair as alt\n",
    "\n",
    "import sys, os, os.path\n",
    "\n",
    "sys.path.append(os.path.expanduser(\"../src\"))\n",
    "\n",
    "from spinorama.load import graph_melt, load_normalize\n",
    "from spinorama.load_rewseq import parse_eq_iir_rews\n",
    "from spinorama.graph import graph_spinorama, graph_freq\n",
    "from spinorama.filter_iir import Biquad\n",
    "from spinorama.filter_peq import peq_build, peq_freq, peq_graph_measurements"
   ]
  },
  {
   "cell_type": "code",
   "execution_count": null,
   "metadata": {},
   "outputs": [],
   "source": [
    "nb_points = 1000\n",
    "flat_u = pd.DataFrame(\n",
    "    {\n",
    "        \"Freq\": np.logspace(1.0 + math.log10(2), 4.0 + math.log10(2), nb_points),\n",
    "        \"On Axis\": [0] * nb_points,\n",
    "    }\n",
    ")\n",
    "flat = graph_melt(flat_u)"
   ]
  },
  {
   "cell_type": "code",
   "execution_count": null,
   "metadata": {},
   "outputs": [],
   "source": [
    "my_fs = 48000\n",
    "eq_dirs = glob.glob(\"../datas/eq/*\")\n",
    "peqs = {}\n",
    "for d in eq_dirs:\n",
    "    if os.path.isdir(d):\n",
    "        speaker = os.path.basename(d)\n",
    "        iirname = \"{0}/iir.txt\".format(d)\n",
    "        if os.path.isfile(iirname):\n",
    "            peqs[d] = parse_eq_iir_rews(iirname, my_fs)\n",
    "print(\"Found {0} IIR eq\".format(len(peqs)))"
   ]
  },
  {
   "cell_type": "code",
   "execution_count": null,
   "metadata": {},
   "outputs": [],
   "source": [
    "freq = flat_u[\"Freq\"].to_numpy()\n",
    "dff = []\n",
    "dff.append(pd.DataFrame({\"Freq\": freq}))\n",
    "eq_graphs = {}\n",
    "for speaker, peq in peqs.items():\n",
    "    req = peq_build(freq, peq)\n",
    "    dff.append(pd.DataFrame({speaker: req}))\n",
    "    g_params = {\n",
    "        \"xmin\": 20,\n",
    "        \"xmax\": 20000,\n",
    "        \"ymin\": -10,\n",
    "        \"ymax\": 10,\n",
    "        \"width\": 400,\n",
    "        \"height\": 250,\n",
    "    }\n",
    "    eq_graphs[speaker] = graph_freq(\n",
    "        graph_melt(pd.DataFrame({\"Freq\": freq, speaker: req})), g_params\n",
    "    )\n",
    "\n",
    "eq_all = pd.concat(dff, axis=1)"
   ]
  },
  {
   "cell_type": "code",
   "execution_count": null,
   "metadata": {},
   "outputs": [],
   "source": [
    "g_params = {\n",
    "    \"xmin\": 20,\n",
    "    \"xmax\": 20000,\n",
    "    \"ymin\": -100,\n",
    "    \"ymax\": 100,\n",
    "    \"width\": 1200,\n",
    "    \"height\": 750,\n",
    "}\n",
    "graph_freq(graph_melt(eq_all), g_params)"
   ]
  },
  {
   "cell_type": "code",
   "execution_count": null,
   "metadata": {},
   "outputs": [],
   "source": [
    "gg = alt.vconcat()\n",
    "for t, g in eq_graphs.items():\n",
    "    title = os.path.basename(t)\n",
    "    gg &= g.properties(title=title)"
   ]
  },
  {
   "cell_type": "code",
   "execution_count": null,
   "metadata": {},
   "outputs": [],
   "source": [
    "gg"
   ]
  },
  {
   "cell_type": "code",
   "execution_count": null,
   "metadata": {},
   "outputs": [],
   "source": []
  }
 ],
 "metadata": {
  "kernelspec": {
   "display_name": "Python 3",
   "language": "python",
   "name": "python3"
  },
  "language_info": {
   "codemirror_mode": {
    "name": "ipython",
    "version": 3
   },
   "file_extension": ".py",
   "mimetype": "text/x-python",
   "name": "python",
   "nbconvert_exporter": "python",
   "pygments_lexer": "ipython3",
   "version": "3.9.0"
  }
 },
 "nbformat": 4,
 "nbformat_minor": 4
}
