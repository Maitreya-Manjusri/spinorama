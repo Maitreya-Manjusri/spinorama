{
 "cells": [
  {
   "cell_type": "code",
   "execution_count": null,
   "metadata": {},
   "outputs": [],
   "source": [
    "import math\n",
    "import numpy as np\n",
    "import pandas as pd\n",
    "import altair as alt"
   ]
  },
  {
   "cell_type": "code",
   "execution_count": null,
   "metadata": {},
   "outputs": [],
   "source": [
    "import sys,os,os.path\n",
    "sys.path.append(os.path.expanduser('../src'))\n",
    "                \n",
    "from spinorama.graph_isobands import find_isobands\n",
    "def transform_id(x):\n",
    "    return x"
   ]
  },
  {
   "cell_type": "code",
   "execution_count": null,
   "metadata": {},
   "outputs": [],
   "source": [
    "p0 = (0,0)\n",
    "p1 = (2,0)\n",
    "p2 = (2,1)\n",
    "p3 = (0,1)\n",
    "\n",
    "x = [[0, 2], [0, 2]]\n",
    "y = [[0, 1], [2, 1]]\n",
    "z = [[3, 2], [2, 3.2]]\n",
    "\n",
    "df = find_isobands(x, y, z, [0, 1.5, 2.5, 3], transform_id, transform_id)\n",
    "\n",
    "g_df = alt.Chart(alt.Data(values=df['features'])\n",
    ").mark_geoshape(\n",
    "    stroke='red',\n",
    "    strokeWidth=2,\n",
    "    clip=True,\n",
    "    cornerRadius=2\n",
    ").encode(\n",
    "    alt.Color(\n",
    "        'properties.z_low:Q', \n",
    "        scale=alt.Scale(scheme='bluegreen'),\n",
    "        title = \"IsoBands\")\n",
    ").project('identity'\n",
    ").properties(\n",
    "    width=200,\n",
    "    height=200\n",
    ")\n",
    "\n",
    "g_df"
   ]
  },
  {
   "cell_type": "code",
   "execution_count": null,
   "metadata": {},
   "outputs": [],
   "source": [
    "xr = np.linspace(-5, 5, 30)\n",
    "yr = np.linspace(-5, 5, 30)\n",
    "x, y = np.meshgrid(xr, yr)\n",
    "z = x ** 2 + y ** 2\n",
    "print(len(xr), len(yr), z.shape)\n",
    "\n",
    "source = pd.DataFrame({'x': x.ravel(),\n",
    "                     'y': y.ravel(),\n",
    "                     'z': z.ravel()})\n",
    "\n",
    "df = find_isobands(x, y, z, [1, 2, 4, 8, 16, 32], transform_id, transform_id)\n",
    "\n",
    "g_source = alt.Chart(source).mark_rect().encode(\n",
    "    x='x:O',\n",
    "    y='y:O',\n",
    "    color='z:Q')\n",
    "\n",
    "g_iso = alt.Chart(alt.Data(values=df['features'])\n",
    ").mark_geoshape(\n",
    "    stroke='red',\n",
    "    strokeWidth=0,\n",
    "    clip=True,\n",
    "    cornerRadius=0\n",
    ").encode(\n",
    "    alt.Color(\n",
    "        'properties.z_low:Q', \n",
    "        scale=alt.Scale(scheme='bluegreen'),\n",
    "        title = \"IsoBands\")\n",
    ").project('identity'\n",
    ")\n",
    "\n",
    "#g_source+g_iso    \n",
    "g_iso\n"
   ]
  },
  {
   "cell_type": "code",
   "execution_count": null,
   "metadata": {},
   "outputs": [],
   "source": [
    "from spinorama.load import graph_melt\n",
    "import flammkuchen as fl\n",
    "from spinorama.graph_contour import compute_contour\n",
    "from spinorama.graph import contour_params_default, graph_contour_common\n",
    "\n",
    "df_all = fl.load('../cache.parse_all_speakers.h5')"
   ]
  },
  {
   "cell_type": "code",
   "execution_count": null,
   "metadata": {},
   "outputs": [],
   "source": [
    "df = df_all['Genelec 8341A']['ASR']['asr']\n",
    "print(df.keys())"
   ]
  },
  {
   "cell_type": "code",
   "execution_count": null,
   "metadata": {},
   "outputs": [],
   "source": [
    "dfu = df['SPL Vertical_unmelted']\n",
    "af, am, az = compute_contour(dfu.loc[dfu.Freq>100])\n",
    "print(len(af[0]), len(am[:,0]), az.shape )\n",
    "print(af[0][0:3])\n",
    "print(am[:,0])"
   ]
  },
  {
   "cell_type": "code",
   "execution_count": null,
   "metadata": {},
   "outputs": [],
   "source": [
    "graph_width = 1024\n",
    "graph_height = 720\n",
    "\n",
    "def transform_id(x):\n",
    "    return x\n",
    "\n",
    "def transform_log(x):\n",
    "    return 6*np.log10(x)*graph_width/800\n",
    "\n",
    "def transform_radian(x):\n",
    "    return 1.325*x/180*math.pi*graph_height/360\n",
    "\n",
    "bands = [-72, -18, -15, -12, -9, -6, -3, +3]\n",
    "df_iso = find_isobands(af, am, az.T, bands, transform_log, transform_radian)\n",
    "\n",
    "color_legend = ['[{0}, {1}]'.format(bands[i], bands[i+1]) for i in range(0, len(bands)-1)] + ['>{0}'.format(bands[-1])]\n",
    "color_range = ['black', 'blue', 'steelblue', 'green', 'yellow', 'orange', 'red', 'white']\n",
    "\n",
    "print(color_legend)\n",
    "\n",
    "isobands = alt.Chart(alt.Data(values=df_iso['features'])\n",
    ").mark_geoshape(\n",
    "    stroke='red',\n",
    "    strokeWidth=0\n",
    ").encode(\n",
    "    # alt.Color('properties.z_low:Q', scale=alt.Scale(scheme='inferno'), title = \"IsoBands\")\n",
    "    alt.Color('properties.z_low:O', \n",
    "              scale=alt.Scale(zero=False, domain=bands, range=color_range), \n",
    "              legend=alt.Legend(orient='bottom', title='Relative dB SPL'))\n",
    ").project('identity'\n",
    ").properties(\n",
    "    width=graph_width,\n",
    "    height=graph_height\n",
    ")"
   ]
  },
  {
   "cell_type": "code",
   "execution_count": null,
   "metadata": {},
   "outputs": [],
   "source": [
    "empty = pd.DataFrame({'Freq', 'Angle'})\n",
    "yTicks = [-180+30*i for i in range(0,13)]\n",
    "print(yTicks)\n",
    "legends = alt.Chart(empty).mark_point(clip=True).encode(\n",
    "    x=alt.X('x:Q', scale=alt.Scale(type='log', nice=False, domain=[20, 20000]), title='Frequency (Hz)'),\n",
    "    y=alt.Y('y:Q', scale=alt.Scale(nice=False, domain=[-180, 180]), axis=alt.Axis(format='.0d', values=yTicks, title='Angle')), \n",
    ").properties(\n",
    "    width=graph_width,\n",
    "    height=graph_height\n",
    ")\n",
    "legends"
   ]
  },
  {
   "cell_type": "code",
   "execution_count": null,
   "metadata": {},
   "outputs": [],
   "source": [
    "isobands + legends"
   ]
  },
  {
   "cell_type": "code",
   "execution_count": null,
   "metadata": {},
   "outputs": [],
   "source": [
    "len(af)"
   ]
  },
  {
   "cell_type": "code",
   "execution_count": null,
   "metadata": {},
   "outputs": [],
   "source": [
    "am[:,0]"
   ]
  },
  {
   "cell_type": "code",
   "execution_count": null,
   "metadata": {},
   "outputs": [],
   "source": [
    "az"
   ]
  },
  {
   "cell_type": "code",
   "execution_count": null,
   "metadata": {},
   "outputs": [],
   "source": [
    "def project(af, am):\n",
    "    af2 = af\n",
    "    am2 = am\n",
    "    for i in range(0, len(af)):\n",
    "        freqs = af[i]\n",
    "        angles = am[:, i]\n",
    "        af2[i] = [math.fabs(freq)*math.cos(angle) for freq, angle in zip(freqs, angles)]\n",
    "        am2[i] = [math.fabs(freq)*math.sin(angle) for freq, angle in zip(freqs, angles)]\n",
    "    return af2, am2\n",
    "\n",
    "# af2, am2 = project(af, am) "
   ]
  },
  {
   "cell_type": "code",
   "execution_count": null,
   "metadata": {},
   "outputs": [],
   "source": [
    "f = open('/tmp/example.geo.json', 'w')"
   ]
  },
  {
   "cell_type": "code",
   "execution_count": null,
   "metadata": {},
   "outputs": [],
   "source": [
    "import json\n",
    "f.write(json.dumps(df_iso))"
   ]
  },
  {
   "cell_type": "code",
   "execution_count": null,
   "metadata": {},
   "outputs": [],
   "source": [
    "f.close()"
   ]
  },
  {
   "cell_type": "code",
   "execution_count": null,
   "metadata": {},
   "outputs": [],
   "source": []
  }
 ],
 "metadata": {
  "kernelspec": {
   "display_name": "Python 3",
   "language": "python",
   "name": "python3"
  },
  "language_info": {
   "codemirror_mode": {
    "name": "ipython",
    "version": 3
   },
   "file_extension": ".py",
   "mimetype": "text/x-python",
   "name": "python",
   "nbconvert_exporter": "python",
   "pygments_lexer": "ipython3",
   "version": "3.9.0"
  }
 },
 "nbformat": 4,
 "nbformat_minor": 4
}
