{
 "cells": [
  {
   "cell_type": "markdown",
   "metadata": {},
   "source": [
    "Spinorama plot with Altair"
   ]
  },
  {
   "cell_type": "code",
   "execution_count": null,
   "metadata": {},
   "outputs": [],
   "source": [
    "import math\n",
    "import pandas as pd\n",
    "import altair as alt\n",
    "import numpy as np\n",
    "import flammkuchen as fl\n",
    "\n",
    "import sys,os,os.path\n",
    "sys.path.append(os.path.expanduser('../src'))\n",
    "\n",
    "from spinorama.graph import graph_params_default, graph_freq, graph_spinorama\n",
    "from spinorama.load import filter_graphs\n",
    "\n",
    "df_all = fl.load('../cache.parse_all_speakers.h5')"
   ]
  },
  {
   "cell_type": "code",
   "execution_count": null,
   "metadata": {},
   "outputs": [],
   "source": [
    "from spinorama.load import filter_graphs, load_normalize\n",
    "\n",
    "df_klippel = df_all['Adam S2V']['ASR']['asr']\n",
    "spl_H = df_klippel['SPL Horizontal_unmelted']\n",
    "spl_V = df_klippel['SPL Vertical_unmelted']\n",
    "df_computed = load_normalize(filter_graphs('Adam S2V', spl_H, spl_V))"
   ]
  },
  {
   "cell_type": "markdown",
   "metadata": {},
   "source": [
    "Compare Klippel graphs with computed ones."
   ]
  },
  {
   "cell_type": "code",
   "execution_count": null,
   "metadata": {},
   "outputs": [],
   "source": [
    "graph_spinorama(df_klippel['CEA2034'], graph_params_default) | graph_spinorama(df_computed['CEA2034'], graph_params_default)"
   ]
  },
  {
   "cell_type": "code",
   "execution_count": null,
   "metadata": {},
   "outputs": [],
   "source": [
    "graphs = {}\n",
    "for g in ('Early Reflections', 'Vertical Reflections', 'Horizontal Reflections'):\n",
    "    graphs[g] = graph_freq(df_klippel[g], graph_params_default) | graph_freq(df_computed[g], graph_params_default)"
   ]
  },
  {
   "cell_type": "code",
   "execution_count": null,
   "metadata": {},
   "outputs": [],
   "source": [
    "graphs['Early Reflections']"
   ]
  },
  {
   "cell_type": "code",
   "execution_count": null,
   "metadata": {},
   "outputs": [],
   "source": [
    "graphs['Vertical Reflections']"
   ]
  },
  {
   "cell_type": "code",
   "execution_count": null,
   "metadata": {},
   "outputs": [],
   "source": [
    "graphs['Horizontal Reflections']"
   ]
  },
  {
   "cell_type": "code",
   "execution_count": null,
   "metadata": {},
   "outputs": [],
   "source": []
  }
 ],
 "metadata": {
  "kernelspec": {
   "display_name": "Python 3",
   "language": "python",
   "name": "python3"
  },
  "language_info": {
   "codemirror_mode": {
    "name": "ipython",
    "version": 3
   },
   "file_extension": ".py",
   "mimetype": "text/x-python",
   "name": "python",
   "nbconvert_exporter": "python",
   "pygments_lexer": "ipython3",
   "version": "3.9.0"
  }
 },
 "nbformat": 4,
 "nbformat_minor": 4
}
