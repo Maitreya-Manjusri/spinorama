{
 "cells": [
  {
   "cell_type": "markdown",
   "metadata": {
    "slideshow": {
     "slide_type": "slide"
    }
   },
   "source": [
    "# Speaker and data\n",
    "\n",
    "You speaker (or the one you want to buy) has some properties: size, how loud they can go, do they have an amplifier, etc?\n",
    "\n",
    "A U.S. standard has defined a series of graphs called a spinorama that help to characterize your speaker. It will answer most of your question about this speaker. It will tell nothing about it's size, intended usage, design or price.\n",
    "\n",
    "# How to read a spinorama graphs?\n",
    "\n",
    "this is a *gentle* tutorial that tries to explain all graphs on a *spinorama* and why they are important."
   ]
  },
  {
   "cell_type": "code",
   "execution_count": null,
   "metadata": {
    "jupyter": {
     "source_hidden": true
    },
    "slideshow": {
     "slide_type": "skip"
    }
   },
   "outputs": [],
   "source": [
    "from math import log, sqrt\n",
    "import numpy as np\n",
    "import pandas as pd\n",
    "import altair as alt"
   ]
  },
  {
   "cell_type": "code",
   "execution_count": null,
   "metadata": {
    "jupyter": {
     "source_hidden": true
    },
    "slideshow": {
     "slide_type": "skip"
    }
   },
   "outputs": [],
   "source": [
    "def db(f):\n",
    "    if f>10000:\n",
    "        return 87-f/5000\n",
    "    elif f>120:\n",
    "        return 85\n",
    "    elif f>20:\n",
    "        return 85-sqrt(120-20)*2 + sqrt(f-20)*2\n",
    "    elif f>0:\n",
    "        return (f/2)+25\n",
    "    else:\n",
    "        return 0\n",
    "x = np.logspace(1, 4+log(2), 60)\n",
    "y = [db(x[i]) for i in range(0, len(x))]\n",
    "yp = [85 for i in range(0, len(x))]\n",
    "yr = [iy+(np.random.rand()-0.5)*6 for iy in y]"
   ]
  },
  {
   "cell_type": "code",
   "execution_count": null,
   "metadata": {
    "jupyter": {
     "source_hidden": true
    },
    "slideshow": {
     "slide_type": "skip"
    }
   },
   "outputs": [],
   "source": [
    "fx = pd.DataFrame({'freq': x})\n",
    "f  = pd.DataFrame({'freq': x, 'dB': y})\n",
    "fp = pd.DataFrame({'freq': x, 'dB': yp})\n",
    "fr = pd.DataFrame({'freq': x, 'dB': yr})"
   ]
  },
  {
   "cell_type": "markdown",
   "metadata": {
    "slideshow": {
     "slide_type": "slide"
    }
   },
   "source": [
    "## Let's start with a frequency graph.\n",
    "\n",
    "### Frequency? \n",
    "Sound is carried by waves in the atmosphere. It oscillates at a frequency\n",
    "measured in Hertz (Hz).\n",
    "\n",
    "A low number means bass, high number means treble. People can usually hear \n",
    "between 16 hz and 20000 Hz. This varies with people and usually reduce \n",
    "significantly as you get older. Speech is around 1000 hz. I also use k \n",
    "for kilo Hz thus 10000Hz equals 10kHz.\n",
    "\n",
    "### Decibel or dB?\n",
    "To make it simple, think about volume, more decibel means higher volume \n",
    "(sound pressure). Note that:\n",
    "\n",
    "- +3dB double the volume because it is a logarithmic scale. \n",
    "- -3dB halves the volume.\n",
    "\n",
    "In practice, your ears do not react in the same way for bass, midrange and for treble\n",
    "and this is not completly true. This a realative value (value itself is \n",
    "meaningless but differences make sense).\n",
    "\n",
    "### Frequency graph\n",
    "The frequency graph represent the sound pressure *aka* volume (in dB) at a given frequency in Hz. \n",
    "They are usually represented with the frequency on a logarithmic scale too in order to see better \n",
    "the important information between 20hz and 500hz.\n",
    "\n",
    "Below we have an example of a speaker (the contious line). It is flat from 120hz to 10000hz in this example. Below 120hz, it drops significantly. After 10000hz, it also drops a bit.\n",
    "For the bass area, you need to move a lot of air to produce bass at high volume. The speaker needs to be large to produce a lot of bass but even a large speaker cannot produce that much bass. For high frequencies, the tweeter also usually dip a bit at high frequency but this is not always the case.\n",
    "\n",
    "A perfect speaker would be a flat line (here with dash) but this is physically impossible.\n",
    "A good speaker will be as close as possible to the flat line.\n",
    "\n",
    "Note that we do not care what happens after 20k hz because we do not hear it (your dog or a bat may). Similarly we don't care about below 16hz. Music is mostly above 40hz. Electronic music and movies goes easily down to 20hz. You will need a dedicated speaker called a subwoofer to reproduce this low frequencies well and at high volume."
   ]
  },
  {
   "cell_type": "code",
   "execution_count": null,
   "metadata": {
    "jupyter": {
     "source_hidden": true
    },
    "slideshow": {
     "slide_type": "subslide"
    }
   },
   "outputs": [],
   "source": [
    "a_x = alt.X('freq:Q', scale=alt.Scale(type='log', nice=False, domain=[20, 20000]))\n",
    "a_y = alt.Y('dB:Q', scale=alt.Scale(type='linear', domain=[45, 90]))\n",
    "g_f  = alt.Chart(f).mark_line(clip=True).encode(x=a_x, y=a_y)\n",
    "g_fp = alt.Chart(fp).mark_line(clip=True, strokeDash=[4,2]).encode(x=a_x, y=a_y)\n",
    "g_f+g_fp"
   ]
  },
  {
   "cell_type": "markdown",
   "metadata": {
    "slideshow": {
     "slide_type": "slide"
    }
   },
   "source": [
    "## Theory and reality\n",
    "\n",
    "Theory is nice, but how does that looks like in practice?\n",
    "Reality is as often not as nice and the curve of a measured speaker is a lot more wobby.\n",
    "Here is an example of what it can looks like. Note: this is not real data yet, i made this one up,\n",
    "but it gives an idea."
   ]
  },
  {
   "cell_type": "code",
   "execution_count": null,
   "metadata": {
    "jupyter": {
     "source_hidden": true
    },
    "slideshow": {
     "slide_type": "subslide"
    }
   },
   "outputs": [],
   "source": [
    "g_fr = alt.Chart(fr).mark_line(clip=True, strokeDash=[2,2], color='black').encode(x=a_x, y=a_y)\n",
    "g_f+g_fr"
   ]
  },
  {
   "cell_type": "markdown",
   "metadata": {
    "slideshow": {
     "slide_type": "subslide"
    }
   },
   "source": [
    "## How bad or how good is that?\n",
    "\n",
    "The purpose of measurement is to have *data* to evaluate how far or how close your speaker is to a perfect one. \n",
    "\n",
    "The *bad* news is : it is *hard* to get accurate data.\n",
    "The *good* news is : it is *easy to understand*.\n",
    "\n",
    "Why it is hard to get data? Manufacturer don't provide them. But why if they are easy to understand? \n",
    "\n",
    "I don't know for sure. Maybe the marketing from this company prefers to focus you on the look or on whatever parameter\n",
    "they think will decide you to buy. Since price and sound quality do not correlate well, that's a likely possibility. \n",
    "Telling: \"my 10k speaker looka better but sounds the same as my 1k speaker\" is not very appealing for them. \n",
    "\n",
    "The data will let you decide on this part."
   ]
  },
  {
   "cell_type": "markdown",
   "metadata": {
    "slideshow": {
     "slide_type": "slide"
    }
   },
   "source": [
    "## Wobbiness or deviation from flat\n",
    "\n",
    "One red line is at the maximim of frequency over a range (here from 100hz to 10000hz).\n",
    "The other line is at the minimum.\n",
    "\n",
    "The amplitude between the 2 lines is giving an idea on how your speaker is deviating from the theortical perfect flat line.\n",
    "\n",
    "You will see specification like: +/- 3dB between 100hz and 10000hz.\n",
    "Is that good? +/- 3dB is a doubling or halving of the volume, that's already a lot of differences between some part of the frequency range and another.\n",
    "\n",
    "Best speakers in the world are able to do +/-1 dB over that range. Let's say that below +/- 2dB this is very good."
   ]
  },
  {
   "cell_type": "code",
   "execution_count": null,
   "metadata": {
    "jupyter": {
     "source_hidden": true
    },
    "slideshow": {
     "slide_type": "subslide"
    }
   },
   "outputs": [],
   "source": [
    "line_up = alt.Chart(fx).mark_line(color='red').encode(x='freq:Q', y='dB:Q'\n",
    "        ).transform_calculate(dB='88')\n",
    "line_down = alt.Chart(fx).mark_line(color='red').encode(x='freq:Q', y='dB:Q'\n",
    "        ).transform_calculate(dB='82')\n",
    "g_fr+line_up+line_down"
   ]
  },
  {
   "cell_type": "markdown",
   "metadata": {
    "slideshow": {
     "slide_type": "slide"
    }
   },
   "source": [
    "## How much bass?\n",
    "\n",
    "The second important parameter is how low can you speaker go?\n",
    "Let's add a green line which is a best fit of the speaker curve.\n",
    "Best fit means linear regression for the curious."
   ]
  },
  {
   "cell_type": "code",
   "execution_count": null,
   "metadata": {
    "jupyter": {
     "source_hidden": true
    },
    "slideshow": {
     "slide_type": "subslide"
    }
   },
   "outputs": [],
   "source": [
    "reg = g_fr.transform_filter(\n",
    "    'datum.freq>120 & datum.freq<10000'\n",
    ").transform_regression('freq', 'dB', method='log', extent=[20, 20000]\n",
    ").mark_line(color='green')\n",
    "g_fr + reg"
   ]
  },
  {
   "cell_type": "markdown",
   "metadata": {
    "slideshow": {
     "slide_type": "fragment"
    }
   },
   "source": [
    "Let's add a red line -6dB below the best fit curve."
   ]
  },
  {
   "cell_type": "code",
   "execution_count": null,
   "metadata": {
    "jupyter": {
     "source_hidden": true
    },
    "slideshow": {
     "slide_type": "fragment"
    }
   },
   "outputs": [],
   "source": [
    "reg_down = reg.transform_calculate(dB='datum.dB-6').mark_line(color='red')\n",
    "g_fr+reg+reg_down"
   ]
  },
  {
   "cell_type": "code",
   "execution_count": null,
   "metadata": {
    "jupyter": {
     "source_hidden": true
    },
    "slideshow": {
     "slide_type": "skip"
    }
   },
   "outputs": [],
   "source": [
    "lfx = 74\n",
    "intersec = {'freq': [lfx,], 'dB': [78, ], 'textof': ['➟',]}\n",
    "d_intersec = pd.DataFrame(intersec)\n",
    "\n",
    "d_point = alt.Chart(d_intersec).mark_point(size=50).encode(x='freq', y='dB')\n",
    "d_text  = alt.Chart(d_intersec).mark_text(\n",
    "    dx=-20,dy=0, angle=45, fontSize=35).encode(x='freq',y='dB', text='textof')"
   ]
  },
  {
   "cell_type": "markdown",
   "metadata": {
    "slideshow": {
     "slide_type": "slide"
    }
   },
   "source": [
    "## Low Frequency Extension (LFX)\n",
    "\n",
    "The intersection between the frequency graph and the red line is called LFX (Low Frequency Extension). You will see it in specification: 50hz at -6dB (sometimes -10dB or no indication).\n",
    "\n",
    "### What is good what is bad?\n",
    "Here good and bad are a function of the physical size of your speaker. If it is a bookshelve, \n",
    "50hz is good, it is a large tower, you can go as low as 30hz and sometimes less.\n",
    "\n",
    "You will see that the price climbs steadily when LFX goes down. It is usually cheaper to add \n",
    "a subwoofer (or two) to a pair of bookshelves than to buy large towers.\n",
    "\n",
    "Bass are nice! Your neibourgh may disagree.\n",
    "\n",
    "### Why -6dB as a measuring point?\n",
    "\n",
    "All measurement are supposed to be done in a special anechoic room.\n",
    "In your room, you have walls that will reflect the sound and increase the volume.\n",
    "If your speakers are against a wall or in a corner, the volume will increase by 6dB (resp 12dB). \n",
    "That's also why you will hear too much bass if you put your speaker in a corner.\n",
    "\n",
    "### Low and high volume and perceived amount of bass?\n",
    "\n",
    "Your ears are also complicated. Let's suppose you are in your sofa listening to music. \n",
    "If the volume is low, you need more bass and more trebel. If the volume increases a lot, \n",
    "then you don't need to boost bass and treble. We used to have settings on amplifiers to \n",
    "compensate for this ([loudness compensation](https://en.wikipedia.org/wiki/Loudness_compensation)).\n",
    "\n",
    "\n"
   ]
  },
  {
   "cell_type": "code",
   "execution_count": null,
   "metadata": {
    "jupyter": {
     "source_hidden": true
    }
   },
   "outputs": [],
   "source": [
    "g_fr+reg+reg_down + d_point + d_text"
   ]
  },
  {
   "cell_type": "markdown",
   "metadata": {
    "slideshow": {
     "slide_type": "slide"
    }
   },
   "source": [
    "# A real speaker\n",
    "\n",
    "Let's look at the same graphs but with real datas this time. I picked up a *very* good one.\n",
    "\n",
    "## On Axis \n",
    "\n",
    "This is very well behaving speaker. It is very flat on axis: \n",
    "\n",
    "- deviation 45Hz-20kHz: constructor (+/- 1.5 dB), independantly measured (+/- 1.4 dB)\n",
    "- Low Frequency Extension: spec (38Hz at -6dB), independatly measured (34Hz at -6dB)\n",
    "\n",
    "The constructor has excellent specs and even beat them on this model.\n"
   ]
  },
  {
   "cell_type": "code",
   "execution_count": null,
   "metadata": {
    "jupyter": {
     "source_hidden": true
    },
    "slideshow": {
     "slide_type": "skip"
    }
   },
   "outputs": [],
   "source": [
    "from src.spinorama.analysis import sound_power\n",
    "from src.spinorama.normalize import normalize_cea2034, normalize_mean\n",
    "from src.spinorama.load import parse_all_speakers, parse_graphs_speaker, graph_melt\n",
    "from src.spinorama.graph import graph_params_default, graph_freq, graph_spinorama"
   ]
  },
  {
   "cell_type": "code",
   "execution_count": null,
   "metadata": {
    "jupyter": {
     "source_hidden": true
    },
    "slideshow": {
     "slide_type": "fragment"
    }
   },
   "outputs": [],
   "source": [
    "genelec = parse_graphs_speaker('Genelec', 'Genelec 8341A', 'klippel')\n",
    "genelec_cea2034 = genelec['CEA2034']\n",
    "\n",
    "cea2034 = normalize_cea2034(genelec_cea2034, normalize_mean(genelec_cea2034))\n",
    "onaxis = cea2034[cea2034.Measurements == 'On Axis']\n",
    "\n",
    "graph_spinorama(onaxis, graph_params_default)"
   ]
  },
  {
   "cell_type": "markdown",
   "metadata": {
    "slideshow": {
     "slide_type": "slide"
    }
   },
   "source": [
    "## What's happening in your room?\n",
    "\n",
    "Let's suppose you have your speakers in a normal rectangular room. This is such a common use case that the standard has been build around this case.\n",
    "The On axis graph we have been looking at before will be changed by your room into a different graph. This is the Estimated In-Room Response graph:"
   ]
  },
  {
   "cell_type": "code",
   "execution_count": null,
   "metadata": {
    "jupyter": {
     "source_hidden": true
    },
    "slideshow": {
     "slide_type": "subslide"
    }
   },
   "outputs": [],
   "source": [
    "from src.spinorama.display import display_inroom\n",
    "display_inroom(genelec)"
   ]
  },
  {
   "cell_type": "markdown",
   "metadata": {
    "slideshow": {
     "slide_type": "slide"
    }
   },
   "source": [
    "This is again perfect behaviour: a slopping down response with very little deviation from the straight red line.\n",
    "\n",
    "## What about reflections?\n",
    "\n",
    "The sound comes from the speaker and you get hit by the soudwave. At the same time, the speaker is radiating sound not only at you but in many directions (more or less in all directions, obviously less behind and on the side than in front but still a lot). This waves sound will hit walls and bounce. The bounce depend a lot of what the surface is: the harder the surface, the bigger the reflections. One of the reason, people put a big carpet in front of the speaker is to reduce the bounce from the ground.\n",
    "\n",
    "## What's happening off axis?\n",
    "\n",
    "Let's measure the speaker response at an angle from the on axis. The standard ask for 2 loops: one horizontal in 10 degre increments, one vertical in 10 degre increments.\n",
    "You have 360/10=36 graphs for the horizontal plane and the same for the vertical plane. \n",
    "\n",
    "Let's plot some of them (from on-axis to 60 degre) both on the vertical and horinzontal plane. "
   ]
  },
  {
   "cell_type": "code",
   "execution_count": null,
   "metadata": {
    "jupyter": {
     "source_hidden": true
    },
    "slideshow": {
     "slide_type": "subslide"
    }
   },
   "outputs": [],
   "source": [
    "from src.spinorama.display import display_spl_horizontal, display_spl_vertical\n",
    "splH = display_spl_horizontal(genelec)\n",
    "splV = display_spl_vertical(genelec)\n",
    "splV | splH"
   ]
  },
  {
   "cell_type": "markdown",
   "metadata": {
    "slideshow": {
     "slide_type": "slide"
    }
   },
   "source": [
    "Here we see why the speaker is very good: if you are off axis by 10, 20 or 30 degrees you are still getting the same sound as if you were perfectly align with the speaker axis.\n",
    "This is very uncommon most speakers exibit large differences between on axis and slightly off measurements. \n",
    "\n",
    "## What's a contour plot?\n",
    "\n",
    "A contour plot is the same information has above but presented in a different way: we still have frequency in abscisse but this time we have the angle on the vertical axis.\n",
    "The color model the difference from on axis. The scale is plotted on the left. Basically red and shades off means less than 3dB difference from on axis. "
   ]
  },
  {
   "cell_type": "code",
   "execution_count": null,
   "metadata": {
    "jupyter": {
     "source_hidden": true
    },
    "slideshow": {
     "slide_type": "subslide"
    }
   },
   "outputs": [],
   "source": [
    "from src.spinorama.display import display_contour_horizontal, display_contour_vertical\n",
    "contourH = display_contour_horizontal(genelec)\n",
    "contourV = display_contour_vertical(genelec)\n",
    "contourV | contourH"
   ]
  },
  {
   "cell_type": "markdown",
   "metadata": {
    "slideshow": {
     "slide_type": "slide"
    }
   },
   "source": [
    "## What's a radar plot?\n",
    "\n",
    "A radar plot is another way to plot the same data, this time focusing on the result at some specific frequencies.\n"
   ]
  },
  {
   "cell_type": "code",
   "execution_count": null,
   "metadata": {
    "jupyter": {
     "source_hidden": true
    },
    "slideshow": {
     "slide_type": "subslide"
    }
   },
   "outputs": [],
   "source": [
    "from src.spinorama.display import display_radar_horizontal, display_radar_vertical\n",
    "radarH = display_radar_horizontal(genelec)\n",
    "radarV = display_radar_vertical(genelec)\n",
    "radarV | radarH"
   ]
  },
  {
   "cell_type": "markdown",
   "metadata": {
    "slideshow": {
     "slide_type": "slide"
    }
   },
   "source": [
    "## Spinorama \n",
    "\n",
    "## How would a less good speaker looks like?\n",
    "\n"
   ]
  }
 ],
 "metadata": {
  "celltoolbar": "Slideshow",
  "kernelspec": {
   "display_name": "Python 3",
   "language": "python",
   "name": "python3"
  },
  "language_info": {
   "codemirror_mode": {
    "name": "ipython",
    "version": 3
   },
   "file_extension": ".py",
   "mimetype": "text/x-python",
   "name": "python",
   "nbconvert_exporter": "python",
   "pygments_lexer": "ipython3",
   "version": "3.7.7"
  }
 },
 "nbformat": 4,
 "nbformat_minor": 4
}
