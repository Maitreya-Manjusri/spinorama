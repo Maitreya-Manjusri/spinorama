{
 "cells": [
  {
   "cell_type": "code",
   "execution_count": 6,
   "metadata": {},
   "outputs": [],
   "source": [
    "import math\n",
    "import logging\n",
    "import numpy as np\n",
    "import pandas as pd\n",
    "import scipy.signal as sig\n",
    "import altair as alt\n",
    "\n",
    "from src.spinorama.load import graph_melt\n",
    "from src.spinorama.load.parse import parse_graphs_speaker, normalize\n",
    "from src.spinorama.load.rewseq import parse_eq_iir_rews\n",
    "from src.spinorama.graph import graph_spinorama, graph_freq\n",
    "from src.spinorama.normalize import normalize_mean, normalize_cea2034\n",
    "from src.spinorama.scores import speaker_pref_rating\n",
    "from src.spinorama.cea2034 import compute_cea2034, estimated_inroom_HV, spl2pressure, pressure2spl\n",
    "from src.spinorama.iir import Biquad"
   ]
  },
  {
   "cell_type": "code",
   "execution_count": 7,
   "metadata": {},
   "outputs": [],
   "source": [
    "# df_speaker = parse_graphs_speaker('Genelec', 'Genelec 8341A')\n",
    "# df_speaker = parse_graphs_speaker('Focal', 'Focal Aria 906')\n",
    "# df_speaker = parse_graphs_speaker('Elac', 'Elac Debut 2.0 B6.2')\n",
    "df_speaker = parse_graphs_speaker('Adam', 'Adam S2V')\n",
    "\n",
    "g_params = {'xmin': 20, 'xmax': 20000, 'ymin': -50, 'ymax': 10, 'width': 400, 'height': 250}\n",
    "# graph_freq(df_speaker['SPL Horizontal'], g_params) | graph_freq(df_speaker['SPL Vertical'], g_params)\n",
    "spin  = df_speaker['CEA2034_unmelted']\n",
    "pir   = estimated_inroom_HV(df_speaker['SPL Horizontal_unmelted'], df_speaker['SPL Vertical_unmelted'])\n",
    "score = speaker_pref_rating(graph_melt(spin), graph_melt(pir))"
   ]
  },
  {
   "cell_type": "code",
   "execution_count": 8,
   "metadata": {},
   "outputs": [],
   "source": [
    "def parametric_eq_build(freq, peq):\n",
    "    filter = 0\n",
    "    for w, iir in peq:\n",
    "        filter += w*np.array([iir.log_result(f) for f in freq])\n",
    "    return filter\n",
    "\n",
    "\n",
    "def parametric_eq_apply(spl, peq):\n",
    "    filter = 0\n",
    "    for w, iir in peq:\n",
    "        filter += w*np.array([iir(v) for v in spl])\n",
    "    return filter\n",
    "\n",
    "\n",
    "def iir_graph(spin, measurement, peq):\n",
    "    spin_freq   = spin['Freq'].to_numpy()\n",
    "    mean = np.mean(spin.loc[(spin.Freq>500) & (spin.Freq<10000)]['On Axis'])\n",
    "    curve = spin[measurement]-mean\n",
    "    filter = parametric_eq_build(spin_freq, peq)\n",
    "    curve_filtered = parametric_eq_apply(curve, peq)\n",
    "    dff = pd.DataFrame({'Freq': spin_freq, measurement: curve, '{0} Filtered'.format(measurement): curve_filtered, 'Filter': filter})\n",
    "    return alt.Chart(graph_melt(dff)).mark_line(clip=True).encode(\n",
    "        x=alt.X('Freq:Q', scale=alt.Scale(type='log', nice=False, domain=[20, 20000])),\n",
    "        y=alt.Y('dB:Q', scale=alt.Scale(domain=[-25, 5])),\n",
    "        color=alt.Color('Measurements')\n",
    "    )\n",
    "\n",
    "def iir_apply(spl, peq):\n",
    "    freq   = spl['Freq'].to_numpy()\n",
    "    mean = np.mean(spl.loc[(spin.Freq>500) & (spl.Freq<10000)]['On Axis'])\n",
    "    ddf = []\n",
    "    ddf.append(pd.DataFrame({'Freq': freq}))\n",
    "    for angle in spl.keys():\n",
    "        if angle == 'Freq':\n",
    "            continue\n",
    "        curve = spl[angle]-mean\n",
    "        # curve_filtered = curve+parametric_eq_apply(curve, peq)\n",
    "        curve_filtered = curve+parametric_eq_build(freq, peq)\n",
    "        # print('{0:7s} range [{1:.1f}, {2:.1f}] filtered [{3:.1f}, {4:.1f}]'.format(angle, np.min(curve), np.max(curve), np.min(curve_filtered), np.max(curve_filtered)))\n",
    "        # print(curve, curve_filtered)\n",
    "        ddf.append(pd.DataFrame({angle: curve_filtered}))\n",
    "    return pd.concat(ddf, axis=1)\n",
    "\n"
   ]
  },
  {
   "cell_type": "code",
   "execution_count": 9,
   "metadata": {},
   "outputs": [],
   "source": [
    "my_fs = 48000\n",
    "my_peq = [\n",
    "    (0, Biquad(Biquad.HIGHPASS, 50, my_fs, 0.2, 1)),\n",
    "    (1, Biquad(Biquad.PEAK, 715, my_fs, 8, -2.8)),\n",
    "    (0, Biquad(Biquad.NOTCH, 1400, my_fs, 0.1, 0.1)),\n",
    "]\n",
    "\n",
    "my_peq = parse_eq_iir_rews('./datas/eq/Adam S2V/iir.txt', my_fs)\n",
    "ddf_horizontal = iir_apply(df_speaker['SPL Horizontal_unmelted'], my_peq)\n",
    "ddf_vertical   = iir_apply(df_speaker['SPL Vertical_unmelted'], my_peq)\n",
    "\n",
    "spin_filtered = normalize(graph_melt(compute_cea2034(ddf_horizontal, ddf_vertical)))\n",
    "pir_filtered  = normalize(graph_melt(estimated_inroom_HV(ddf_horizontal, ddf_vertical)))\n",
    "score_filtered = speaker_pref_rating(spin_filtered, pir_filtered)"
   ]
  },
  {
   "cell_type": "code",
   "execution_count": 10,
   "metadata": {},
   "outputs": [
    {
     "name": "stdout",
     "output_type": "stream",
     "text": [
      "Type:3,Freq:340.0,Rate:48000.0,Q:10.0,Gain:0.8\n",
      "Type:3,Freq:485.0,Rate:48000.0,Q:10.0,Gain:1.5\n",
      "Type:3,Freq:597.0,Rate:48000.0,Q:5.0,Gain:-1.5\n",
      "Type:3,Freq:1049.0,Rate:48000.0,Q:1.0,Gain:-1.8\n",
      "Type:3,Freq:2902.0,Rate:48000.0,Q:4.2,Gain:-1.1\n",
      "Type:3,Freq:3979.0,Rate:48000.0,Q:5.0,Gain:1.4\n",
      "Type:3,Freq:5886.0,Rate:48000.0,Q:5.0,Gain:3.1\n",
      "Type:3,Freq:6702.0,Rate:48000.0,Q:1.0,Gain:-3.8\n",
      "Type:3,Freq:7943.0,Rate:48000.0,Q:5.0,Gain:3.1\n",
      "Type:3,Freq:8825.0,Rate:48000.0,Q:5.0,Gain:-2.7\n",
      "Type:3,Freq:9458.0,Rate:48000.0,Q:5.0,Gain:2.8\n",
      "Type:3,Freq:10680.0,Rate:48000.0,Q:10.0,Gain:-0.7\n",
      "Type:3,Freq:11866.0,Rate:48000.0,Q:1.0,Gain:-1.8\n",
      "Type:3,Freq:17828.0,Rate:48000.0,Q:5.0,Gain:-1.6\n",
      "         SPK FLT\n",
      "-----------------\n",
      "NBD  ON 0.34 0.24\n",
      "NBD  LW 0.32 0.19\n",
      "NBD PIR 0.29 0.20\n",
      "SM  PIR 0.71 0.93\n",
      "SM   SP 0.92 0.95\n",
      "LFX       43   43\n",
      "LFQ     0.77 0.74\n",
      "-----------------\n",
      "Score    5.5  6.6\n",
      "-----------------\n"
     ]
    }
   ],
   "source": [
    "for i in range(0, len(my_peq)):\n",
    "    if my_peq[i][0] != 0:\n",
    "        print(my_peq[i][1])\n",
    "print('         SPK FLT')\n",
    "print('-----------------')\n",
    "print('NBD  ON {0:0.2f} {1:0.2f}'.format(score['nbd_on_axis'], score_filtered['nbd_on_axis']))\n",
    "print('NBD  LW {0:0.2f} {1:0.2f}'.format(score['nbd_listening_window'], score_filtered['nbd_listening_window']))\n",
    "print('NBD PIR {0:0.2f} {1:0.2f}'.format(score['nbd_pred_in_room'], score_filtered['nbd_pred_in_room']))\n",
    "print('SM  PIR {0:0.2f} {1:0.2f}'.format(score['sm_pred_in_room'], score_filtered['sm_pred_in_room']))\n",
    "print('SM   SP {0:0.2f} {1:0.2f}'.format(score['sm_sound_power'], score_filtered['sm_sound_power']))\n",
    "print('LFX       {0}   {1}'.format(score['lfx_hz'], score_filtered['lfx_hz']))\n",
    "print('LFQ     {0} {1}'.format(score['lfq'], score_filtered['lfq']))\n",
    "print('-----------------')\n",
    "print('Score    {0}  {1}'.format(score['pref_score'], score_filtered['pref_score']))\n",
    "print('-----------------')"
   ]
  },
  {
   "cell_type": "code",
   "execution_count": null,
   "metadata": {},
   "outputs": [],
   "source": [
    "graph_spinorama(df_speaker['CEA2034'], g_params) | graph_spinorama(spin_filtered, g_params)"
   ]
  },
  {
   "cell_type": "code",
   "execution_count": null,
   "metadata": {},
   "outputs": [],
   "source": [
    "my_fs = 96000\n",
    "my_peq = [\n",
    "    (0, Biquad(Biquad.HIGHPASS, 20, my_fs, 0.2, 1)),\n",
    "    (0, Biquad(Biquad.PEAK, 760, my_fs, 8, -2)),\n",
    "    (1, Biquad(Biquad.BANDPASS, 1400, my_fs, 0.1, 3)),\n",
    "]\n",
    "\n",
    "freq = spin.Freq\n",
    "db = [1] * len(freq)\n",
    "# db = [math.sin(i) for i in range(0, len(db))]\n",
    "df_flat = pd.DataFrame({'Freq': freq, 'On Axis': db})\n",
    "df_filt = iir_apply(df_flat, my_peq)\n",
    "#print(df_filt)\n",
    "print(df_filt['Freq'].min(), df_filt['Freq'].max())\n",
    "print(df_filt['On Axis'].min(), df_filt['On Axis'].max())\n",
    "iir_graph(df_filt, 'On Axis', my_peq) | graph_freq(graph_melt(df_filt), g_params)"
   ]
  },
  {
   "cell_type": "code",
   "execution_count": null,
   "metadata": {},
   "outputs": [],
   "source": [
    "def score_with_filter(splH, splV, peq):\n",
    "    ddf_horizontal = iir_apply(splH, peq)\n",
    "    ddf_vertical   = iir_apply(splV, peq)\n",
    "    spin_filtered = normalize(graph_melt(compute_cea2034(ddf_horizontal, ddf_vertical)))\n",
    "    pir_filtered  = normalize(graph_melt(estimated_inroom_HV(ddf_horizontal, ddf_vertical)))\n",
    "    score_filtered = speaker_pref_rating(spin_filtered, pir_filtered, rounded=False)\n",
    "    return -score_filtered['pref_score']"
   ]
  },
  {
   "cell_type": "code",
   "execution_count": null,
   "metadata": {},
   "outputs": [],
   "source": [
    "my_fs = 48000\n",
    "my_peq = [\n",
    "    (0, Biquad(Biquad.HIGHPASS, 50, my_fs, 0.2, 1)),\n",
    "    (1, Biquad(Biquad.PEAK, 715, my_fs, 8, -2.8)),\n",
    "    (0, Biquad(Biquad.NOTCH, 1400, my_fs, 0.1, 0.1)),\n",
    "]\n",
    "score_with_filter(df_speaker['SPL Horizontal_unmelted'], df_speaker['SPL Vertical_unmelted'], my_peq)"
   ]
  },
  {
   "cell_type": "code",
   "execution_count": null,
   "metadata": {},
   "outputs": [],
   "source": [
    "x0 = [700, 6, -2]\n",
    "\n",
    "def objective(params):\n",
    "    freq = params[0]\n",
    "    Q    = params[1]\n",
    "    Z    = params[2]\n",
    "    the_peq = [(1, Biquad(Biquad.PEAK, freq, my_fs, Q, Z))]\n",
    "    score = score_with_filter(df_speaker['SPL Horizontal_unmelted'], df_speaker['SPL Vertical_unmelted'], the_peq)\n",
    "    print(params, score)\n",
    "    return score"
   ]
  },
  {
   "cell_type": "code",
   "execution_count": null,
   "metadata": {},
   "outputs": [],
   "source": [
    "objective(x0)"
   ]
  },
  {
   "cell_type": "code",
   "execution_count": null,
   "metadata": {},
   "outputs": [],
   "source": [
    "from scipy.optimize import minimize, basinhopping"
   ]
  },
  {
   "cell_type": "code",
   "execution_count": null,
   "metadata": {},
   "outputs": [],
   "source": [
    "bounds = [(20, 20000), (-10, 10), (0.1, 2)]\n",
    "res = minimize(objective, x0, method='SLSQP', bounds=bounds)"
   ]
  },
  {
   "cell_type": "markdown",
   "metadata": {},
   "source": [
    "res.x\n"
   ]
  },
  {
   "cell_type": "code",
   "execution_count": null,
   "metadata": {},
   "outputs": [],
   "source": [
    "\n",
    "minimizer_kwargs = {\"method\": \"COBYLA\"}\n",
    "\n",
    "def objective(params):\n",
    "    freq = params[0]\n",
    "    Q    = params[1]\n",
    "    Z    = params[2]\n",
    "    the_peq = [(1, Biquad(Biquad.PEAK, freq, my_fs, Q, Z))]\n",
    "    score = score_with_filter(df_speaker['SPL Horizontal_unmelted'], df_speaker['SPL Vertical_unmelted'], the_peq)\n",
    "    print(params, score)\n",
    "    return score\n",
    "\n",
    "class MyTakeStep(object):\n",
    "   def __init__(self, stepsize=0.1):\n",
    "       self.stepsize = stepsize\n",
    "   def __call__(self, x):\n",
    "       s = self.stepsize\n",
    "       x[0] += np.random.uniform(-1000.*s, 1000.*s)\n",
    "       x[1:] += np.random.uniform(-s, s, x[1:].shape)\n",
    "       return x\n",
    "\n",
    "class MyBounds(object):\n",
    "    def __init__(self, xmax=[20000,10, 10], xmin=[20,-10, -10] ):\n",
    "        self.xmax = np.array(xmax)\n",
    "        self.xmin = np.array(xmin)\n",
    "    def __call__(self, **kwargs):\n",
    "        x = kwargs[\"x_new\"]\n",
    "        tmax = bool(np.all(x <= self.xmax))\n",
    "        tmin = bool(np.all(x >= self.xmin))\n",
    "        return tmax and tmin\n",
    "\n",
    "mytakestep = MyTakeStep()\n",
    "mybounds = MyBounds()\n",
    "\n",
    "x0 = [700, 5, -2]\n",
    "res = basinhopping(objective2, \n",
    "                   x0, \n",
    "                   minimizer_kwargs=minimizer_kwargs, \n",
    "                   take_step=mytakestep, \n",
    "                   accept_test=mybounds,\n",
    "                   interval=5,\n",
    "                   niter=2)"
   ]
  },
  {
   "cell_type": "code",
   "execution_count": null,
   "metadata": {},
   "outputs": [],
   "source": []
  }
 ],
 "metadata": {
  "kernelspec": {
   "display_name": "Python 3",
   "language": "python",
   "name": "python3"
  },
  "language_info": {
   "codemirror_mode": {
    "name": "ipython",
    "version": 3
   },
   "file_extension": ".py",
   "mimetype": "text/x-python",
   "name": "python",
   "nbconvert_exporter": "python",
   "pygments_lexer": "ipython3",
   "version": "3.7.7"
  }
 },
 "nbformat": 4,
 "nbformat_minor": 4
}
