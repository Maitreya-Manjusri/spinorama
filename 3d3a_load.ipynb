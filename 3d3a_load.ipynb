{
 "cells": [
  {
   "cell_type": "code",
   "execution_count": 1,
   "metadata": {},
   "outputs": [],
   "source": [
    "import pandas as pd\n",
    "from scipy.io import loadmat\n",
    "import altair as alt\n",
    "import numpy as np\n",
    "import math\n",
    "from scipy.io import loadmat\n",
    "from src.spinorama.load import graph_melt\n",
    "from src.spinorama.graph import graph_freq, graph_params_default\n",
    "from src.spinorama.analysis import compute_cea2034"
   ]
  },
  {
   "cell_type": "code",
   "execution_count": 11,
   "metadata": {},
   "outputs": [],
   "source": [
    "def parse_graph_freq_princeton_mat(mat, suffix):\n",
    "    \"\"\" Suffix can be either H or V \"\"\"\n",
    "    ir_name = 'IR_{:1s}'.format(suffix)\n",
    "    fs_name = 'fs_{:1s}'.format(suffix)\n",
    "    # compute Freq                                                                                                                   \n",
    "    timestep = 1./mat[fs_name]\n",
    "    print(timestep)\n",
    "    # hummm                                                                                                                          \n",
    "    freq = np.fft.fftfreq(2**14, d=timestep)\n",
    "    # reduce spectrum to 0 to 24kHz                                                                                                  \n",
    "    # lg = 2**14                                                                                                                     \n",
    "    # 24k is lgs = int(lg/4)                                                                                                         \n",
    "    # 20k is at 3414                                                                                                                 \n",
    "    lgs = 3414\n",
    "    xs = freq[0][0:lgs]\n",
    "    #    \n",
    "    df = pd.DataFrame({'Freq': xs})\n",
    "    # loop over measurements (skipping the 5 increments)\n",
    "    for i in range(0, 72, 1):\n",
    "        # extract ir                                                                                                                 \n",
    "        ir = mat[ir_name][i]\n",
    "        # compute FFT                                                                                                                \n",
    "        y = np.fft.fft(ir)\n",
    "        ys = np.abs(y[0:lgs])\n",
    "        # check for 0 (from manual: 0 means not measured)                                                                            \n",
    "        if ys.max() == 0.0:\n",
    "            print('skipping {0}deg'.format(i*5))\n",
    "            continue\n",
    "        # apply formula from paper to translate to dbFS                                                                              \n",
    "        ys = 105.+np.log10(ys)*20.\n",
    "        # interpolate to smooth response                                                                                             \n",
    "        # s = InterpolatedUnivariateSpline(xs, ys)                                                                                   \n",
    "        # pretty print label, per 5 deg increment, follow klippel labelling                                                          \n",
    "        ilabel =i*5\n",
    "        if ilabel > 180: \n",
    "            ilabel = ilabel-360\n",
    "        label = '{:d}°'.format(ilabel)\n",
    "        if ilabel == 0:\n",
    "            label = 'On Axis'\n",
    "        df[label] = ys\n",
    "    # sort columns in increasing angle order \n",
    "    def a2v(angle):\n",
    "        if angle == 'Freq':\n",
    "            return -1000\n",
    "        elif angle == 'On Axis':\n",
    "            return 0\n",
    "        else:\n",
    "            return int(angle[:-1])\n",
    "\n",
    "    df = df.reindex(columns=sorted(df.columns, key=lambda a: a2v(a)))\n",
    "    # check empty case\n",
    "    if 'On Axis' not in df.keys():\n",
    "        return None\n",
    "    # precision of measurement is ok above 500\n",
    "    return df[df.Freq>=500]"
   ]
  },
  {
   "cell_type": "code",
   "execution_count": 12,
   "metadata": {},
   "outputs": [],
   "source": [
    "h_mat = loadmat(\"datas/Princeton/Avantgarde Acoustic Solo/Avantgarde_H_IR.mat\")\n",
    "v_mat = loadmat(\"datas/Princeton/Avantgarde Acoustic Solo/Avantgarde_V_IR.mat\")"
   ]
  },
  {
   "cell_type": "code",
   "execution_count": 13,
   "metadata": {},
   "outputs": [
    {
     "name": "stdout",
     "output_type": "stream",
     "text": [
      "[[1.04166667e-05]]\n",
      "skipping 0deg\n",
      "skipping 5deg\n",
      "skipping 10deg\n",
      "skipping 15deg\n",
      "skipping 20deg\n",
      "skipping 25deg\n",
      "skipping 30deg\n",
      "skipping 35deg\n",
      "skipping 40deg\n",
      "skipping 45deg\n",
      "skipping 50deg\n",
      "skipping 55deg\n",
      "skipping 60deg\n",
      "skipping 65deg\n",
      "skipping 70deg\n",
      "skipping 75deg\n",
      "skipping 80deg\n",
      "skipping 85deg\n",
      "skipping 90deg\n",
      "skipping 95deg\n",
      "skipping 100deg\n",
      "skipping 105deg\n",
      "skipping 110deg\n",
      "skipping 115deg\n",
      "skipping 120deg\n",
      "skipping 125deg\n",
      "skipping 130deg\n",
      "skipping 135deg\n",
      "skipping 140deg\n",
      "skipping 145deg\n",
      "skipping 150deg\n",
      "skipping 155deg\n",
      "skipping 160deg\n",
      "skipping 165deg\n",
      "skipping 170deg\n",
      "skipping 175deg\n",
      "skipping 180deg\n",
      "skipping 185deg\n",
      "skipping 190deg\n",
      "skipping 195deg\n",
      "skipping 200deg\n",
      "skipping 205deg\n",
      "skipping 210deg\n",
      "skipping 215deg\n",
      "skipping 220deg\n",
      "skipping 225deg\n",
      "skipping 230deg\n",
      "skipping 235deg\n",
      "skipping 240deg\n",
      "skipping 245deg\n",
      "skipping 250deg\n",
      "skipping 255deg\n",
      "skipping 260deg\n",
      "skipping 265deg\n",
      "skipping 270deg\n",
      "skipping 275deg\n",
      "skipping 280deg\n",
      "skipping 285deg\n",
      "skipping 290deg\n",
      "skipping 295deg\n",
      "skipping 300deg\n",
      "skipping 305deg\n",
      "skipping 310deg\n",
      "skipping 315deg\n",
      "skipping 320deg\n",
      "skipping 325deg\n",
      "skipping 330deg\n",
      "skipping 335deg\n",
      "skipping 340deg\n",
      "skipping 345deg\n",
      "skipping 350deg\n",
      "skipping 355deg\n"
     ]
    },
    {
     "data": {
      "text/plain": [
       "True"
      ]
     },
     "execution_count": 13,
     "metadata": {},
     "output_type": "execute_result"
    }
   ],
   "source": [
    "df = parse_graph_freq_princeton_mat(v_mat, 'V')\n",
    "df is None"
   ]
  },
  {
   "cell_type": "code",
   "execution_count": 14,
   "metadata": {},
   "outputs": [
    {
     "name": "stdout",
     "output_type": "stream",
     "text": [
      "[[1.04166667e-05]]\n",
      "skipping 185deg\n",
      "skipping 190deg\n",
      "skipping 195deg\n",
      "skipping 200deg\n",
      "skipping 205deg\n",
      "skipping 210deg\n",
      "skipping 215deg\n",
      "skipping 220deg\n",
      "skipping 225deg\n",
      "skipping 230deg\n",
      "skipping 235deg\n",
      "skipping 240deg\n",
      "skipping 245deg\n",
      "skipping 250deg\n",
      "skipping 255deg\n",
      "skipping 260deg\n",
      "skipping 265deg\n",
      "skipping 270deg\n",
      "skipping 275deg\n",
      "skipping 280deg\n",
      "skipping 285deg\n",
      "skipping 290deg\n",
      "skipping 295deg\n",
      "skipping 300deg\n",
      "skipping 305deg\n",
      "skipping 310deg\n",
      "skipping 315deg\n",
      "skipping 320deg\n",
      "skipping 325deg\n",
      "skipping 330deg\n",
      "skipping 335deg\n",
      "skipping 340deg\n",
      "skipping 345deg\n",
      "skipping 350deg\n",
      "skipping 355deg\n"
     ]
    },
    {
     "data": {
      "text/plain": [
       "False"
      ]
     },
     "execution_count": 14,
     "metadata": {},
     "output_type": "execute_result"
    }
   ],
   "source": [
    "df = parse_graph_freq_princeton_mat(h_mat, 'H')\n",
    "df is None"
   ]
  },
  {
   "cell_type": "code",
   "execution_count": 24,
   "metadata": {},
   "outputs": [
    {
     "data": {
      "text/plain": [
       "86      88.680184\n",
       "87      88.585381\n",
       "88      88.349471\n",
       "89      88.075364\n",
       "90      87.784042\n",
       "          ...    \n",
       "3409    62.406832\n",
       "3410    62.154144\n",
       "3411    61.952354\n",
       "3412    61.762524\n",
       "3413    61.520443\n",
       "Name: On Axis, Length: 3328, dtype: float64"
      ]
     },
     "execution_count": 24,
     "metadata": {},
     "output_type": "execute_result"
    }
   ],
   "source": [
    "x = df[['On Axis']]\n",
    "x[x.columns[0]]"
   ]
  },
  {
   "cell_type": "code",
   "execution_count": null,
   "metadata": {},
   "outputs": [],
   "source": []
  }
 ],
 "metadata": {
  "kernelspec": {
   "display_name": "Python 3",
   "language": "python",
   "name": "python3"
  },
  "language_info": {
   "codemirror_mode": {
    "name": "ipython",
    "version": 3
   },
   "file_extension": ".py",
   "mimetype": "text/x-python",
   "name": "python",
   "nbconvert_exporter": "python",
   "pygments_lexer": "ipython3",
   "version": "3.8.2"
  }
 },
 "nbformat": 4,
 "nbformat_minor": 4
}
