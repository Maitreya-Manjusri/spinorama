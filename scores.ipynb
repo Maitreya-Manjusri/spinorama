{
 "cells": [
  {
   "cell_type": "code",
   "execution_count": 1,
   "metadata": {},
   "outputs": [],
   "source": [
    "import math\n",
    "import pandas as pd\n",
    "import altair as alt\n",
    "import numpy as np\n",
    "import json"
   ]
  },
  {
   "cell_type": "code",
   "execution_count": 2,
   "metadata": {},
   "outputs": [
    {
     "data": {
      "text/html": [
       "<div>\n",
       "<style scoped>\n",
       "    .dataframe tbody tr th:only-of-type {\n",
       "        vertical-align: middle;\n",
       "    }\n",
       "\n",
       "    .dataframe tbody tr th {\n",
       "        vertical-align: top;\n",
       "    }\n",
       "\n",
       "    .dataframe thead th {\n",
       "        text-align: right;\n",
       "    }\n",
       "</style>\n",
       "<table border=\"1\" class=\"dataframe\">\n",
       "  <thead>\n",
       "    <tr style=\"text-align: right;\">\n",
       "      <th></th>\n",
       "      <th>speaker</th>\n",
       "      <th>param</th>\n",
       "      <th>value</th>\n",
       "    </tr>\n",
       "  </thead>\n",
       "  <tbody>\n",
       "    <tr>\n",
       "      <th>0</th>\n",
       "      <td>Adam S2V</td>\n",
       "      <td>brand</td>\n",
       "      <td>Adam</td>\n",
       "    </tr>\n",
       "    <tr>\n",
       "      <th>1</th>\n",
       "      <td>Adam S2V</td>\n",
       "      <td>model</td>\n",
       "      <td>S2V</td>\n",
       "    </tr>\n",
       "    <tr>\n",
       "      <th>2</th>\n",
       "      <td>Adam S2V</td>\n",
       "      <td>type</td>\n",
       "      <td>active</td>\n",
       "    </tr>\n",
       "    <tr>\n",
       "      <th>3</th>\n",
       "      <td>Adam S2V</td>\n",
       "      <td>price</td>\n",
       "      <td>1750</td>\n",
       "    </tr>\n",
       "    <tr>\n",
       "      <th>4</th>\n",
       "      <td>Adam S2V</td>\n",
       "      <td>measurements</td>\n",
       "      <td>[{'origin': 'ASR', 'format': 'klippel'}]</td>\n",
       "    </tr>\n",
       "  </tbody>\n",
       "</table>\n",
       "</div>"
      ],
      "text/plain": [
       "    speaker         param                                     value\n",
       "0  Adam S2V         brand                                      Adam\n",
       "1  Adam S2V         model                                       S2V\n",
       "2  Adam S2V          type                                    active\n",
       "3  Adam S2V         price                                      1750\n",
       "4  Adam S2V  measurements  [{'origin': 'ASR', 'format': 'klippel'}]"
      ]
     },
     "execution_count": 2,
     "metadata": {},
     "output_type": "execute_result"
    }
   ],
   "source": [
    "filename = 'docs/assets/metadata.json'\n",
    "f = open(filename, 'r')\n",
    "j = json.load(f)\n",
    "df = pd.DataFrame({'speaker':[], 'param':[], 'value':[]})\n",
    "count = 0\n",
    "for i in j:\n",
    "    speaker = j[i]\n",
    "    for p in speaker:\n",
    "        val = speaker[p]\n",
    "        if type(val) is dict:\n",
    "            for v in val.keys():\n",
    "                #print('{0} {1} {2}'.format(i, v, val[v]))\n",
    "                df.loc[count] = [i, v, val[v]]\n",
    "                count += 1\n",
    "        else:\n",
    "            # print('{0} {1} {2}'.format(i, p, val))\n",
    "            df.loc[count] = [i, p, val]\n",
    "            count += 1\n",
    "df.head()"
   ]
  },
  {
   "cell_type": "code",
   "execution_count": 11,
   "metadata": {},
   "outputs": [],
   "source": [
    "pref_score = df.loc[(df.param=='pref_score')].reset_index()\n",
    "brand = df.loc[(df.param=='brand')].reset_index()\n",
    "lfx_hz = df.loc[(df.param=='lfx_hz')].reset_index()\n",
    "nbd_on = df.loc[(df.param=='nbd_on_axis')].reset_index()\n",
    "nbd_pir = df.loc[(df.param=='nbd_pred_in_room')].reset_index()\n",
    "sm_pir = df.loc[(df.param=='sm_pred_in_room')].reset_index()\n",
    "\n",
    "source = pd.DataFrame({\n",
    "    'speaker': pref_score.speaker, \n",
    "    'brand': brand.value,\n",
    "    'pref_score': pref_score.value, \n",
    "    'lfx_hz': lfx_hz.value,\n",
    "    'nbd_on': nbd_on.value,\n",
    "    'nbd_pir': nbd_pir.value,\n",
    "    'sm_pir': sm_pir.value,\n",
    "}).dropna()"
   ]
  },
  {
   "cell_type": "code",
   "execution_count": 12,
   "metadata": {},
   "outputs": [],
   "source": [
    "lfx_hz = alt.Chart(source).mark_point(\n",
    ").encode(\n",
    "    x=alt.X('lfx_hz:Q'),\n",
    "    y=alt.Y('pref_score:Q'),\n",
    "    color=alt.Color('brand:N'),\n",
    "    tooltip=['speaker', 'lfx_hz', 'pref_score']\n",
    ")\n",
    "\n",
    "g_lfx = lfx_hz+lfx_hz.transform_regression('lfx_hz', 'pref_score').mark_line()"
   ]
  },
  {
   "cell_type": "code",
   "execution_count": 13,
   "metadata": {},
   "outputs": [],
   "source": [
    "nbd_on = alt.Chart(source).mark_point(\n",
    ").encode(\n",
    "    x=alt.X('nbd_on:Q'),\n",
    "    y=alt.Y('pref_score:Q'),\n",
    "    color=alt.Color('brand:N'),\n",
    "    tooltip=['speaker', 'nbd_on', 'pref_score']\n",
    ")\n",
    "\n",
    "g_nbd_on = nbd_on+nbd_on.transform_regression('nbd_on', 'pref_score').mark_line()"
   ]
  },
  {
   "cell_type": "code",
   "execution_count": 14,
   "metadata": {},
   "outputs": [],
   "source": [
    "nbd_pir = alt.Chart(source).mark_point(\n",
    ").encode(\n",
    "    x=alt.X('nbd_pir:Q'),\n",
    "    y=alt.Y('pref_score:Q'),\n",
    "    color=alt.Color('brand:N'),\n",
    "    tooltip=['speaker', 'nbd_pir', 'pref_score']\n",
    ")\n",
    "\n",
    "g_nbd_pir = nbd_pir+nbd_pir.transform_regression('nbd_pir', 'pref_score').mark_line()"
   ]
  },
  {
   "cell_type": "code",
   "execution_count": 15,
   "metadata": {},
   "outputs": [],
   "source": [
    "sm_pir = alt.Chart(source).mark_point(\n",
    ").encode(\n",
    "    x=alt.X('sm_pir:Q'),\n",
    "    y=alt.Y('pref_score:Q'),\n",
    "    color=alt.Color('brand:N'),\n",
    "    tooltip=['speaker', 'sm_pir', 'pref_score']\n",
    ")\n",
    "\n",
    "g_sm_pir = sm_pir+sm_pir.transform_regression('sm_pir', 'pref_score').mark_line()"
   ]
  },
  {
   "cell_type": "code",
   "execution_count": 16,
   "metadata": {},
   "outputs": [
    {
     "data": {
      "text/html": [
       "\n",
       "<div id=\"altair-viz-2a5b979f6b504d5d9a03e3c69fdf6a5d\"></div>\n",
       "<script type=\"text/javascript\">\n",
       "  (function(spec, embedOpt){\n",
       "    const outputDiv = document.getElementById(\"altair-viz-2a5b979f6b504d5d9a03e3c69fdf6a5d\");\n",
       "    const paths = {\n",
       "      \"vega\": \"https://cdn.jsdelivr.net/npm//vega@5?noext\",\n",
       "      \"vega-lib\": \"https://cdn.jsdelivr.net/npm//vega-lib?noext\",\n",
       "      \"vega-lite\": \"https://cdn.jsdelivr.net/npm//vega-lite@4.0.2?noext\",\n",
       "      \"vega-embed\": \"https://cdn.jsdelivr.net/npm//vega-embed@6?noext\",\n",
       "    };\n",
       "\n",
       "    function loadScript(lib) {\n",
       "      return new Promise(function(resolve, reject) {\n",
       "        var s = document.createElement('script');\n",
       "        s.src = paths[lib];\n",
       "        s.async = true;\n",
       "        s.onload = () => resolve(paths[lib]);\n",
       "        s.onerror = () => reject(`Error loading script: ${paths[lib]}`);\n",
       "        document.getElementsByTagName(\"head\")[0].appendChild(s);\n",
       "      });\n",
       "    }\n",
       "\n",
       "    function showError(err) {\n",
       "      outputDiv.innerHTML = `<div class=\"error\" style=\"color:red;\">${err}</div>`;\n",
       "      throw err;\n",
       "    }\n",
       "\n",
       "    function displayChart(vegaEmbed) {\n",
       "      vegaEmbed(outputDiv, spec, embedOpt)\n",
       "        .catch(err => showError(`Javascript Error: ${err.message}<br>This usually means there's a typo in your chart specification. See the javascript console for the full traceback.`));\n",
       "    }\n",
       "\n",
       "    if(typeof define === \"function\" && define.amd) {\n",
       "      requirejs.config({paths});\n",
       "      require([\"vega-embed\"], displayChart, err => showError(`Error loading script: ${err.message}`));\n",
       "    } else if (typeof vegaEmbed === \"function\") {\n",
       "      displayChart(vegaEmbed);\n",
       "    } else {\n",
       "      loadScript(\"vega\")\n",
       "        .then(() => loadScript(\"vega-lite\"))\n",
       "        .then(() => loadScript(\"vega-embed\"))\n",
       "        .catch(showError)\n",
       "        .then(() => displayChart(vegaEmbed));\n",
       "    }\n",
       "  })({\"config\": {\"view\": {\"continuousWidth\": 400, \"continuousHeight\": 300}}, \"vconcat\": [{\"hconcat\": [{\"layer\": [{\"mark\": \"point\", \"encoding\": {\"color\": {\"type\": \"nominal\", \"field\": \"brand\"}, \"tooltip\": [{\"type\": \"nominal\", \"field\": \"speaker\"}, {\"type\": \"quantitative\", \"field\": \"lfx_hz\"}, {\"type\": \"quantitative\", \"field\": \"pref_score\"}], \"x\": {\"type\": \"quantitative\", \"field\": \"lfx_hz\"}, \"y\": {\"type\": \"quantitative\", \"field\": \"pref_score\"}}}, {\"mark\": \"line\", \"encoding\": {\"color\": {\"type\": \"nominal\", \"field\": \"brand\"}, \"tooltip\": [{\"type\": \"nominal\", \"field\": \"speaker\"}, {\"type\": \"quantitative\", \"field\": \"lfx_hz\"}, {\"type\": \"quantitative\", \"field\": \"pref_score\"}], \"x\": {\"type\": \"quantitative\", \"field\": \"lfx_hz\"}, \"y\": {\"type\": \"quantitative\", \"field\": \"pref_score\"}}, \"transform\": [{\"on\": \"lfx_hz\", \"regression\": \"pref_score\"}]}]}, {\"layer\": [{\"mark\": \"point\", \"encoding\": {\"color\": {\"type\": \"nominal\", \"field\": \"brand\"}, \"tooltip\": [{\"type\": \"nominal\", \"field\": \"speaker\"}, {\"type\": \"quantitative\", \"field\": \"nbd_on\"}, {\"type\": \"quantitative\", \"field\": \"pref_score\"}], \"x\": {\"type\": \"quantitative\", \"field\": \"nbd_on\"}, \"y\": {\"type\": \"quantitative\", \"field\": \"pref_score\"}}}, {\"mark\": \"line\", \"encoding\": {\"color\": {\"type\": \"nominal\", \"field\": \"brand\"}, \"tooltip\": [{\"type\": \"nominal\", \"field\": \"speaker\"}, {\"type\": \"quantitative\", \"field\": \"nbd_on\"}, {\"type\": \"quantitative\", \"field\": \"pref_score\"}], \"x\": {\"type\": \"quantitative\", \"field\": \"nbd_on\"}, \"y\": {\"type\": \"quantitative\", \"field\": \"pref_score\"}}, \"transform\": [{\"on\": \"nbd_on\", \"regression\": \"pref_score\"}]}]}]}, {\"hconcat\": [{\"layer\": [{\"mark\": \"point\", \"encoding\": {\"color\": {\"type\": \"nominal\", \"field\": \"brand\"}, \"tooltip\": [{\"type\": \"nominal\", \"field\": \"speaker\"}, {\"type\": \"quantitative\", \"field\": \"nbd_pir\"}, {\"type\": \"quantitative\", \"field\": \"pref_score\"}], \"x\": {\"type\": \"quantitative\", \"field\": \"nbd_pir\"}, \"y\": {\"type\": \"quantitative\", \"field\": \"pref_score\"}}}, {\"mark\": \"line\", \"encoding\": {\"color\": {\"type\": \"nominal\", \"field\": \"brand\"}, \"tooltip\": [{\"type\": \"nominal\", \"field\": \"speaker\"}, {\"type\": \"quantitative\", \"field\": \"nbd_pir\"}, {\"type\": \"quantitative\", \"field\": \"pref_score\"}], \"x\": {\"type\": \"quantitative\", \"field\": \"nbd_pir\"}, \"y\": {\"type\": \"quantitative\", \"field\": \"pref_score\"}}, \"transform\": [{\"on\": \"nbd_pir\", \"regression\": \"pref_score\"}]}]}, {\"layer\": [{\"mark\": \"point\", \"encoding\": {\"color\": {\"type\": \"nominal\", \"field\": \"brand\"}, \"tooltip\": [{\"type\": \"nominal\", \"field\": \"speaker\"}, {\"type\": \"quantitative\", \"field\": \"sm_pir\"}, {\"type\": \"quantitative\", \"field\": \"pref_score\"}], \"x\": {\"type\": \"quantitative\", \"field\": \"sm_pir\"}, \"y\": {\"type\": \"quantitative\", \"field\": \"pref_score\"}}}, {\"mark\": \"line\", \"encoding\": {\"color\": {\"type\": \"nominal\", \"field\": \"brand\"}, \"tooltip\": [{\"type\": \"nominal\", \"field\": \"speaker\"}, {\"type\": \"quantitative\", \"field\": \"sm_pir\"}, {\"type\": \"quantitative\", \"field\": \"pref_score\"}], \"x\": {\"type\": \"quantitative\", \"field\": \"sm_pir\"}, \"y\": {\"type\": \"quantitative\", \"field\": \"pref_score\"}}, \"transform\": [{\"on\": \"sm_pir\", \"regression\": \"pref_score\"}]}]}]}], \"data\": {\"name\": \"data-fad3aa6108149225340222c0fca83637\"}, \"$schema\": \"https://vega.github.io/schema/vega-lite/v4.0.2.json\", \"datasets\": {\"data-fad3aa6108149225340222c0fca83637\": [{\"speaker\": \"Adam S2V\", \"brand\": \"Adam\", \"pref_score\": 4.8, \"lfx_hz\": 43, \"nbd_on\": 0.38, \"nbd_pir\": 0.3, \"sm_pir\": 0.45}, {\"speaker\": \"Ascend Acoustics Sierra 2\", \"brand\": \"Ascend Acoustics\", \"pref_score\": 4.3, \"lfx_hz\": 49, \"nbd_on\": 0.56, \"nbd_pir\": 0.41, \"sm_pir\": 0.65}, {\"speaker\": \"Ascend Acoustics CMT-340\", \"brand\": \"Ascend Acoustics\", \"pref_score\": 2.8, \"lfx_hz\": 64, \"nbd_on\": 0.58, \"nbd_pir\": 0.47, \"sm_pir\": 0.36}, {\"speaker\": \"Ascend Acoustics CBM-170 SE\", \"brand\": \"Ascend Acoustics\", \"pref_score\": 3.9, \"lfx_hz\": 62, \"nbd_on\": 0.38, \"nbd_pir\": 0.34, \"sm_pir\": 0.4}, {\"speaker\": \"Dayton Audio B652-AIR\", \"brand\": \"Dayton Audio\", \"pref_score\": 1.3, \"lfx_hz\": 73, \"nbd_on\": 0.94, \"nbd_pir\": 0.7, \"sm_pir\": 0.46}, {\"speaker\": \"JBL 104\", \"brand\": \"JBL\", \"pref_score\": 0.8, \"lfx_hz\": 60, \"nbd_on\": 0.95, \"nbd_pir\": 0.63, \"sm_pir\": 0.02}, {\"speaker\": \"JBL 705P\", \"brand\": \"JBL\", \"pref_score\": 4.2, \"lfx_hz\": 41, \"nbd_on\": 0.5, \"nbd_pir\": 0.42, \"sm_pir\": 0.39}, {\"speaker\": \"Kali IN-8\", \"brand\": \"Kali\", \"pref_score\": 4.5, \"lfx_hz\": 35, \"nbd_on\": 0.62, \"nbd_pir\": 0.43, \"sm_pir\": 0.6}, {\"speaker\": \"Pioneer SP-BS22-LR\", \"brand\": \"Pioneer\", \"pref_score\": 4.6, \"lfx_hz\": 56, \"nbd_on\": 0.49, \"nbd_pir\": 0.35, \"sm_pir\": 0.73}, {\"speaker\": \"Revel C52\", \"brand\": \"Revel\", \"pref_score\": 5.0, \"lfx_hz\": 62, \"nbd_on\": 0.43, \"nbd_pir\": 0.27, \"sm_pir\": 0.82}, {\"speaker\": \"Revel F35\", \"brand\": \"Revel\", \"pref_score\": 4.6, \"lfx_hz\": 56, \"nbd_on\": 0.41, \"nbd_pir\": 0.35, \"sm_pir\": 0.65}, {\"speaker\": \"Revel M16\", \"brand\": \"Revel\", \"pref_score\": 4.6, \"lfx_hz\": 45, \"nbd_on\": 0.5, \"nbd_pir\": 0.39, \"sm_pir\": 0.61}, {\"speaker\": \"Revel F208\", \"brand\": \"Revel\", \"pref_score\": 7.0, \"lfx_hz\": 24, \"nbd_on\": 0.25, \"nbd_pir\": 0.17, \"sm_pir\": 0.61}, {\"speaker\": \"Elac Adante AS-61\", \"brand\": \"Revel\", \"pref_score\": 4.2, \"lfx_hz\": 41, \"nbd_on\": 0.68, \"nbd_pir\": 0.53, \"sm_pir\": 0.75}, {\"speaker\": \"Emotiva Airmotive 6s\", \"brand\": \"Elac\", \"pref_score\": 4.8, \"lfx_hz\": 38, \"nbd_on\": 0.44, \"nbd_pir\": 0.43, \"sm_pir\": 0.58}, {\"speaker\": \"JBL Control 1 Pro\", \"brand\": \"Emotiva\", \"pref_score\": 1.9, \"lfx_hz\": 87, \"nbd_on\": 0.57, \"nbd_pir\": 0.42, \"sm_pir\": 0.12}, {\"speaker\": \"JBL 305P Mark ii\", \"brand\": \"JBL\", \"pref_score\": 3.8, \"lfx_hz\": 41, \"nbd_on\": 0.45, \"nbd_pir\": 0.39, \"sm_pir\": 0.14}, {\"speaker\": \"JBL 4367\", \"brand\": \"JBL\", \"pref_score\": 6.7, \"lfx_hz\": 34, \"nbd_on\": 0.24, \"nbd_pir\": 0.22, \"sm_pir\": 0.83}, {\"speaker\": \"JBL M2\", \"brand\": \"JBL\", \"pref_score\": 6.8, \"lfx_hz\": 26, \"nbd_on\": 0.16, \"nbd_pir\": 0.16, \"sm_pir\": 0.5}, {\"speaker\": \"Micca RB42\", \"brand\": \"JBL\", \"pref_score\": 4.1, \"lfx_hz\": 47, \"nbd_on\": 0.43, \"nbd_pir\": 0.41, \"sm_pir\": 0.42}, {\"speaker\": \"Selah Audio RC3R\", \"brand\": \"Micca\", \"pref_score\": 3.7, \"lfx_hz\": 54, \"nbd_on\": 0.38, \"nbd_pir\": 0.3, \"sm_pir\": 0.14}, {\"speaker\": \"Harbeth Monitor 30.0\", \"brand\": \"Selah Audio\", \"pref_score\": 4.5, \"lfx_hz\": 52, \"nbd_on\": 0.47, \"nbd_pir\": 0.4, \"sm_pir\": 0.68}, {\"speaker\": \"KEF Q100\", \"brand\": \"Harbeth\", \"pref_score\": 3.9, \"lfx_hz\": 47, \"nbd_on\": 0.58, \"nbd_pir\": 0.38, \"sm_pir\": 0.44}, {\"speaker\": \"KEF R3\", \"brand\": \"KEF\", \"pref_score\": 5.8, \"lfx_hz\": 35, \"nbd_on\": 0.3, \"nbd_pir\": 0.27, \"sm_pir\": 0.58}, {\"speaker\": \"KEF LS50\", \"brand\": \"KEF\", \"pref_score\": 4.1, \"lfx_hz\": 45, \"nbd_on\": 0.63, \"nbd_pir\": 0.44, \"sm_pir\": 0.61}, {\"speaker\": \"KEF Reference 5\", \"brand\": \"KEF\", \"pref_score\": 7.4, \"lfx_hz\": 23, \"nbd_on\": 0.24, \"nbd_pir\": 0.16, \"sm_pir\": 0.74}, {\"speaker\": \"Polk T15\", \"brand\": \"KEF\", \"pref_score\": 0.5, \"lfx_hz\": 71, \"nbd_on\": 0.97, \"nbd_pir\": 0.7, \"sm_pir\": 0.14}, {\"speaker\": \"Neumann KH 80\", \"brand\": \"Polk\", \"pref_score\": 4.6, \"lfx_hz\": 52, \"nbd_on\": 0.32, \"nbd_pir\": 0.31, \"sm_pir\": 0.44}, {\"speaker\": \"Realistic MC-1000\", \"brand\": \"Neumann\", \"pref_score\": -0.2, \"lfx_hz\": 109, \"nbd_on\": 0.98, \"nbd_pir\": 0.92, \"sm_pir\": 0.46}, {\"speaker\": \"Yamaha HS5\", \"brand\": \"Realistic\", \"pref_score\": 3.7, \"lfx_hz\": 54, \"nbd_on\": 0.41, \"nbd_pir\": 0.36, \"sm_pir\": 0.26}, {\"speaker\": \"NHT Pro M-00\", \"brand\": \"Yamaha\", \"pref_score\": 2.7, \"lfx_hz\": 66, \"nbd_on\": 0.51, \"nbd_pir\": 0.41, \"sm_pir\": 0.17}, {\"speaker\": \"Klipsch R41M\", \"brand\": \"NHT\", \"pref_score\": 2.0, \"lfx_hz\": 69, \"nbd_on\": 0.74, \"nbd_pir\": 0.55, \"sm_pir\": 0.31}, {\"speaker\": \"Klipsch RP-600M\", \"brand\": \"Klipsch\", \"pref_score\": 3.4, \"lfx_hz\": 38, \"nbd_on\": 0.51, \"nbd_pir\": 0.52, \"sm_pir\": 0.12}, {\"speaker\": \"Genelec 8341A\", \"brand\": \"Klipsch\", \"pref_score\": 6.1, \"lfx_hz\": 35, \"nbd_on\": 0.28, \"nbd_pir\": 0.2, \"sm_pir\": 0.63}, {\"speaker\": \"Tannoy System 600\", \"brand\": \"Avantgarde Acoustic\", \"pref_score\": 2.4, \"lfx_hz\": 69, \"nbd_on\": 0.75, \"nbd_pir\": 0.57, \"sm_pir\": 0.54}, {\"speaker\": \"Zaph Audio ZA5\", \"brand\": \"CommonSense Audio\", \"pref_score\": 5.3, \"lfx_hz\": 43, \"nbd_on\": 0.47, \"nbd_pir\": 0.32, \"sm_pir\": 0.79}]}}, {\"mode\": \"vega-lite\"});\n",
       "</script>"
      ],
      "text/plain": [
       "alt.VConcatChart(...)"
      ]
     },
     "execution_count": 16,
     "metadata": {},
     "output_type": "execute_result"
    }
   ],
   "source": [
    "(g_lfx|g_nbd_on)&(g_nbd_pir|g_sm_pir)"
   ]
  },
  {
   "cell_type": "code",
   "execution_count": 24,
   "metadata": {},
   "outputs": [],
   "source": [
    "distribution = alt.Chart(source).mark_bar().encode(\n",
    "    x=alt.X('pref_score:Q', bin=True),\n",
    "    y='count()'\n",
    ").properties(width=300,height=300)"
   ]
  },
  {
   "cell_type": "code",
   "execution_count": 33,
   "metadata": {},
   "outputs": [],
   "source": [
    "spread = alt.Chart(source).mark_circle(size=30).encode(\n",
    "    x=alt.X('speaker', sort='y', axis=alt.Axis(labelAngle=45)),\n",
    "    y=alt.Y('pref_score')\n",
    ").properties(width=700,height=300)"
   ]
  },
  {
   "cell_type": "code",
   "execution_count": 34,
   "metadata": {},
   "outputs": [
    {
     "data": {
      "text/html": [
       "\n",
       "<div id=\"altair-viz-7882575b62ff4c8bb752a528105e0a2d\"></div>\n",
       "<script type=\"text/javascript\">\n",
       "  (function(spec, embedOpt){\n",
       "    const outputDiv = document.getElementById(\"altair-viz-7882575b62ff4c8bb752a528105e0a2d\");\n",
       "    const paths = {\n",
       "      \"vega\": \"https://cdn.jsdelivr.net/npm//vega@5?noext\",\n",
       "      \"vega-lib\": \"https://cdn.jsdelivr.net/npm//vega-lib?noext\",\n",
       "      \"vega-lite\": \"https://cdn.jsdelivr.net/npm//vega-lite@4.0.2?noext\",\n",
       "      \"vega-embed\": \"https://cdn.jsdelivr.net/npm//vega-embed@6?noext\",\n",
       "    };\n",
       "\n",
       "    function loadScript(lib) {\n",
       "      return new Promise(function(resolve, reject) {\n",
       "        var s = document.createElement('script');\n",
       "        s.src = paths[lib];\n",
       "        s.async = true;\n",
       "        s.onload = () => resolve(paths[lib]);\n",
       "        s.onerror = () => reject(`Error loading script: ${paths[lib]}`);\n",
       "        document.getElementsByTagName(\"head\")[0].appendChild(s);\n",
       "      });\n",
       "    }\n",
       "\n",
       "    function showError(err) {\n",
       "      outputDiv.innerHTML = `<div class=\"error\" style=\"color:red;\">${err}</div>`;\n",
       "      throw err;\n",
       "    }\n",
       "\n",
       "    function displayChart(vegaEmbed) {\n",
       "      vegaEmbed(outputDiv, spec, embedOpt)\n",
       "        .catch(err => showError(`Javascript Error: ${err.message}<br>This usually means there's a typo in your chart specification. See the javascript console for the full traceback.`));\n",
       "    }\n",
       "\n",
       "    if(typeof define === \"function\" && define.amd) {\n",
       "      requirejs.config({paths});\n",
       "      require([\"vega-embed\"], displayChart, err => showError(`Error loading script: ${err.message}`));\n",
       "    } else if (typeof vegaEmbed === \"function\") {\n",
       "      displayChart(vegaEmbed);\n",
       "    } else {\n",
       "      loadScript(\"vega\")\n",
       "        .then(() => loadScript(\"vega-lite\"))\n",
       "        .then(() => loadScript(\"vega-embed\"))\n",
       "        .catch(showError)\n",
       "        .then(() => displayChart(vegaEmbed));\n",
       "    }\n",
       "  })({\"config\": {\"view\": {\"continuousWidth\": 400, \"continuousHeight\": 300}}, \"hconcat\": [{\"mark\": {\"type\": \"circle\", \"size\": 30}, \"encoding\": {\"x\": {\"type\": \"nominal\", \"axis\": {\"labelAngle\": 45}, \"field\": \"speaker\", \"sort\": \"y\"}, \"y\": {\"type\": \"quantitative\", \"field\": \"pref_score\"}}, \"height\": 300, \"width\": 700}, {\"mark\": \"bar\", \"encoding\": {\"x\": {\"type\": \"quantitative\", \"bin\": true, \"field\": \"pref_score\"}, \"y\": {\"type\": \"quantitative\", \"aggregate\": \"count\"}}, \"height\": 300, \"width\": 300}], \"data\": {\"name\": \"data-fad3aa6108149225340222c0fca83637\"}, \"$schema\": \"https://vega.github.io/schema/vega-lite/v4.0.2.json\", \"datasets\": {\"data-fad3aa6108149225340222c0fca83637\": [{\"speaker\": \"Adam S2V\", \"brand\": \"Adam\", \"pref_score\": 4.8, \"lfx_hz\": 43, \"nbd_on\": 0.38, \"nbd_pir\": 0.3, \"sm_pir\": 0.45}, {\"speaker\": \"Ascend Acoustics Sierra 2\", \"brand\": \"Ascend Acoustics\", \"pref_score\": 4.3, \"lfx_hz\": 49, \"nbd_on\": 0.56, \"nbd_pir\": 0.41, \"sm_pir\": 0.65}, {\"speaker\": \"Ascend Acoustics CMT-340\", \"brand\": \"Ascend Acoustics\", \"pref_score\": 2.8, \"lfx_hz\": 64, \"nbd_on\": 0.58, \"nbd_pir\": 0.47, \"sm_pir\": 0.36}, {\"speaker\": \"Ascend Acoustics CBM-170 SE\", \"brand\": \"Ascend Acoustics\", \"pref_score\": 3.9, \"lfx_hz\": 62, \"nbd_on\": 0.38, \"nbd_pir\": 0.34, \"sm_pir\": 0.4}, {\"speaker\": \"Dayton Audio B652-AIR\", \"brand\": \"Dayton Audio\", \"pref_score\": 1.3, \"lfx_hz\": 73, \"nbd_on\": 0.94, \"nbd_pir\": 0.7, \"sm_pir\": 0.46}, {\"speaker\": \"JBL 104\", \"brand\": \"JBL\", \"pref_score\": 0.8, \"lfx_hz\": 60, \"nbd_on\": 0.95, \"nbd_pir\": 0.63, \"sm_pir\": 0.02}, {\"speaker\": \"JBL 705P\", \"brand\": \"JBL\", \"pref_score\": 4.2, \"lfx_hz\": 41, \"nbd_on\": 0.5, \"nbd_pir\": 0.42, \"sm_pir\": 0.39}, {\"speaker\": \"Kali IN-8\", \"brand\": \"Kali\", \"pref_score\": 4.5, \"lfx_hz\": 35, \"nbd_on\": 0.62, \"nbd_pir\": 0.43, \"sm_pir\": 0.6}, {\"speaker\": \"Pioneer SP-BS22-LR\", \"brand\": \"Pioneer\", \"pref_score\": 4.6, \"lfx_hz\": 56, \"nbd_on\": 0.49, \"nbd_pir\": 0.35, \"sm_pir\": 0.73}, {\"speaker\": \"Revel C52\", \"brand\": \"Revel\", \"pref_score\": 5.0, \"lfx_hz\": 62, \"nbd_on\": 0.43, \"nbd_pir\": 0.27, \"sm_pir\": 0.82}, {\"speaker\": \"Revel F35\", \"brand\": \"Revel\", \"pref_score\": 4.6, \"lfx_hz\": 56, \"nbd_on\": 0.41, \"nbd_pir\": 0.35, \"sm_pir\": 0.65}, {\"speaker\": \"Revel M16\", \"brand\": \"Revel\", \"pref_score\": 4.6, \"lfx_hz\": 45, \"nbd_on\": 0.5, \"nbd_pir\": 0.39, \"sm_pir\": 0.61}, {\"speaker\": \"Revel F208\", \"brand\": \"Revel\", \"pref_score\": 7.0, \"lfx_hz\": 24, \"nbd_on\": 0.25, \"nbd_pir\": 0.17, \"sm_pir\": 0.61}, {\"speaker\": \"Elac Adante AS-61\", \"brand\": \"Revel\", \"pref_score\": 4.2, \"lfx_hz\": 41, \"nbd_on\": 0.68, \"nbd_pir\": 0.53, \"sm_pir\": 0.75}, {\"speaker\": \"Emotiva Airmotive 6s\", \"brand\": \"Elac\", \"pref_score\": 4.8, \"lfx_hz\": 38, \"nbd_on\": 0.44, \"nbd_pir\": 0.43, \"sm_pir\": 0.58}, {\"speaker\": \"JBL Control 1 Pro\", \"brand\": \"Emotiva\", \"pref_score\": 1.9, \"lfx_hz\": 87, \"nbd_on\": 0.57, \"nbd_pir\": 0.42, \"sm_pir\": 0.12}, {\"speaker\": \"JBL 305P Mark ii\", \"brand\": \"JBL\", \"pref_score\": 3.8, \"lfx_hz\": 41, \"nbd_on\": 0.45, \"nbd_pir\": 0.39, \"sm_pir\": 0.14}, {\"speaker\": \"JBL 4367\", \"brand\": \"JBL\", \"pref_score\": 6.7, \"lfx_hz\": 34, \"nbd_on\": 0.24, \"nbd_pir\": 0.22, \"sm_pir\": 0.83}, {\"speaker\": \"JBL M2\", \"brand\": \"JBL\", \"pref_score\": 6.8, \"lfx_hz\": 26, \"nbd_on\": 0.16, \"nbd_pir\": 0.16, \"sm_pir\": 0.5}, {\"speaker\": \"Micca RB42\", \"brand\": \"JBL\", \"pref_score\": 4.1, \"lfx_hz\": 47, \"nbd_on\": 0.43, \"nbd_pir\": 0.41, \"sm_pir\": 0.42}, {\"speaker\": \"Selah Audio RC3R\", \"brand\": \"Micca\", \"pref_score\": 3.7, \"lfx_hz\": 54, \"nbd_on\": 0.38, \"nbd_pir\": 0.3, \"sm_pir\": 0.14}, {\"speaker\": \"Harbeth Monitor 30.0\", \"brand\": \"Selah Audio\", \"pref_score\": 4.5, \"lfx_hz\": 52, \"nbd_on\": 0.47, \"nbd_pir\": 0.4, \"sm_pir\": 0.68}, {\"speaker\": \"KEF Q100\", \"brand\": \"Harbeth\", \"pref_score\": 3.9, \"lfx_hz\": 47, \"nbd_on\": 0.58, \"nbd_pir\": 0.38, \"sm_pir\": 0.44}, {\"speaker\": \"KEF R3\", \"brand\": \"KEF\", \"pref_score\": 5.8, \"lfx_hz\": 35, \"nbd_on\": 0.3, \"nbd_pir\": 0.27, \"sm_pir\": 0.58}, {\"speaker\": \"KEF LS50\", \"brand\": \"KEF\", \"pref_score\": 4.1, \"lfx_hz\": 45, \"nbd_on\": 0.63, \"nbd_pir\": 0.44, \"sm_pir\": 0.61}, {\"speaker\": \"KEF Reference 5\", \"brand\": \"KEF\", \"pref_score\": 7.4, \"lfx_hz\": 23, \"nbd_on\": 0.24, \"nbd_pir\": 0.16, \"sm_pir\": 0.74}, {\"speaker\": \"Polk T15\", \"brand\": \"KEF\", \"pref_score\": 0.5, \"lfx_hz\": 71, \"nbd_on\": 0.97, \"nbd_pir\": 0.7, \"sm_pir\": 0.14}, {\"speaker\": \"Neumann KH 80\", \"brand\": \"Polk\", \"pref_score\": 4.6, \"lfx_hz\": 52, \"nbd_on\": 0.32, \"nbd_pir\": 0.31, \"sm_pir\": 0.44}, {\"speaker\": \"Realistic MC-1000\", \"brand\": \"Neumann\", \"pref_score\": -0.2, \"lfx_hz\": 109, \"nbd_on\": 0.98, \"nbd_pir\": 0.92, \"sm_pir\": 0.46}, {\"speaker\": \"Yamaha HS5\", \"brand\": \"Realistic\", \"pref_score\": 3.7, \"lfx_hz\": 54, \"nbd_on\": 0.41, \"nbd_pir\": 0.36, \"sm_pir\": 0.26}, {\"speaker\": \"NHT Pro M-00\", \"brand\": \"Yamaha\", \"pref_score\": 2.7, \"lfx_hz\": 66, \"nbd_on\": 0.51, \"nbd_pir\": 0.41, \"sm_pir\": 0.17}, {\"speaker\": \"Klipsch R41M\", \"brand\": \"NHT\", \"pref_score\": 2.0, \"lfx_hz\": 69, \"nbd_on\": 0.74, \"nbd_pir\": 0.55, \"sm_pir\": 0.31}, {\"speaker\": \"Klipsch RP-600M\", \"brand\": \"Klipsch\", \"pref_score\": 3.4, \"lfx_hz\": 38, \"nbd_on\": 0.51, \"nbd_pir\": 0.52, \"sm_pir\": 0.12}, {\"speaker\": \"Genelec 8341A\", \"brand\": \"Klipsch\", \"pref_score\": 6.1, \"lfx_hz\": 35, \"nbd_on\": 0.28, \"nbd_pir\": 0.2, \"sm_pir\": 0.63}, {\"speaker\": \"Tannoy System 600\", \"brand\": \"Avantgarde Acoustic\", \"pref_score\": 2.4, \"lfx_hz\": 69, \"nbd_on\": 0.75, \"nbd_pir\": 0.57, \"sm_pir\": 0.54}, {\"speaker\": \"Zaph Audio ZA5\", \"brand\": \"CommonSense Audio\", \"pref_score\": 5.3, \"lfx_hz\": 43, \"nbd_on\": 0.47, \"nbd_pir\": 0.32, \"sm_pir\": 0.79}]}}, {\"mode\": \"vega-lite\"});\n",
       "</script>"
      ],
      "text/plain": [
       "alt.HConcatChart(...)"
      ]
     },
     "execution_count": 34,
     "metadata": {},
     "output_type": "execute_result"
    }
   ],
   "source": [
    "spread|distribution"
   ]
  },
  {
   "cell_type": "code",
   "execution_count": null,
   "metadata": {},
   "outputs": [],
   "source": []
  }
 ],
 "metadata": {
  "kernelspec": {
   "display_name": "Python 3",
   "language": "python",
   "name": "python3"
  },
  "language_info": {
   "codemirror_mode": {
    "name": "ipython",
    "version": 3
   },
   "file_extension": ".py",
   "mimetype": "text/x-python",
   "name": "python",
   "nbconvert_exporter": "python",
   "pygments_lexer": "ipython3",
   "version": "3.7.7"
  }
 },
 "nbformat": 4,
 "nbformat_minor": 4
}
